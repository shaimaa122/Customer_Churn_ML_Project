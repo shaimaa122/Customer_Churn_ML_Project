{
  "nbformat": 4,
  "nbformat_minor": 0,
  "metadata": {
    "colab": {
      "name": "Customer_Segmentation_SDA_Final  - Shaima Alharbi  .ipynb",
      "provenance": [],
      "collapsed_sections": [
        "G4AKDcdzO-NJ",
        "i4WWuqSvSRHn",
        "TW9ossc4SZ2V",
        "d81mfpSMO44N",
        "7CYVFkbvSp73",
        "ZdEficvnZAy-",
        "aVZBZOogZSoB",
        "B8bhuUFeZZdN",
        "UD1NIUmIV04j",
        "tMfQ9Uy7Z40P"
      ],
      "authorship_tag": "ABX9TyO7d07khjigYXgJNjML+UAo",
      "include_colab_link": true
    },
    "kernelspec": {
      "name": "python3",
      "display_name": "Python 3"
    }
  },
  "cells": [
    {
      "cell_type": "markdown",
      "metadata": {
        "id": "view-in-github",
        "colab_type": "text"
      },
      "source": [
        "<a href=\"https://colab.research.google.com/github/shaimaa122/Customer_Churn_ML_Project/blob/main/Customer_Segmentation_SDA_Final_Shaima_Alharbi_.ipynb\" target=\"_parent\"><img src=\"https://colab.research.google.com/assets/colab-badge.svg\" alt=\"Open In Colab\"/></a>"
      ]
    },
    {
      "cell_type": "markdown",
      "metadata": {
        "id": "q8SDhG1Jcwnk"
      },
      "source": [
        "# Saudi Digital Academy \n",
        "## Customer Segmentation - Final Project - Feb 25th, 2021\n",
        "## *Shaima Alharbi*\n",
        "---\n",
        " \n",
        "\n",
        "\n",
        " \n",
        "\n",
        "### Overview: \n",
        "In this final project, My goal is to help companies or market to success the business by classfiy the customers into segmentations that  are similar in specific ways.\n",
        "\n",
        "- [ Data ](https://github.com/shaimaa122/Customer_segment/blob/main/Train.csv)\n",
        "- [ Data Dictionary](https://github.com/shaimaa122/Customer_Segmentation_SDA_Final/blob/main/Customer%20Segmentation%20-%20Data%20Dictinory.pdf)\n",
        "- [ Resource ](https://www.kaggle.com/vetrirah/customer)"
      ]
    },
    {
      "cell_type": "code",
      "metadata": {
        "id": "i9V8cvEIECnk"
      },
      "source": [
        "# Importing needed libraries\n",
        "import pandas as pd\n",
        "import numpy as np\n",
        "import seaborn as sns\n",
        "import matplotlib.pyplot as plt\n",
        "\n",
        "from sklearn.preprocessing import StandardScaler\n",
        "from sklearn.linear_model import LogisticRegression\n",
        "from sklearn.tree import DecisionTreeClassifier\n",
        "from sklearn.ensemble import RandomForestClassifier\n",
        "from sklearn.linear_model import SGDClassifier\n",
        "from sklearn.neighbors import KNeighborsClassifier\n",
        "from sklearn.ensemble import StackingClassifier\n",
        "\n",
        "from sklearn.model_selection import train_test_split\n",
        "\n",
        "from sklearn.model_selection import cross_val_score\n",
        "from sklearn.model_selection import RepeatedStratifiedKFold\n",
        "from sklearn.model_selection import GridSearchCV\n",
        "from sklearn.metrics import accuracy_score, recall_score, precision_score\n",
        "from sklearn.metrics import  confusion_matrix\n",
        "\n",
        "import warnings\n",
        "warnings.filterwarnings(\"ignore\")\n",
        "sns.set_style(\"whitegrid\")\n",
        "sns.set_palette('Set3')"
      ],
      "execution_count": null,
      "outputs": []
    },
    {
      "cell_type": "code",
      "metadata": {
        "id": "9xb-5bCVOYtQ"
      },
      "source": [
        "url=\"https://github.com/shaimaa122/Customer_segment/raw/main/Train.csv\" \n",
        "df= pd.read_csv(url) # Load the dataset"
      ],
      "execution_count": null,
      "outputs": []
    },
    {
      "cell_type": "markdown",
      "metadata": {
        "id": "uQ9nRdt6OjSB"
      },
      "source": [
        "### Exploratory Data Analysis ( EDA )"
      ]
    },
    {
      "cell_type": "code",
      "metadata": {
        "colab": {
          "base_uri": "https://localhost:8080/",
          "height": 221
        },
        "id": "__yZjVm_Oc9q",
        "outputId": "24864ffa-8d51-4afb-ae80-02d908291dd5"
      },
      "source": [
        "df.sample(5) # Disply sample of data"
      ],
      "execution_count": null,
      "outputs": [
        {
          "output_type": "execute_result",
          "data": {
            "text/html": [
              "<div>\n",
              "<style scoped>\n",
              "    .dataframe tbody tr th:only-of-type {\n",
              "        vertical-align: middle;\n",
              "    }\n",
              "\n",
              "    .dataframe tbody tr th {\n",
              "        vertical-align: top;\n",
              "    }\n",
              "\n",
              "    .dataframe thead th {\n",
              "        text-align: right;\n",
              "    }\n",
              "</style>\n",
              "<table border=\"1\" class=\"dataframe\">\n",
              "  <thead>\n",
              "    <tr style=\"text-align: right;\">\n",
              "      <th></th>\n",
              "      <th>ID</th>\n",
              "      <th>Gender</th>\n",
              "      <th>Ever_Married</th>\n",
              "      <th>Age</th>\n",
              "      <th>Graduated</th>\n",
              "      <th>Profession</th>\n",
              "      <th>Work_Experience</th>\n",
              "      <th>Spending_Score</th>\n",
              "      <th>Family_Size</th>\n",
              "      <th>Var_1</th>\n",
              "      <th>Segmentation</th>\n",
              "    </tr>\n",
              "  </thead>\n",
              "  <tbody>\n",
              "    <tr>\n",
              "      <th>4235</th>\n",
              "      <td>467201</td>\n",
              "      <td>Female</td>\n",
              "      <td>No</td>\n",
              "      <td>33</td>\n",
              "      <td>Yes</td>\n",
              "      <td>Engineer</td>\n",
              "      <td>NaN</td>\n",
              "      <td>Low</td>\n",
              "      <td>5.0</td>\n",
              "      <td>Cat_7</td>\n",
              "      <td>D</td>\n",
              "    </tr>\n",
              "    <tr>\n",
              "      <th>2707</th>\n",
              "      <td>460790</td>\n",
              "      <td>Female</td>\n",
              "      <td>Yes</td>\n",
              "      <td>42</td>\n",
              "      <td>Yes</td>\n",
              "      <td>Artist</td>\n",
              "      <td>0.0</td>\n",
              "      <td>High</td>\n",
              "      <td>2.0</td>\n",
              "      <td>Cat_2</td>\n",
              "      <td>C</td>\n",
              "    </tr>\n",
              "    <tr>\n",
              "      <th>2490</th>\n",
              "      <td>465452</td>\n",
              "      <td>Male</td>\n",
              "      <td>Yes</td>\n",
              "      <td>47</td>\n",
              "      <td>No</td>\n",
              "      <td>Entertainment</td>\n",
              "      <td>0.0</td>\n",
              "      <td>High</td>\n",
              "      <td>5.0</td>\n",
              "      <td>Cat_6</td>\n",
              "      <td>C</td>\n",
              "    </tr>\n",
              "    <tr>\n",
              "      <th>3932</th>\n",
              "      <td>463328</td>\n",
              "      <td>Female</td>\n",
              "      <td>No</td>\n",
              "      <td>23</td>\n",
              "      <td>No</td>\n",
              "      <td>Healthcare</td>\n",
              "      <td>0.0</td>\n",
              "      <td>Low</td>\n",
              "      <td>4.0</td>\n",
              "      <td>Cat_6</td>\n",
              "      <td>D</td>\n",
              "    </tr>\n",
              "    <tr>\n",
              "      <th>241</th>\n",
              "      <td>464150</td>\n",
              "      <td>Female</td>\n",
              "      <td>Yes</td>\n",
              "      <td>59</td>\n",
              "      <td>Yes</td>\n",
              "      <td>Artist</td>\n",
              "      <td>0.0</td>\n",
              "      <td>Average</td>\n",
              "      <td>3.0</td>\n",
              "      <td>Cat_6</td>\n",
              "      <td>C</td>\n",
              "    </tr>\n",
              "  </tbody>\n",
              "</table>\n",
              "</div>"
            ],
            "text/plain": [
              "          ID  Gender Ever_Married  ...  Family_Size  Var_1 Segmentation\n",
              "4235  467201  Female           No  ...          5.0  Cat_7            D\n",
              "2707  460790  Female          Yes  ...          2.0  Cat_2            C\n",
              "2490  465452    Male          Yes  ...          5.0  Cat_6            C\n",
              "3932  463328  Female           No  ...          4.0  Cat_6            D\n",
              "241   464150  Female          Yes  ...          3.0  Cat_6            C\n",
              "\n",
              "[5 rows x 11 columns]"
            ]
          },
          "metadata": {
            "tags": []
          },
          "execution_count": 3
        }
      ]
    },
    {
      "cell_type": "code",
      "metadata": {
        "colab": {
          "base_uri": "https://localhost:8080/"
        },
        "id": "9sCc-DunOmxy",
        "outputId": "e1229221-e335-4e49-e1a7-364e6f0c3511"
      },
      "source": [
        "df.shape # Check the shape of data"
      ],
      "execution_count": null,
      "outputs": [
        {
          "output_type": "execute_result",
          "data": {
            "text/plain": [
              "(8068, 11)"
            ]
          },
          "metadata": {
            "tags": []
          },
          "execution_count": 4
        }
      ]
    },
    {
      "cell_type": "code",
      "metadata": {
        "id": "qx_0RXYvOow6"
      },
      "source": [
        "df= df.rename(columns={'Var_1': 'Category'}) # Replace the column name to Category"
      ],
      "execution_count": null,
      "outputs": []
    },
    {
      "cell_type": "code",
      "metadata": {
        "colab": {
          "base_uri": "https://localhost:8080/"
        },
        "id": "Z0DyUbbHOq7d",
        "outputId": "8bcc79c6-4c1d-4dda-b537-5e2b4f738299"
      },
      "source": [
        "df.columns # Disply the columns name"
      ],
      "execution_count": null,
      "outputs": [
        {
          "output_type": "execute_result",
          "data": {
            "text/plain": [
              "Index(['ID', 'Gender', 'Ever_Married', 'Age', 'Graduated', 'Profession',\n",
              "       'Work_Experience', 'Spending_Score', 'Family_Size', 'Category',\n",
              "       'Segmentation'],\n",
              "      dtype='object')"
            ]
          },
          "metadata": {
            "tags": []
          },
          "execution_count": 6
        }
      ]
    },
    {
      "cell_type": "code",
      "metadata": {
        "colab": {
          "base_uri": "https://localhost:8080/"
        },
        "id": "eG2glXhdOtVN",
        "outputId": "a6074c09-2531-4db5-d038-5d0d18802d68"
      },
      "source": [
        "df.info() # Summary of dataframe"
      ],
      "execution_count": null,
      "outputs": [
        {
          "output_type": "stream",
          "text": [
            "<class 'pandas.core.frame.DataFrame'>\n",
            "RangeIndex: 8068 entries, 0 to 8067\n",
            "Data columns (total 11 columns):\n",
            " #   Column           Non-Null Count  Dtype  \n",
            "---  ------           --------------  -----  \n",
            " 0   ID               8068 non-null   int64  \n",
            " 1   Gender           8068 non-null   object \n",
            " 2   Ever_Married     7928 non-null   object \n",
            " 3   Age              8068 non-null   int64  \n",
            " 4   Graduated        7990 non-null   object \n",
            " 5   Profession       7944 non-null   object \n",
            " 6   Work_Experience  7239 non-null   float64\n",
            " 7   Spending_Score   8068 non-null   object \n",
            " 8   Family_Size      7733 non-null   float64\n",
            " 9   Category         7992 non-null   object \n",
            " 10  Segmentation     8068 non-null   object \n",
            "dtypes: float64(2), int64(2), object(7)\n",
            "memory usage: 693.5+ KB\n"
          ],
          "name": "stdout"
        }
      ]
    },
    {
      "cell_type": "code",
      "metadata": {
        "colab": {
          "base_uri": "https://localhost:8080/",
          "height": 191
        },
        "id": "EtDSm8fCOwP_",
        "outputId": "158910b2-afc4-42ad-db74-c03583e960f4"
      },
      "source": [
        "df.describe(exclude='number') # Describing categorical data"
      ],
      "execution_count": null,
      "outputs": [
        {
          "output_type": "execute_result",
          "data": {
            "text/html": [
              "<div>\n",
              "<style scoped>\n",
              "    .dataframe tbody tr th:only-of-type {\n",
              "        vertical-align: middle;\n",
              "    }\n",
              "\n",
              "    .dataframe tbody tr th {\n",
              "        vertical-align: top;\n",
              "    }\n",
              "\n",
              "    .dataframe thead th {\n",
              "        text-align: right;\n",
              "    }\n",
              "</style>\n",
              "<table border=\"1\" class=\"dataframe\">\n",
              "  <thead>\n",
              "    <tr style=\"text-align: right;\">\n",
              "      <th></th>\n",
              "      <th>Gender</th>\n",
              "      <th>Ever_Married</th>\n",
              "      <th>Graduated</th>\n",
              "      <th>Profession</th>\n",
              "      <th>Spending_Score</th>\n",
              "      <th>Category</th>\n",
              "      <th>Segmentation</th>\n",
              "    </tr>\n",
              "  </thead>\n",
              "  <tbody>\n",
              "    <tr>\n",
              "      <th>count</th>\n",
              "      <td>8068</td>\n",
              "      <td>7928</td>\n",
              "      <td>7990</td>\n",
              "      <td>7944</td>\n",
              "      <td>8068</td>\n",
              "      <td>7992</td>\n",
              "      <td>8068</td>\n",
              "    </tr>\n",
              "    <tr>\n",
              "      <th>unique</th>\n",
              "      <td>2</td>\n",
              "      <td>2</td>\n",
              "      <td>2</td>\n",
              "      <td>9</td>\n",
              "      <td>3</td>\n",
              "      <td>7</td>\n",
              "      <td>4</td>\n",
              "    </tr>\n",
              "    <tr>\n",
              "      <th>top</th>\n",
              "      <td>Male</td>\n",
              "      <td>Yes</td>\n",
              "      <td>Yes</td>\n",
              "      <td>Artist</td>\n",
              "      <td>Low</td>\n",
              "      <td>Cat_6</td>\n",
              "      <td>D</td>\n",
              "    </tr>\n",
              "    <tr>\n",
              "      <th>freq</th>\n",
              "      <td>4417</td>\n",
              "      <td>4643</td>\n",
              "      <td>4968</td>\n",
              "      <td>2516</td>\n",
              "      <td>4878</td>\n",
              "      <td>5238</td>\n",
              "      <td>2268</td>\n",
              "    </tr>\n",
              "  </tbody>\n",
              "</table>\n",
              "</div>"
            ],
            "text/plain": [
              "       Gender Ever_Married Graduated  ... Spending_Score Category Segmentation\n",
              "count    8068         7928      7990  ...           8068     7992         8068\n",
              "unique      2            2         2  ...              3        7            4\n",
              "top      Male          Yes       Yes  ...            Low    Cat_6            D\n",
              "freq     4417         4643      4968  ...           4878     5238         2268\n",
              "\n",
              "[4 rows x 7 columns]"
            ]
          },
          "metadata": {
            "tags": []
          },
          "execution_count": 8
        }
      ]
    },
    {
      "cell_type": "code",
      "metadata": {
        "colab": {
          "base_uri": "https://localhost:8080/",
          "height": 313
        },
        "id": "vIn2667kOxKu",
        "outputId": "dfbd2f33-9054-4cbf-82be-a5feceb965bb"
      },
      "source": [
        "df.describe() # Viewing some basic statistical details‏"
      ],
      "execution_count": null,
      "outputs": [
        {
          "output_type": "execute_result",
          "data": {
            "text/html": [
              "<div>\n",
              "<style scoped>\n",
              "    .dataframe tbody tr th:only-of-type {\n",
              "        vertical-align: middle;\n",
              "    }\n",
              "\n",
              "    .dataframe tbody tr th {\n",
              "        vertical-align: top;\n",
              "    }\n",
              "\n",
              "    .dataframe thead th {\n",
              "        text-align: right;\n",
              "    }\n",
              "</style>\n",
              "<table border=\"1\" class=\"dataframe\">\n",
              "  <thead>\n",
              "    <tr style=\"text-align: right;\">\n",
              "      <th></th>\n",
              "      <th>ID</th>\n",
              "      <th>Age</th>\n",
              "      <th>Work_Experience</th>\n",
              "      <th>Family_Size</th>\n",
              "    </tr>\n",
              "  </thead>\n",
              "  <tbody>\n",
              "    <tr>\n",
              "      <th>count</th>\n",
              "      <td>8068.000000</td>\n",
              "      <td>8068.000000</td>\n",
              "      <td>7239.000000</td>\n",
              "      <td>7733.000000</td>\n",
              "    </tr>\n",
              "    <tr>\n",
              "      <th>mean</th>\n",
              "      <td>463479.214551</td>\n",
              "      <td>43.466906</td>\n",
              "      <td>2.641663</td>\n",
              "      <td>2.850123</td>\n",
              "    </tr>\n",
              "    <tr>\n",
              "      <th>std</th>\n",
              "      <td>2595.381232</td>\n",
              "      <td>16.711696</td>\n",
              "      <td>3.406763</td>\n",
              "      <td>1.531413</td>\n",
              "    </tr>\n",
              "    <tr>\n",
              "      <th>min</th>\n",
              "      <td>458982.000000</td>\n",
              "      <td>18.000000</td>\n",
              "      <td>0.000000</td>\n",
              "      <td>1.000000</td>\n",
              "    </tr>\n",
              "    <tr>\n",
              "      <th>25%</th>\n",
              "      <td>461240.750000</td>\n",
              "      <td>30.000000</td>\n",
              "      <td>0.000000</td>\n",
              "      <td>2.000000</td>\n",
              "    </tr>\n",
              "    <tr>\n",
              "      <th>50%</th>\n",
              "      <td>463472.500000</td>\n",
              "      <td>40.000000</td>\n",
              "      <td>1.000000</td>\n",
              "      <td>3.000000</td>\n",
              "    </tr>\n",
              "    <tr>\n",
              "      <th>75%</th>\n",
              "      <td>465744.250000</td>\n",
              "      <td>53.000000</td>\n",
              "      <td>4.000000</td>\n",
              "      <td>4.000000</td>\n",
              "    </tr>\n",
              "    <tr>\n",
              "      <th>max</th>\n",
              "      <td>467974.000000</td>\n",
              "      <td>89.000000</td>\n",
              "      <td>14.000000</td>\n",
              "      <td>9.000000</td>\n",
              "    </tr>\n",
              "  </tbody>\n",
              "</table>\n",
              "</div>"
            ],
            "text/plain": [
              "                  ID          Age  Work_Experience  Family_Size\n",
              "count    8068.000000  8068.000000      7239.000000  7733.000000\n",
              "mean   463479.214551    43.466906         2.641663     2.850123\n",
              "std      2595.381232    16.711696         3.406763     1.531413\n",
              "min    458982.000000    18.000000         0.000000     1.000000\n",
              "25%    461240.750000    30.000000         0.000000     2.000000\n",
              "50%    463472.500000    40.000000         1.000000     3.000000\n",
              "75%    465744.250000    53.000000         4.000000     4.000000\n",
              "max    467974.000000    89.000000        14.000000     9.000000"
            ]
          },
          "metadata": {
            "tags": []
          },
          "execution_count": 9
        }
      ]
    },
    {
      "cell_type": "code",
      "metadata": {
        "colab": {
          "base_uri": "https://localhost:8080/"
        },
        "id": "MIK9FQqPOzSq",
        "outputId": "7435ebb3-b030-4f4d-f1fc-adc3d15976d6"
      },
      "source": [
        "len(df.ID.unique()) ,len(df) # Check if ID is duplicated or not"
      ],
      "execution_count": null,
      "outputs": [
        {
          "output_type": "execute_result",
          "data": {
            "text/plain": [
              "(8068, 8068)"
            ]
          },
          "metadata": {
            "tags": []
          },
          "execution_count": 10
        }
      ]
    },
    {
      "cell_type": "code",
      "metadata": {
        "id": "xC8WpxgLO3Rj"
      },
      "source": [
        "df=df.drop('ID',axis =1) # Drop the ID column"
      ],
      "execution_count": null,
      "outputs": []
    },
    {
      "cell_type": "code",
      "metadata": {
        "colab": {
          "base_uri": "https://localhost:8080/",
          "height": 221
        },
        "id": "RFk9aNJiO53d",
        "outputId": "ca162116-8e19-4376-b6d0-464cd496862d"
      },
      "source": [
        "df.head()"
      ],
      "execution_count": null,
      "outputs": [
        {
          "output_type": "execute_result",
          "data": {
            "text/html": [
              "<div>\n",
              "<style scoped>\n",
              "    .dataframe tbody tr th:only-of-type {\n",
              "        vertical-align: middle;\n",
              "    }\n",
              "\n",
              "    .dataframe tbody tr th {\n",
              "        vertical-align: top;\n",
              "    }\n",
              "\n",
              "    .dataframe thead th {\n",
              "        text-align: right;\n",
              "    }\n",
              "</style>\n",
              "<table border=\"1\" class=\"dataframe\">\n",
              "  <thead>\n",
              "    <tr style=\"text-align: right;\">\n",
              "      <th></th>\n",
              "      <th>Gender</th>\n",
              "      <th>Ever_Married</th>\n",
              "      <th>Age</th>\n",
              "      <th>Graduated</th>\n",
              "      <th>Profession</th>\n",
              "      <th>Work_Experience</th>\n",
              "      <th>Spending_Score</th>\n",
              "      <th>Family_Size</th>\n",
              "      <th>Category</th>\n",
              "      <th>Segmentation</th>\n",
              "    </tr>\n",
              "  </thead>\n",
              "  <tbody>\n",
              "    <tr>\n",
              "      <th>0</th>\n",
              "      <td>Male</td>\n",
              "      <td>No</td>\n",
              "      <td>22</td>\n",
              "      <td>No</td>\n",
              "      <td>Healthcare</td>\n",
              "      <td>1.0</td>\n",
              "      <td>Low</td>\n",
              "      <td>4.0</td>\n",
              "      <td>Cat_4</td>\n",
              "      <td>D</td>\n",
              "    </tr>\n",
              "    <tr>\n",
              "      <th>1</th>\n",
              "      <td>Female</td>\n",
              "      <td>Yes</td>\n",
              "      <td>38</td>\n",
              "      <td>Yes</td>\n",
              "      <td>Engineer</td>\n",
              "      <td>NaN</td>\n",
              "      <td>Average</td>\n",
              "      <td>3.0</td>\n",
              "      <td>Cat_4</td>\n",
              "      <td>A</td>\n",
              "    </tr>\n",
              "    <tr>\n",
              "      <th>2</th>\n",
              "      <td>Female</td>\n",
              "      <td>Yes</td>\n",
              "      <td>67</td>\n",
              "      <td>Yes</td>\n",
              "      <td>Engineer</td>\n",
              "      <td>1.0</td>\n",
              "      <td>Low</td>\n",
              "      <td>1.0</td>\n",
              "      <td>Cat_6</td>\n",
              "      <td>B</td>\n",
              "    </tr>\n",
              "    <tr>\n",
              "      <th>3</th>\n",
              "      <td>Male</td>\n",
              "      <td>Yes</td>\n",
              "      <td>67</td>\n",
              "      <td>Yes</td>\n",
              "      <td>Lawyer</td>\n",
              "      <td>0.0</td>\n",
              "      <td>High</td>\n",
              "      <td>2.0</td>\n",
              "      <td>Cat_6</td>\n",
              "      <td>B</td>\n",
              "    </tr>\n",
              "    <tr>\n",
              "      <th>4</th>\n",
              "      <td>Female</td>\n",
              "      <td>Yes</td>\n",
              "      <td>40</td>\n",
              "      <td>Yes</td>\n",
              "      <td>Entertainment</td>\n",
              "      <td>NaN</td>\n",
              "      <td>High</td>\n",
              "      <td>6.0</td>\n",
              "      <td>Cat_6</td>\n",
              "      <td>A</td>\n",
              "    </tr>\n",
              "  </tbody>\n",
              "</table>\n",
              "</div>"
            ],
            "text/plain": [
              "   Gender Ever_Married  Age  ... Family_Size Category  Segmentation\n",
              "0    Male           No   22  ...         4.0    Cat_4             D\n",
              "1  Female          Yes   38  ...         3.0    Cat_4             A\n",
              "2  Female          Yes   67  ...         1.0    Cat_6             B\n",
              "3    Male          Yes   67  ...         2.0    Cat_6             B\n",
              "4  Female          Yes   40  ...         6.0    Cat_6             A\n",
              "\n",
              "[5 rows x 10 columns]"
            ]
          },
          "metadata": {
            "tags": []
          },
          "execution_count": 12
        }
      ]
    },
    {
      "cell_type": "markdown",
      "metadata": {
        "id": "G4AKDcdzO-NJ"
      },
      "source": [
        "#### Checking Null Values"
      ]
    },
    {
      "cell_type": "code",
      "metadata": {
        "colab": {
          "base_uri": "https://localhost:8080/"
        },
        "id": "vG0etgs8PLUM",
        "outputId": "2f0d9c15-3bc1-4bd9-9e25-80dc96c02bb0"
      },
      "source": [
        "np.sum(df.isna()) # Check the null values"
      ],
      "execution_count": null,
      "outputs": [
        {
          "output_type": "execute_result",
          "data": {
            "text/plain": [
              "Gender               0\n",
              "Ever_Married       140\n",
              "Age                  0\n",
              "Graduated           78\n",
              "Profession         124\n",
              "Work_Experience    829\n",
              "Spending_Score       0\n",
              "Family_Size        335\n",
              "Category            76\n",
              "Segmentation         0\n",
              "dtype: int64"
            ]
          },
          "metadata": {
            "tags": []
          },
          "execution_count": 13
        }
      ]
    },
    {
      "cell_type": "markdown",
      "metadata": {
        "id": "x1er0AfsPF7M"
      },
      "source": [
        "- ` Ever_Married` :\n",
        "\n",
        " Fill the null values by the Mode (The value that appears most often)"
      ]
    },
    {
      "cell_type": "code",
      "metadata": {
        "colab": {
          "base_uri": "https://localhost:8080/"
        },
        "id": "zYaIAncyPUHQ",
        "outputId": "a295aca3-cbd4-4cad-ca5f-b53ad86b88be"
      },
      "source": [
        "df.Ever_Married.unique()"
      ],
      "execution_count": null,
      "outputs": [
        {
          "output_type": "execute_result",
          "data": {
            "text/plain": [
              "array(['No', 'Yes', nan], dtype=object)"
            ]
          },
          "metadata": {
            "tags": []
          },
          "execution_count": 14
        }
      ]
    },
    {
      "cell_type": "code",
      "metadata": {
        "colab": {
          "base_uri": "https://localhost:8080/"
        },
        "id": "tliG-BCkPmx5",
        "outputId": "4caed586-31e1-4968-f4c4-ad7c979172c6"
      },
      "source": [
        "df.Ever_Married.value_counts()"
      ],
      "execution_count": null,
      "outputs": [
        {
          "output_type": "execute_result",
          "data": {
            "text/plain": [
              "Yes    4643\n",
              "No     3285\n",
              "Name: Ever_Married, dtype: int64"
            ]
          },
          "metadata": {
            "tags": []
          },
          "execution_count": 15
        }
      ]
    },
    {
      "cell_type": "code",
      "metadata": {
        "id": "oBBGwuI-PoVu"
      },
      "source": [
        "df[\"Ever_Married\"].fillna(\"Yes\", inplace = True)"
      ],
      "execution_count": null,
      "outputs": []
    },
    {
      "cell_type": "markdown",
      "metadata": {
        "id": "DufQtJ8cPuf_"
      },
      "source": [
        "- ` Graduated ` : \n",
        "\n",
        "    Fill the null values by the Mode (the value that appears most often)\n",
        "\n"
      ]
    },
    {
      "cell_type": "code",
      "metadata": {
        "colab": {
          "base_uri": "https://localhost:8080/"
        },
        "id": "QnOgvMjfPq8S",
        "outputId": "da174d9a-772b-4f72-f289-4992af6adacc"
      },
      "source": [
        "df.Graduated.unique()"
      ],
      "execution_count": null,
      "outputs": [
        {
          "output_type": "execute_result",
          "data": {
            "text/plain": [
              "array(['No', 'Yes', nan], dtype=object)"
            ]
          },
          "metadata": {
            "tags": []
          },
          "execution_count": 17
        }
      ]
    },
    {
      "cell_type": "code",
      "metadata": {
        "colab": {
          "base_uri": "https://localhost:8080/"
        },
        "id": "G24NhI14P29D",
        "outputId": "f8fddd15-fb08-417f-8847-7b239a35c244"
      },
      "source": [
        "df.Graduated.value_counts()"
      ],
      "execution_count": null,
      "outputs": [
        {
          "output_type": "execute_result",
          "data": {
            "text/plain": [
              "Yes    4968\n",
              "No     3022\n",
              "Name: Graduated, dtype: int64"
            ]
          },
          "metadata": {
            "tags": []
          },
          "execution_count": 18
        }
      ]
    },
    {
      "cell_type": "code",
      "metadata": {
        "id": "lFwI3tiwP3AA"
      },
      "source": [
        "df[\"Graduated\"].fillna(\"Yes\", inplace = True)"
      ],
      "execution_count": null,
      "outputs": []
    },
    {
      "cell_type": "markdown",
      "metadata": {
        "id": "EJu_BWs_QFMm"
      },
      "source": [
        "- ` Profession ` : \n",
        "  \n",
        "   Fill the null values by the Mode (the value that appears most often)\n"
      ]
    },
    {
      "cell_type": "code",
      "metadata": {
        "colab": {
          "base_uri": "https://localhost:8080/"
        },
        "id": "0RArrSwpP3GC",
        "outputId": "39d1fa49-7fdc-4415-c98b-027a38bd23fa"
      },
      "source": [
        "df.Profession.unique()"
      ],
      "execution_count": null,
      "outputs": [
        {
          "output_type": "execute_result",
          "data": {
            "text/plain": [
              "array(['Healthcare', 'Engineer', 'Lawyer', 'Entertainment', 'Artist',\n",
              "       'Executive', 'Doctor', 'Homemaker', 'Marketing', nan], dtype=object)"
            ]
          },
          "metadata": {
            "tags": []
          },
          "execution_count": 20
        }
      ]
    },
    {
      "cell_type": "code",
      "metadata": {
        "colab": {
          "base_uri": "https://localhost:8080/"
        },
        "id": "_Lcu7MsEP3JE",
        "outputId": "583e29f5-37dc-45c8-8e62-52f82f70ab86"
      },
      "source": [
        "df.Profession.value_counts()"
      ],
      "execution_count": null,
      "outputs": [
        {
          "output_type": "execute_result",
          "data": {
            "text/plain": [
              "Artist           2516\n",
              "Healthcare       1332\n",
              "Entertainment     949\n",
              "Engineer          699\n",
              "Doctor            688\n",
              "Lawyer            623\n",
              "Executive         599\n",
              "Marketing         292\n",
              "Homemaker         246\n",
              "Name: Profession, dtype: int64"
            ]
          },
          "metadata": {
            "tags": []
          },
          "execution_count": 21
        }
      ]
    },
    {
      "cell_type": "code",
      "metadata": {
        "id": "OXfMV0FqQK9S"
      },
      "source": [
        "df[\"Profession\"].fillna(\"Artist\", inplace = True)"
      ],
      "execution_count": null,
      "outputs": []
    },
    {
      "cell_type": "markdown",
      "metadata": {
        "id": "KEjaeQoDQO-o"
      },
      "source": [
        "- ` Work_Experience ` : \n",
        "    \n",
        "    Fill the null values by the Mode (the value that appears most often)"
      ]
    },
    {
      "cell_type": "code",
      "metadata": {
        "colab": {
          "base_uri": "https://localhost:8080/"
        },
        "id": "-Xa6F-y7QLDX",
        "outputId": "0fa1de16-91a4-4482-8a7c-78e4783679ca"
      },
      "source": [
        "df.Work_Experience.unique()"
      ],
      "execution_count": null,
      "outputs": [
        {
          "output_type": "execute_result",
          "data": {
            "text/plain": [
              "array([ 1., nan,  0.,  4.,  9., 12.,  3., 13.,  5.,  8., 14.,  7.,  2.,\n",
              "        6., 10., 11.])"
            ]
          },
          "metadata": {
            "tags": []
          },
          "execution_count": 23
        }
      ]
    },
    {
      "cell_type": "code",
      "metadata": {
        "colab": {
          "base_uri": "https://localhost:8080/"
        },
        "id": "11vZt6tQQLIl",
        "outputId": "e644acb6-3008-49e2-9fcb-6a608c77f1c7"
      },
      "source": [
        "df.Work_Experience.value_counts()"
      ],
      "execution_count": null,
      "outputs": [
        {
          "output_type": "execute_result",
          "data": {
            "text/plain": [
              "1.0     2354\n",
              "0.0     2318\n",
              "9.0      474\n",
              "8.0      463\n",
              "2.0      286\n",
              "3.0      255\n",
              "4.0      253\n",
              "6.0      204\n",
              "7.0      196\n",
              "5.0      194\n",
              "10.0      53\n",
              "11.0      50\n",
              "12.0      48\n",
              "13.0      46\n",
              "14.0      45\n",
              "Name: Work_Experience, dtype: int64"
            ]
          },
          "metadata": {
            "tags": []
          },
          "execution_count": 24
        }
      ]
    },
    {
      "cell_type": "code",
      "metadata": {
        "id": "bMuijiIAQU6Q"
      },
      "source": [
        "df[\"Work_Experience\"].fillna(1, inplace = True)"
      ],
      "execution_count": null,
      "outputs": []
    },
    {
      "cell_type": "markdown",
      "metadata": {
        "id": "fsrOjQ6hQabT"
      },
      "source": [
        "- ` Family_Size ` :\n",
        "    \n",
        "    Fill the null values by the Mode (the value that appears most often)"
      ]
    },
    {
      "cell_type": "code",
      "metadata": {
        "colab": {
          "base_uri": "https://localhost:8080/"
        },
        "id": "auNJL4LuQZiE",
        "outputId": "0b487567-252c-4a6b-e2a5-37e05fa4fbac"
      },
      "source": [
        "df.Family_Size.unique()"
      ],
      "execution_count": null,
      "outputs": [
        {
          "output_type": "execute_result",
          "data": {
            "text/plain": [
              "array([ 4.,  3.,  1.,  2.,  6., nan,  5.,  8.,  7.,  9.])"
            ]
          },
          "metadata": {
            "tags": []
          },
          "execution_count": 26
        }
      ]
    },
    {
      "cell_type": "code",
      "metadata": {
        "colab": {
          "base_uri": "https://localhost:8080/"
        },
        "id": "0Svjp9csQZlg",
        "outputId": "b5deb301-ca80-4183-b7c6-bb770a55cc1c"
      },
      "source": [
        "df.Family_Size.value_counts()"
      ],
      "execution_count": null,
      "outputs": [
        {
          "output_type": "execute_result",
          "data": {
            "text/plain": [
              "2.0    2390\n",
              "3.0    1497\n",
              "1.0    1453\n",
              "4.0    1379\n",
              "5.0     612\n",
              "6.0     212\n",
              "7.0      96\n",
              "8.0      50\n",
              "9.0      44\n",
              "Name: Family_Size, dtype: int64"
            ]
          },
          "metadata": {
            "tags": []
          },
          "execution_count": 27
        }
      ]
    },
    {
      "cell_type": "code",
      "metadata": {
        "id": "c5M9OOXQQZpF"
      },
      "source": [
        "df[\"Family_Size\"].fillna(2, inplace = True)"
      ],
      "execution_count": null,
      "outputs": []
    },
    {
      "cell_type": "markdown",
      "metadata": {
        "id": "jxcz4oruQsTP"
      },
      "source": [
        "- ` Category ` : \n",
        "\n",
        "    Fill the null values by the Mode (the value that appears most often)"
      ]
    },
    {
      "cell_type": "code",
      "metadata": {
        "colab": {
          "base_uri": "https://localhost:8080/"
        },
        "id": "DwN473d6Qmjg",
        "outputId": "4d4b9925-9cc8-4515-896c-9522ee82d9d6"
      },
      "source": [
        "df.Category.unique()"
      ],
      "execution_count": null,
      "outputs": [
        {
          "output_type": "execute_result",
          "data": {
            "text/plain": [
              "array(['Cat_4', 'Cat_6', 'Cat_7', 'Cat_3', 'Cat_1', 'Cat_2', nan, 'Cat_5'],\n",
              "      dtype=object)"
            ]
          },
          "metadata": {
            "tags": []
          },
          "execution_count": 29
        }
      ]
    },
    {
      "cell_type": "code",
      "metadata": {
        "colab": {
          "base_uri": "https://localhost:8080/"
        },
        "id": "wTTrW7--Qmne",
        "outputId": "93086f69-ddc8-4fe2-86c2-5362547bdc5c"
      },
      "source": [
        "df.Category.value_counts()"
      ],
      "execution_count": null,
      "outputs": [
        {
          "output_type": "execute_result",
          "data": {
            "text/plain": [
              "Cat_6    5238\n",
              "Cat_4    1089\n",
              "Cat_3     822\n",
              "Cat_2     422\n",
              "Cat_7     203\n",
              "Cat_1     133\n",
              "Cat_5      85\n",
              "Name: Category, dtype: int64"
            ]
          },
          "metadata": {
            "tags": []
          },
          "execution_count": 30
        }
      ]
    },
    {
      "cell_type": "code",
      "metadata": {
        "id": "NgKob9MCQ0-v"
      },
      "source": [
        "df[\"Category\"].fillna('Cat_6', inplace = True)"
      ],
      "execution_count": null,
      "outputs": []
    },
    {
      "cell_type": "code",
      "metadata": {
        "colab": {
          "base_uri": "https://localhost:8080/"
        },
        "id": "FyvcXptPQ19S",
        "outputId": "547bf5c0-3fb7-44bf-c26e-371cb2cb6fdc"
      },
      "source": [
        "np.sum(df.isna()) # check the null in all columns"
      ],
      "execution_count": null,
      "outputs": [
        {
          "output_type": "execute_result",
          "data": {
            "text/plain": [
              "Gender             0\n",
              "Ever_Married       0\n",
              "Age                0\n",
              "Graduated          0\n",
              "Profession         0\n",
              "Work_Experience    0\n",
              "Spending_Score     0\n",
              "Family_Size        0\n",
              "Category           0\n",
              "Segmentation       0\n",
              "dtype: int64"
            ]
          },
          "metadata": {
            "tags": []
          },
          "execution_count": 32
        }
      ]
    },
    {
      "cell_type": "markdown",
      "metadata": {
        "id": "sv5JOxxsQ3bl"
      },
      "source": [
        "#### Data Visualization"
      ]
    },
    {
      "cell_type": "code",
      "metadata": {
        "colab": {
          "base_uri": "https://localhost:8080/",
          "height": 370
        },
        "id": "8i_N8D_AQ6aR",
        "outputId": "76a30f3b-971b-40ba-f1b2-c9c503a32c17"
      },
      "source": [
        "fig=plt.figure(figsize=(5,5))\n",
        "sns.countplot(data=df, x='Segmentation')\n",
        "plt.title('The Distribution of Segmentation')\n",
        "plt.savefig(\"The Distribution of Segmentation.png\")\n",
        "plt.show();"
      ],
      "execution_count": null,
      "outputs": [
        {
          "output_type": "display_data",
          "data": {
            "image/png": "[encoded data removed]",
            "text/plain": [
              "<Figure size 360x360 with 1 Axes>"
            ]
          },
          "metadata": {
            "tags": [],
            "needs_background": "light"
          }
        }
      ]
    },
    {
      "cell_type": "markdown",
      "metadata": {
        "id": "NAFVdPqiQ9Mx"
      },
      "source": [
        "As it’s shown in the chart:\n",
        "- Most of the customers are in ` D ` segmentation.\n",
        "- Least of the customers are in ` B` segmentation.\n",
        "- The customers in `A` and `C` segmentations  are close to each other."
      ]
    },
    {
      "cell_type": "code",
      "metadata": {
        "colab": {
          "base_uri": "https://localhost:8080/",
          "height": 479
        },
        "id": "iOBekc9QQ6d9",
        "outputId": "045800ed-3793-4a4e-8a7a-7c057150c009"
      },
      "source": [
        "plt.figure(figsize=(12,7))\n",
        "plt.subplot(1, 2, 1)\n",
        "sns.countplot(data=df, x='Gender',hue='Segmentation')\n",
        "plt.title('Gender by Segmentation')\n",
        "plt.savefig(\"Gender by Segmentation.png\", dpi=150);\n",
        "plt.subplot(1, 2 , 2)\n",
        "sns.countplot(data=df, x='Gender')\n",
        "plt.title('The Distribution of Gender')  \n",
        "plt.savefig(\"The Distribution of Gender.png\", dpi=150);\n",
        "plt.show();"
      ],
      "execution_count": null,
      "outputs": [
        {
          "output_type": "display_data",
          "data": {
            "image/png": "[encoded data removed]",
            "text/plain": [
              "<Figure size 864x504 with 2 Axes>"
            ]
          },
          "metadata": {
            "tags": [],
            "needs_background": "light"
          }
        }
      ]
    },
    {
      "cell_type": "markdown",
      "metadata": {
        "id": "huokNN-FRFGR"
      },
      "source": [
        "As it’s shown in the chart:\n",
        "- Most of the customers are Male.\n",
        "- The `D` segmentation contains the most Males & Female and the` B` segmentation contains the least Males & Female because the numbers of Customers in `D` is more than in `B`."
      ]
    },
    {
      "cell_type": "code",
      "metadata": {
        "colab": {
          "base_uri": "https://localhost:8080/",
          "height": 480
        },
        "id": "KLh-Pr7bQ6il",
        "outputId": "44928e60-c12b-4fc9-bcc5-cb58892b70ed"
      },
      "source": [
        "plt.figure(figsize=(12,7))\n",
        "plt.subplot(1, 2, 1)\n",
        "sns.countplot(data=df, x='Ever_Married',hue='Segmentation')\n",
        "plt.title('Ever_Married by Segmentation')\n",
        "plt.savefig(\"Ever_Married by Segmentation.png\", dpi=150);\n",
        "\n",
        "plt.subplot(1, 2 , 2)\n",
        "sns.countplot(data=df, x='Ever_Married')\n",
        "plt.title('The Distribution of Ever_Married')  \n",
        "plt.savefig(\"The Distribution of Ever_Married.png\", dpi=150);\n",
        "plt.show();\n"
      ],
      "execution_count": null,
      "outputs": [
        {
          "output_type": "display_data",
          "data": {
            "image/png": "[encoded data removed]",
            "text/plain": [
              "<Figure size 864x504 with 2 Axes>"
            ]
          },
          "metadata": {
            "tags": [],
            "needs_background": "light"
          }
        }
      ]
    },
    {
      "cell_type": "markdown",
      "metadata": {
        "id": "Ebq0EINHRKqo"
      },
      "source": [
        "As it’s shown in the chart:\n",
        "- Most of the customers are Married.\n",
        "- The `D` segmentation contains the most of unmarried customer, and the other segmentations (`A`,`B`,`C`) contains most of married special `C`"
      ]
    },
    {
      "cell_type": "code",
      "metadata": {
        "colab": {
          "base_uri": "https://localhost:8080/",
          "height": 431
        },
        "id": "kyN_g35jQ6nE",
        "outputId": "1ecc1d01-2953-42c4-8aa0-0aa6e34bcb35"
      },
      "source": [
        "plt.figure(figsize=(25,7))\n",
        "plt.subplot(1, 2, 1)\n",
        "sns.countplot(data=df, x='Profession',hue='Segmentation')\n",
        "plt.title('The Profession by Segmentation')\n",
        "plt.savefig(\"The Profession by Segmentation.png\", dpi=150);\n",
        "plt.subplot(1, 2 , 2)\n",
        "sns.countplot(data=df, x='Profession')\n",
        "plt.title('The Distribution of Profession') \n",
        "plt.savefig(\"The Distribution of Profession.png\", dpi=150);\n",
        "plt.show();"
      ],
      "execution_count": null,
      "outputs": [
        {
          "output_type": "display_data",
          "data": {
            "image/png": "[encoded data removed]",
            "text/plain": [
              "<Figure size 1800x504 with 2 Axes>"
            ]
          },
          "metadata": {
            "tags": [],
            "needs_background": "light"
          }
        }
      ]
    },
    {
      "cell_type": "markdown",
      "metadata": {
        "id": "nS68zjYFRRby"
      },
      "source": [
        "As it’s shown in the chart:\n",
        "- The most Profession is Artist and the least Profession is Homemaker.\n",
        "- The `C` , `A` and `B`segmentations contains most of the Artist, but The `D` segmentation contains most of the Healthcare.\n",
        "\n",
        "- The `A` and `B` segmentations that contains least of the Marketing, but The `C` and `D` segmentations contains least of the HomeMaker \n",
        " "
      ]
    },
    {
      "cell_type": "code",
      "metadata": {
        "colab": {
          "base_uri": "https://localhost:8080/",
          "height": 690
        },
        "id": "DLySi1kByToC",
        "outputId": "f9b8d531-39e6-4698-bc82-7aacdf07b725"
      },
      "source": [
        "sns.displot(data=df, x=\"Age\"); \n",
        "plt.savefig(\"The Distribution of Age.png\", dpi=150);\n",
        "\n",
        "sns.displot(data=df, x=\"Age\", hue=\"Segmentation\", col=\"Segmentation\");\n",
        "plt.savefig(\"The Age by Segmentation.png\", dpi=150);\n",
        "plt.show();\n",
        " "
      ],
      "execution_count": null,
      "outputs": [
        {
          "output_type": "display_data",
          "data": {
            "image/png": "[encoded data removed]",
            "text/plain": [
              "<Figure size 360x360 with 1 Axes>"
            ]
          },
          "metadata": {
            "tags": [],
            "needs_background": "light"
          }
        },
        {
          "output_type": "display_data",
          "data": {
            "image/png": "[encoded data removed]",
            "text/plain": [
              "<Figure size 1518x360 with 4 Axes>"
            ]
          },
          "metadata": {
            "tags": [],
            "needs_background": "light"
          }
        }
      ]
    },
    {
      "cell_type": "markdown",
      "metadata": {
        "id": "xRJAGNZqISHn"
      },
      "source": [
        "As it’s shown in the chart:\n",
        "- The most range of Customers between 20 - 45 .\n",
        "\n",
        "- The `D` The most range of Customers between 20 - 30, So contains the most of unmarried.\n",
        "\n",
        "- The `A` The most range of Customers between 27 - 40 \n",
        "\n",
        "- The `B` The most range of Customers between 30 - 50\n",
        "\n",
        "- The `C` The most range of Customers between 40 - 50, So contains the most of married.\n",
        "\n",
        " "
      ]
    },
    {
      "cell_type": "code",
      "metadata": {
        "colab": {
          "base_uri": "https://localhost:8080/",
          "height": 449
        },
        "id": "Rc91-a_oQ6q6",
        "outputId": "7110c4e4-d669-427f-f4b1-33c552919151"
      },
      "source": [
        "plt.figure(figsize=(24,7))\n",
        "plt.subplot(1, 2, 1)\n",
        "sns.countplot(data=df, x='Work_Experience',hue='Segmentation')\n",
        "plt.title('The Work_Experience by Segmentation')\n",
        "plt.savefig(\"The Work_Experience by Segmentation.png\", dpi=150);\n",
        "plt.subplot(1, 2 , 2)\n",
        "sns.histplot(data=df, x=\"Work_Experience\")\n",
        "plt.title('The Distribution of Work_Experience') \n",
        "plt.savefig(\"The Distribution of Work_Experience.png\", dpi=150);\n",
        "plt.show();"
      ],
      "execution_count": null,
      "outputs": [
        {
          "output_type": "display_data",
          "data": {
            "image/png": "[encoded data removed]",
            "text/plain": [
              "<Figure size 1728x504 with 2 Axes>"
            ]
          },
          "metadata": {
            "tags": [],
            "needs_background": "light"
          }
        }
      ]
    },
    {
      "cell_type": "markdown",
      "metadata": {
        "id": "V7fMgZmNRZRn"
      },
      "source": [
        "As it’s shown in the chart:\n",
        "- Most of the customers have one year experience, and  least of customers have more than 10 years experience."
      ]
    },
    {
      "cell_type": "code",
      "metadata": {
        "colab": {
          "base_uri": "https://localhost:8080/",
          "height": 480
        },
        "id": "DaInx1iZRcG3",
        "outputId": "40ba900b-861c-4fd0-85f0-a295ad0791c9"
      },
      "source": [
        "plt.figure(figsize=(12,7))\n",
        "plt.subplot(1, 2, 1)\n",
        "sns.countplot(data=df, x='Spending_Score',hue='Segmentation')\n",
        "plt.title('The Spending_Score by Segmentation')\n",
        "plt.savefig(\"The Spending_Score by Segmentation.png\", dpi=150);\n",
        "\n",
        "plt.subplot(1, 2 , 2)\n",
        "sns.countplot(data=df, x='Spending_Score')\n",
        "plt.title('The Distribution of Spending_Score')\n",
        "plt.savefig(\"The Distribution of Spending_Score.png\", dpi=150);\n",
        "plt.show();"
      ],
      "execution_count": null,
      "outputs": [
        {
          "output_type": "display_data",
          "data": {
            "image/png": "[encoded data removed]",
            "text/plain": [
              "<Figure size 864x504 with 2 Axes>"
            ]
          },
          "metadata": {
            "tags": [],
            "needs_background": "light"
          }
        }
      ]
    },
    {
      "cell_type": "markdown",
      "metadata": {
        "id": "dDvmL0LARfs-"
      },
      "source": [
        "As it’s shown in the chart:\n",
        "- Most of customers spending Low score and least of customers spending high.\n",
        "- Most of D segmentation is spending Low, because their ages less than 30.\n",
        "- Most of C segmentation is spending Average, because their ages more than 40."
      ]
    },
    {
      "cell_type": "code",
      "metadata": {
        "colab": {
          "base_uri": "https://localhost:8080/",
          "height": 480
        },
        "id": "6cdf_jK2RrPS",
        "outputId": "11f54e97-ad27-4d4a-ecec-1568816d402a"
      },
      "source": [
        "plt.figure(figsize=(22,7))\n",
        "plt.subplot(1, 2, 1)\n",
        "sns.countplot(data=df, x='Family_Size',hue='Segmentation')\n",
        "plt.title('The Family_Size by Segmentation')\n",
        "plt.savefig(\"The Family_Size by Segmentation.png\", dpi=150);\n",
        "\n",
        "plt.subplot(1, 2 , 2)\n",
        "sns.countplot(data=df, x='Family_Size')\n",
        "plt.title('The Distribution of Family_Size')\n",
        "plt.savefig(\"The Distribution of Family_Size.png\", dpi=150);\n",
        "plt.show();"
      ],
      "execution_count": null,
      "outputs": [
        {
          "output_type": "display_data",
          "data": {
            "image/png": "[encoded data removed]",
            "text/plain": [
              "<Figure size 1584x504 with 2 Axes>"
            ]
          },
          "metadata": {
            "tags": [],
            "needs_background": "light"
          }
        }
      ]
    },
    {
      "cell_type": "markdown",
      "metadata": {
        "id": "-i_Y-oYtR5GV"
      },
      "source": [
        "As it’s shown in the chart:\n",
        "- Most customers have Family size of 2\n",
        "- Most of customers have  Family size of 9"
      ]
    },
    {
      "cell_type": "code",
      "metadata": {
        "colab": {
          "base_uri": "https://localhost:8080/",
          "height": 480
        },
        "id": "pWLUo3tKR79S",
        "outputId": "1b294939-6b87-4297-8ba9-fb9431e0a844"
      },
      "source": [
        "plt.figure(figsize=(20,7))\n",
        "plt.subplot(1, 2, 1)\n",
        "sns.countplot(data=df, x='Category',hue='Segmentation')\n",
        "plt.title('The Category by Segmentation')\n",
        "plt.savefig(\"The Category by Segmentation.png\", dpi=150);\n",
        "\n",
        "plt.subplot(1, 2 , 2)\n",
        "sns.countplot(data=df, x='Category')\n",
        "plt.title('The Distribution of Category') \n",
        "plt.savefig(\"The Distribution of Category.png\", dpi=150);\n",
        "plt.show();\n",
        " "
      ],
      "execution_count": null,
      "outputs": [
        {
          "output_type": "display_data",
          "data": {
            "image/png": "[encoded data removed]",
            "text/plain": [
              "<Figure size 1440x504 with 2 Axes>"
            ]
          },
          "metadata": {
            "tags": [],
            "needs_background": "light"
          }
        }
      ]
    },
    {
      "cell_type": "markdown",
      "metadata": {
        "id": "iBrAbOumR-yS"
      },
      "source": [
        "As it’s shown in the chart:\n",
        "- The most of Customers Cat_6\n",
        "- The least of Customers in Cat_5 and Cat_1"
      ]
    },
    {
      "cell_type": "code",
      "metadata": {
        "colab": {
          "base_uri": "https://localhost:8080/",
          "height": 570
        },
        "id": "JtUTXuPWSDaF",
        "outputId": "5b4d0009-51ba-4c7e-e1a3-9a86aa039b82"
      },
      "source": [
        "sns.pairplot(df,hue=\"Segmentation\");\n",
        "plt.savefig(\"Pair plot.png\", dpi=150);"
      ],
      "execution_count": null,
      "outputs": [
        {
          "output_type": "display_data",
          "data": {
            "image/png": "[encoded data removed]",
            "text/plain": [
              "<Figure size 618x540 with 12 Axes>"
            ]
          },
          "metadata": {
            "tags": [],
            "needs_background": "light"
          }
        }
      ]
    },
    {
      "cell_type": "markdown",
      "metadata": {
        "id": "uHGkiJ8BSKxv"
      },
      "source": [
        "At the end of EDA: \n",
        "- **The `A` Segmentation**:\n",
        "    \n",
        "    contain the most of married Customers and  spnding score is Low becouse thair age is less than 40 , and the Profession is Artists.\n",
        "\n",
        "- **The `B` Segmentation:**\n",
        "\n",
        "    contain the less number of customers and thair age more than 30 and less than 50, So most of customer is married.\n",
        "      \n",
        "- **The `c` Segmentation:**\n",
        "\n",
        "    contain the most of married Customers and  spnding score is Average becouse thair age is more than 45 , and the Profession is Artists.\n",
        " \n",
        "\n",
        "- **The `D` Segmentation:**\n",
        "\n",
        "    contain the most of unmarried Customers and  spnding score is low Customers becouse thair age is less than 30 , and the Profession is Homemaker.\n",
        " "
      ]
    },
    {
      "cell_type": "code",
      "metadata": {
        "colab": {
          "base_uri": "https://localhost:8080/",
          "height": 160
        },
        "id": "8S7b5osVSO10",
        "outputId": "3c02e9d9-e174-4f7f-d77c-d16b45c4e6e2"
      },
      "source": [
        "df.sample(3)"
      ],
      "execution_count": null,
      "outputs": [
        {
          "output_type": "execute_result",
          "data": {
            "text/html": [
              "<div>\n",
              "<style scoped>\n",
              "    .dataframe tbody tr th:only-of-type {\n",
              "        vertical-align: middle;\n",
              "    }\n",
              "\n",
              "    .dataframe tbody tr th {\n",
              "        vertical-align: top;\n",
              "    }\n",
              "\n",
              "    .dataframe thead th {\n",
              "        text-align: right;\n",
              "    }\n",
              "</style>\n",
              "<table border=\"1\" class=\"dataframe\">\n",
              "  <thead>\n",
              "    <tr style=\"text-align: right;\">\n",
              "      <th></th>\n",
              "      <th>Gender</th>\n",
              "      <th>Ever_Married</th>\n",
              "      <th>Age</th>\n",
              "      <th>Graduated</th>\n",
              "      <th>Profession</th>\n",
              "      <th>Work_Experience</th>\n",
              "      <th>Spending_Score</th>\n",
              "      <th>Family_Size</th>\n",
              "      <th>Category</th>\n",
              "      <th>Segmentation</th>\n",
              "    </tr>\n",
              "  </thead>\n",
              "  <tbody>\n",
              "    <tr>\n",
              "      <th>5502</th>\n",
              "      <td>Male</td>\n",
              "      <td>No</td>\n",
              "      <td>31</td>\n",
              "      <td>No</td>\n",
              "      <td>Healthcare</td>\n",
              "      <td>2.0</td>\n",
              "      <td>Low</td>\n",
              "      <td>5.0</td>\n",
              "      <td>Cat_2</td>\n",
              "      <td>A</td>\n",
              "    </tr>\n",
              "    <tr>\n",
              "      <th>4410</th>\n",
              "      <td>Male</td>\n",
              "      <td>Yes</td>\n",
              "      <td>35</td>\n",
              "      <td>No</td>\n",
              "      <td>Entertainment</td>\n",
              "      <td>1.0</td>\n",
              "      <td>Average</td>\n",
              "      <td>4.0</td>\n",
              "      <td>Cat_4</td>\n",
              "      <td>B</td>\n",
              "    </tr>\n",
              "    <tr>\n",
              "      <th>4689</th>\n",
              "      <td>Female</td>\n",
              "      <td>No</td>\n",
              "      <td>31</td>\n",
              "      <td>Yes</td>\n",
              "      <td>Entertainment</td>\n",
              "      <td>1.0</td>\n",
              "      <td>Low</td>\n",
              "      <td>1.0</td>\n",
              "      <td>Cat_6</td>\n",
              "      <td>B</td>\n",
              "    </tr>\n",
              "  </tbody>\n",
              "</table>\n",
              "</div>"
            ],
            "text/plain": [
              "      Gender Ever_Married  Age  ... Family_Size Category  Segmentation\n",
              "5502    Male           No   31  ...         5.0    Cat_2             A\n",
              "4410    Male          Yes   35  ...         4.0    Cat_4             B\n",
              "4689  Female           No   31  ...         1.0    Cat_6             B\n",
              "\n",
              "[3 rows x 10 columns]"
            ]
          },
          "metadata": {
            "tags": []
          },
          "execution_count": 43
        }
      ]
    },
    {
      "cell_type": "markdown",
      "metadata": {
        "id": "i4WWuqSvSRHn"
      },
      "source": [
        "### Extract features:"
      ]
    },
    {
      "cell_type": "markdown",
      "metadata": {
        "id": "TW9ossc4SZ2V"
      },
      "source": [
        "#### Categorical Features: \n",
        "\n"
      ]
    },
    {
      "cell_type": "markdown",
      "metadata": {
        "id": "LC2TrowXQJx-"
      },
      "source": [
        "- Convert values into 0,1"
      ]
    },
    {
      "cell_type": "code",
      "metadata": {
        "id": "EjjxZaoySV23"
      },
      "source": [
        "df.Gender = df.Gender.map({\"Male\" : 0  , 'Female':1})\n",
        "df.Ever_Married = df.Ever_Married.map({\"No\" : 0  , 'Yes':1})\n",
        "df.Graduated = df.Graduated.map({\"No\" : 0  , 'Yes':1})\n",
        "df.Spending_Score = df.Spending_Score.map({\"Low\" : 0  , 'Average':1 , 'High':2})\n",
        "df.Segmentation = df.Segmentation.map({\"A\" : 0  , 'B':1 ,'C':3 , 'D':4})"
      ],
      "execution_count": null,
      "outputs": []
    },
    {
      "cell_type": "code",
      "metadata": {
        "id": "vR-hAMrkSXbn",
        "colab": {
          "base_uri": "https://localhost:8080/",
          "height": 130
        },
        "outputId": "c5b320a7-347d-40e8-a231-c23a5cc369d8"
      },
      "source": [
        "df.sample(2)"
      ],
      "execution_count": null,
      "outputs": [
        {
          "output_type": "execute_result",
          "data": {
            "text/html": [
              "<div>\n",
              "<style scoped>\n",
              "    .dataframe tbody tr th:only-of-type {\n",
              "        vertical-align: middle;\n",
              "    }\n",
              "\n",
              "    .dataframe tbody tr th {\n",
              "        vertical-align: top;\n",
              "    }\n",
              "\n",
              "    .dataframe thead th {\n",
              "        text-align: right;\n",
              "    }\n",
              "</style>\n",
              "<table border=\"1\" class=\"dataframe\">\n",
              "  <thead>\n",
              "    <tr style=\"text-align: right;\">\n",
              "      <th></th>\n",
              "      <th>Gender</th>\n",
              "      <th>Ever_Married</th>\n",
              "      <th>Age</th>\n",
              "      <th>Graduated</th>\n",
              "      <th>Profession</th>\n",
              "      <th>Work_Experience</th>\n",
              "      <th>Spending_Score</th>\n",
              "      <th>Family_Size</th>\n",
              "      <th>Category</th>\n",
              "      <th>Segmentation</th>\n",
              "    </tr>\n",
              "  </thead>\n",
              "  <tbody>\n",
              "    <tr>\n",
              "      <th>6773</th>\n",
              "      <td>1</td>\n",
              "      <td>1</td>\n",
              "      <td>37</td>\n",
              "      <td>1</td>\n",
              "      <td>Artist</td>\n",
              "      <td>2.0</td>\n",
              "      <td>1</td>\n",
              "      <td>2.0</td>\n",
              "      <td>Cat_6</td>\n",
              "      <td>1</td>\n",
              "    </tr>\n",
              "    <tr>\n",
              "      <th>5286</th>\n",
              "      <td>0</td>\n",
              "      <td>1</td>\n",
              "      <td>73</td>\n",
              "      <td>1</td>\n",
              "      <td>Artist</td>\n",
              "      <td>1.0</td>\n",
              "      <td>0</td>\n",
              "      <td>2.0</td>\n",
              "      <td>Cat_6</td>\n",
              "      <td>1</td>\n",
              "    </tr>\n",
              "  </tbody>\n",
              "</table>\n",
              "</div>"
            ],
            "text/plain": [
              "      Gender  Ever_Married  Age  ...  Family_Size Category  Segmentation\n",
              "6773       1             1   37  ...          2.0    Cat_6             1\n",
              "5286       0             1   73  ...          2.0    Cat_6             1\n",
              "\n",
              "[2 rows x 10 columns]"
            ]
          },
          "metadata": {
            "tags": []
          },
          "execution_count": 45
        }
      ]
    },
    {
      "cell_type": "markdown",
      "metadata": {
        "id": "RSMqvFeHQt6Q"
      },
      "source": [
        "- Convert categorical variable into dummy/indicator variables."
      ]
    },
    {
      "cell_type": "code",
      "metadata": {
        "id": "e-VUyNEeSY72",
        "colab": {
          "base_uri": "https://localhost:8080/",
          "height": 130
        },
        "outputId": "6e5fd6e5-412a-4d1a-84b7-9fd7e3a8be25"
      },
      "source": [
        "df_dummies=pd.get_dummies(df[['Profession','Category']])\n",
        "df_dummies.sample(2)"
      ],
      "execution_count": null,
      "outputs": [
        {
          "output_type": "execute_result",
          "data": {
            "text/html": [
              "<div>\n",
              "<style scoped>\n",
              "    .dataframe tbody tr th:only-of-type {\n",
              "        vertical-align: middle;\n",
              "    }\n",
              "\n",
              "    .dataframe tbody tr th {\n",
              "        vertical-align: top;\n",
              "    }\n",
              "\n",
              "    .dataframe thead th {\n",
              "        text-align: right;\n",
              "    }\n",
              "</style>\n",
              "<table border=\"1\" class=\"dataframe\">\n",
              "  <thead>\n",
              "    <tr style=\"text-align: right;\">\n",
              "      <th></th>\n",
              "      <th>Profession_Artist</th>\n",
              "      <th>Profession_Doctor</th>\n",
              "      <th>Profession_Engineer</th>\n",
              "      <th>Profession_Entertainment</th>\n",
              "      <th>Profession_Executive</th>\n",
              "      <th>Profession_Healthcare</th>\n",
              "      <th>Profession_Homemaker</th>\n",
              "      <th>Profession_Lawyer</th>\n",
              "      <th>Profession_Marketing</th>\n",
              "      <th>Category_Cat_1</th>\n",
              "      <th>Category_Cat_2</th>\n",
              "      <th>Category_Cat_3</th>\n",
              "      <th>Category_Cat_4</th>\n",
              "      <th>Category_Cat_5</th>\n",
              "      <th>Category_Cat_6</th>\n",
              "      <th>Category_Cat_7</th>\n",
              "    </tr>\n",
              "  </thead>\n",
              "  <tbody>\n",
              "    <tr>\n",
              "      <th>788</th>\n",
              "      <td>0</td>\n",
              "      <td>0</td>\n",
              "      <td>0</td>\n",
              "      <td>0</td>\n",
              "      <td>0</td>\n",
              "      <td>0</td>\n",
              "      <td>1</td>\n",
              "      <td>0</td>\n",
              "      <td>0</td>\n",
              "      <td>0</td>\n",
              "      <td>0</td>\n",
              "      <td>0</td>\n",
              "      <td>0</td>\n",
              "      <td>0</td>\n",
              "      <td>1</td>\n",
              "      <td>0</td>\n",
              "    </tr>\n",
              "    <tr>\n",
              "      <th>6724</th>\n",
              "      <td>0</td>\n",
              "      <td>1</td>\n",
              "      <td>0</td>\n",
              "      <td>0</td>\n",
              "      <td>0</td>\n",
              "      <td>0</td>\n",
              "      <td>0</td>\n",
              "      <td>0</td>\n",
              "      <td>0</td>\n",
              "      <td>0</td>\n",
              "      <td>0</td>\n",
              "      <td>0</td>\n",
              "      <td>1</td>\n",
              "      <td>0</td>\n",
              "      <td>0</td>\n",
              "      <td>0</td>\n",
              "    </tr>\n",
              "  </tbody>\n",
              "</table>\n",
              "</div>"
            ],
            "text/plain": [
              "      Profession_Artist  Profession_Doctor  ...  Category_Cat_6  Category_Cat_7\n",
              "788                   0                  0  ...               1               0\n",
              "6724                  0                  1  ...               0               0\n",
              "\n",
              "[2 rows x 16 columns]"
            ]
          },
          "metadata": {
            "tags": []
          },
          "execution_count": 46
        }
      ]
    },
    {
      "cell_type": "code",
      "metadata": {
        "id": "ViO5Y1FWSdiL",
        "colab": {
          "base_uri": "https://localhost:8080/",
          "height": 130
        },
        "outputId": "5242d848-70d9-424b-81c6-17a8a6312ef1"
      },
      "source": [
        "df=df.drop(df[['Profession','Category']],axis=1) \n",
        "df.sample(2)"
      ],
      "execution_count": null,
      "outputs": [
        {
          "output_type": "execute_result",
          "data": {
            "text/html": [
              "<div>\n",
              "<style scoped>\n",
              "    .dataframe tbody tr th:only-of-type {\n",
              "        vertical-align: middle;\n",
              "    }\n",
              "\n",
              "    .dataframe tbody tr th {\n",
              "        vertical-align: top;\n",
              "    }\n",
              "\n",
              "    .dataframe thead th {\n",
              "        text-align: right;\n",
              "    }\n",
              "</style>\n",
              "<table border=\"1\" class=\"dataframe\">\n",
              "  <thead>\n",
              "    <tr style=\"text-align: right;\">\n",
              "      <th></th>\n",
              "      <th>Gender</th>\n",
              "      <th>Ever_Married</th>\n",
              "      <th>Age</th>\n",
              "      <th>Graduated</th>\n",
              "      <th>Work_Experience</th>\n",
              "      <th>Spending_Score</th>\n",
              "      <th>Family_Size</th>\n",
              "      <th>Segmentation</th>\n",
              "    </tr>\n",
              "  </thead>\n",
              "  <tbody>\n",
              "    <tr>\n",
              "      <th>421</th>\n",
              "      <td>1</td>\n",
              "      <td>0</td>\n",
              "      <td>30</td>\n",
              "      <td>1</td>\n",
              "      <td>0.0</td>\n",
              "      <td>0</td>\n",
              "      <td>4.0</td>\n",
              "      <td>1</td>\n",
              "    </tr>\n",
              "    <tr>\n",
              "      <th>3052</th>\n",
              "      <td>1</td>\n",
              "      <td>1</td>\n",
              "      <td>51</td>\n",
              "      <td>1</td>\n",
              "      <td>9.0</td>\n",
              "      <td>1</td>\n",
              "      <td>1.0</td>\n",
              "      <td>0</td>\n",
              "    </tr>\n",
              "  </tbody>\n",
              "</table>\n",
              "</div>"
            ],
            "text/plain": [
              "      Gender  Ever_Married  Age  ...  Spending_Score  Family_Size  Segmentation\n",
              "421        1             0   30  ...               0          4.0             1\n",
              "3052       1             1   51  ...               1          1.0             0\n",
              "\n",
              "[2 rows x 8 columns]"
            ]
          },
          "metadata": {
            "tags": []
          },
          "execution_count": 47
        }
      ]
    },
    {
      "cell_type": "code",
      "metadata": {
        "id": "Zf40MO_ySh5V",
        "colab": {
          "base_uri": "https://localhost:8080/",
          "height": 130
        },
        "outputId": "2e8e9011-a422-45c9-86d0-c94621446783"
      },
      "source": [
        "df=pd.concat([df, df_dummies], axis=1)\n",
        "df.sample(2)"
      ],
      "execution_count": null,
      "outputs": [
        {
          "output_type": "execute_result",
          "data": {
            "text/html": [
              "<div>\n",
              "<style scoped>\n",
              "    .dataframe tbody tr th:only-of-type {\n",
              "        vertical-align: middle;\n",
              "    }\n",
              "\n",
              "    .dataframe tbody tr th {\n",
              "        vertical-align: top;\n",
              "    }\n",
              "\n",
              "    .dataframe thead th {\n",
              "        text-align: right;\n",
              "    }\n",
              "</style>\n",
              "<table border=\"1\" class=\"dataframe\">\n",
              "  <thead>\n",
              "    <tr style=\"text-align: right;\">\n",
              "      <th></th>\n",
              "      <th>Gender</th>\n",
              "      <th>Ever_Married</th>\n",
              "      <th>Age</th>\n",
              "      <th>Graduated</th>\n",
              "      <th>Work_Experience</th>\n",
              "      <th>Spending_Score</th>\n",
              "      <th>Family_Size</th>\n",
              "      <th>Segmentation</th>\n",
              "      <th>Profession_Artist</th>\n",
              "      <th>Profession_Doctor</th>\n",
              "      <th>Profession_Engineer</th>\n",
              "      <th>Profession_Entertainment</th>\n",
              "      <th>Profession_Executive</th>\n",
              "      <th>Profession_Healthcare</th>\n",
              "      <th>Profession_Homemaker</th>\n",
              "      <th>Profession_Lawyer</th>\n",
              "      <th>Profession_Marketing</th>\n",
              "      <th>Category_Cat_1</th>\n",
              "      <th>Category_Cat_2</th>\n",
              "      <th>Category_Cat_3</th>\n",
              "      <th>Category_Cat_4</th>\n",
              "      <th>Category_Cat_5</th>\n",
              "      <th>Category_Cat_6</th>\n",
              "      <th>Category_Cat_7</th>\n",
              "    </tr>\n",
              "  </thead>\n",
              "  <tbody>\n",
              "    <tr>\n",
              "      <th>6887</th>\n",
              "      <td>1</td>\n",
              "      <td>1</td>\n",
              "      <td>53</td>\n",
              "      <td>1</td>\n",
              "      <td>0.0</td>\n",
              "      <td>0</td>\n",
              "      <td>4.0</td>\n",
              "      <td>1</td>\n",
              "      <td>0</td>\n",
              "      <td>0</td>\n",
              "      <td>1</td>\n",
              "      <td>0</td>\n",
              "      <td>0</td>\n",
              "      <td>0</td>\n",
              "      <td>0</td>\n",
              "      <td>0</td>\n",
              "      <td>0</td>\n",
              "      <td>1</td>\n",
              "      <td>0</td>\n",
              "      <td>0</td>\n",
              "      <td>0</td>\n",
              "      <td>0</td>\n",
              "      <td>0</td>\n",
              "      <td>0</td>\n",
              "    </tr>\n",
              "    <tr>\n",
              "      <th>6541</th>\n",
              "      <td>1</td>\n",
              "      <td>1</td>\n",
              "      <td>38</td>\n",
              "      <td>1</td>\n",
              "      <td>4.0</td>\n",
              "      <td>0</td>\n",
              "      <td>2.0</td>\n",
              "      <td>0</td>\n",
              "      <td>0</td>\n",
              "      <td>0</td>\n",
              "      <td>1</td>\n",
              "      <td>0</td>\n",
              "      <td>0</td>\n",
              "      <td>0</td>\n",
              "      <td>0</td>\n",
              "      <td>0</td>\n",
              "      <td>0</td>\n",
              "      <td>0</td>\n",
              "      <td>0</td>\n",
              "      <td>0</td>\n",
              "      <td>1</td>\n",
              "      <td>0</td>\n",
              "      <td>0</td>\n",
              "      <td>0</td>\n",
              "    </tr>\n",
              "  </tbody>\n",
              "</table>\n",
              "</div>"
            ],
            "text/plain": [
              "      Gender  Ever_Married  Age  ...  Category_Cat_5  Category_Cat_6  Category_Cat_7\n",
              "6887       1             1   53  ...               0               0               0\n",
              "6541       1             1   38  ...               0               0               0\n",
              "\n",
              "[2 rows x 24 columns]"
            ]
          },
          "metadata": {
            "tags": []
          },
          "execution_count": 48
        }
      ]
    },
    {
      "cell_type": "markdown",
      "metadata": {
        "id": "d81mfpSMO44N"
      },
      "source": [
        "#### Derived Features:\n"
      ]
    },
    {
      "cell_type": "markdown",
      "metadata": {
        "id": "3K14kDf0XDlO"
      },
      "source": [
        "Add new feature to increase model accuracy. \n",
        "\n",
        "- Age Range: \n",
        "\n",
        "    Classify the customers based on their age ( less than 30, less than 45, less than 60, more than 60) "
      ]
    },
    {
      "cell_type": "code",
      "metadata": {
        "id": "AZ_oHci-SlSr",
        "colab": {
          "base_uri": "https://localhost:8080/"
        },
        "outputId": "126719f4-0351-4d19-ef20-7bd70c7f9321"
      },
      "source": [
        "df.Age.unique()"
      ],
      "execution_count": null,
      "outputs": [
        {
          "output_type": "execute_result",
          "data": {
            "text/plain": [
              "array([22, 38, 67, 40, 56, 32, 33, 61, 55, 26, 19, 70, 58, 41, 31, 79, 49,\n",
              "       18, 36, 35, 45, 42, 83, 27, 28, 47, 29, 57, 76, 25, 72, 48, 74, 59,\n",
              "       39, 51, 30, 63, 52, 60, 68, 86, 50, 43, 80, 37, 46, 69, 78, 71, 82,\n",
              "       23, 20, 85, 21, 53, 62, 75, 65, 89, 66, 73, 77, 87, 84, 81, 88])"
            ]
          },
          "metadata": {
            "tags": []
          },
          "execution_count": 49
        }
      ]
    },
    {
      "cell_type": "code",
      "metadata": {
        "id": "GbwqaaKFSokj",
        "colab": {
          "base_uri": "https://localhost:8080/"
        },
        "outputId": "e5510000-4e6f-462f-c586-89c99f293be7"
      },
      "source": [
        "df.Age.astype(int)"
      ],
      "execution_count": null,
      "outputs": [
        {
          "output_type": "execute_result",
          "data": {
            "text/plain": [
              "0       22\n",
              "1       38\n",
              "2       67\n",
              "3       67\n",
              "4       40\n",
              "        ..\n",
              "8063    22\n",
              "8064    35\n",
              "8065    33\n",
              "8066    27\n",
              "8067    37\n",
              "Name: Age, Length: 8068, dtype: int64"
            ]
          },
          "metadata": {
            "tags": []
          },
          "execution_count": 50
        }
      ]
    },
    {
      "cell_type": "code",
      "metadata": {
        "id": "LIKM8aq7SuK_",
        "colab": {
          "base_uri": "https://localhost:8080/",
          "height": 224
        },
        "outputId": "72852547-2987-4e78-a266-05245964c04e"
      },
      "source": [
        "df['Age_Range']=''\n",
        "df.Age_Range[df['Age']<=30]='less than 30'\n",
        "df.Age_Range[(df['Age']>30) & (df['Age']<=45)]='less than 45'\n",
        "df.Age_Range[(df['Age']>45) & (df['Age']<=60)]='less than 60'\n",
        "df.Age_Range[df['Age']>60]='more than 60'\n",
        "df.head(4)"
      ],
      "execution_count": null,
      "outputs": [
        {
          "output_type": "execute_result",
          "data": {
            "text/html": [
              "<div>\n",
              "<style scoped>\n",
              "    .dataframe tbody tr th:only-of-type {\n",
              "        vertical-align: middle;\n",
              "    }\n",
              "\n",
              "    .dataframe tbody tr th {\n",
              "        vertical-align: top;\n",
              "    }\n",
              "\n",
              "    .dataframe thead th {\n",
              "        text-align: right;\n",
              "    }\n",
              "</style>\n",
              "<table border=\"1\" class=\"dataframe\">\n",
              "  <thead>\n",
              "    <tr style=\"text-align: right;\">\n",
              "      <th></th>\n",
              "      <th>Gender</th>\n",
              "      <th>Ever_Married</th>\n",
              "      <th>Age</th>\n",
              "      <th>Graduated</th>\n",
              "      <th>Work_Experience</th>\n",
              "      <th>Spending_Score</th>\n",
              "      <th>Family_Size</th>\n",
              "      <th>Segmentation</th>\n",
              "      <th>Profession_Artist</th>\n",
              "      <th>Profession_Doctor</th>\n",
              "      <th>Profession_Engineer</th>\n",
              "      <th>Profession_Entertainment</th>\n",
              "      <th>Profession_Executive</th>\n",
              "      <th>Profession_Healthcare</th>\n",
              "      <th>Profession_Homemaker</th>\n",
              "      <th>Profession_Lawyer</th>\n",
              "      <th>Profession_Marketing</th>\n",
              "      <th>Category_Cat_1</th>\n",
              "      <th>Category_Cat_2</th>\n",
              "      <th>Category_Cat_3</th>\n",
              "      <th>Category_Cat_4</th>\n",
              "      <th>Category_Cat_5</th>\n",
              "      <th>Category_Cat_6</th>\n",
              "      <th>Category_Cat_7</th>\n",
              "      <th>Age_Range</th>\n",
              "    </tr>\n",
              "  </thead>\n",
              "  <tbody>\n",
              "    <tr>\n",
              "      <th>0</th>\n",
              "      <td>0</td>\n",
              "      <td>0</td>\n",
              "      <td>22</td>\n",
              "      <td>0</td>\n",
              "      <td>1.0</td>\n",
              "      <td>0</td>\n",
              "      <td>4.0</td>\n",
              "      <td>4</td>\n",
              "      <td>0</td>\n",
              "      <td>0</td>\n",
              "      <td>0</td>\n",
              "      <td>0</td>\n",
              "      <td>0</td>\n",
              "      <td>1</td>\n",
              "      <td>0</td>\n",
              "      <td>0</td>\n",
              "      <td>0</td>\n",
              "      <td>0</td>\n",
              "      <td>0</td>\n",
              "      <td>0</td>\n",
              "      <td>1</td>\n",
              "      <td>0</td>\n",
              "      <td>0</td>\n",
              "      <td>0</td>\n",
              "      <td>less than 30</td>\n",
              "    </tr>\n",
              "    <tr>\n",
              "      <th>1</th>\n",
              "      <td>1</td>\n",
              "      <td>1</td>\n",
              "      <td>38</td>\n",
              "      <td>1</td>\n",
              "      <td>1.0</td>\n",
              "      <td>1</td>\n",
              "      <td>3.0</td>\n",
              "      <td>0</td>\n",
              "      <td>0</td>\n",
              "      <td>0</td>\n",
              "      <td>1</td>\n",
              "      <td>0</td>\n",
              "      <td>0</td>\n",
              "      <td>0</td>\n",
              "      <td>0</td>\n",
              "      <td>0</td>\n",
              "      <td>0</td>\n",
              "      <td>0</td>\n",
              "      <td>0</td>\n",
              "      <td>0</td>\n",
              "      <td>1</td>\n",
              "      <td>0</td>\n",
              "      <td>0</td>\n",
              "      <td>0</td>\n",
              "      <td>less than 45</td>\n",
              "    </tr>\n",
              "    <tr>\n",
              "      <th>2</th>\n",
              "      <td>1</td>\n",
              "      <td>1</td>\n",
              "      <td>67</td>\n",
              "      <td>1</td>\n",
              "      <td>1.0</td>\n",
              "      <td>0</td>\n",
              "      <td>1.0</td>\n",
              "      <td>1</td>\n",
              "      <td>0</td>\n",
              "      <td>0</td>\n",
              "      <td>1</td>\n",
              "      <td>0</td>\n",
              "      <td>0</td>\n",
              "      <td>0</td>\n",
              "      <td>0</td>\n",
              "      <td>0</td>\n",
              "      <td>0</td>\n",
              "      <td>0</td>\n",
              "      <td>0</td>\n",
              "      <td>0</td>\n",
              "      <td>0</td>\n",
              "      <td>0</td>\n",
              "      <td>1</td>\n",
              "      <td>0</td>\n",
              "      <td>more than 60</td>\n",
              "    </tr>\n",
              "    <tr>\n",
              "      <th>3</th>\n",
              "      <td>0</td>\n",
              "      <td>1</td>\n",
              "      <td>67</td>\n",
              "      <td>1</td>\n",
              "      <td>0.0</td>\n",
              "      <td>2</td>\n",
              "      <td>2.0</td>\n",
              "      <td>1</td>\n",
              "      <td>0</td>\n",
              "      <td>0</td>\n",
              "      <td>0</td>\n",
              "      <td>0</td>\n",
              "      <td>0</td>\n",
              "      <td>0</td>\n",
              "      <td>0</td>\n",
              "      <td>1</td>\n",
              "      <td>0</td>\n",
              "      <td>0</td>\n",
              "      <td>0</td>\n",
              "      <td>0</td>\n",
              "      <td>0</td>\n",
              "      <td>0</td>\n",
              "      <td>1</td>\n",
              "      <td>0</td>\n",
              "      <td>more than 60</td>\n",
              "    </tr>\n",
              "  </tbody>\n",
              "</table>\n",
              "</div>"
            ],
            "text/plain": [
              "   Gender  Ever_Married  Age  ...  Category_Cat_6  Category_Cat_7     Age_Range\n",
              "0       0             0   22  ...               0               0  less than 30\n",
              "1       1             1   38  ...               0               0  less than 45\n",
              "2       1             1   67  ...               1               0  more than 60\n",
              "3       0             1   67  ...               1               0  more than 60\n",
              "\n",
              "[4 rows x 25 columns]"
            ]
          },
          "metadata": {
            "tags": []
          },
          "execution_count": 51
        }
      ]
    },
    {
      "cell_type": "code",
      "metadata": {
        "id": "kXZPjpfzZgP5",
        "colab": {
          "base_uri": "https://localhost:8080/",
          "height": 316
        },
        "outputId": "a0d2308e-5a40-4fbc-efd6-9c8fe0fab029"
      },
      "source": [
        "sns.countplot(data=df, x='Age_Range' ,hue='Segmentation')\n",
        "plt.title('Age Range by Segmentation')  \n",
        "plt.savefig(\"Age Range by Segmentation.png\", dpi=150);\n",
        "plt.legend(['A','B','C','D'])\n",
        "plt.show();"
      ],
      "execution_count": null,
      "outputs": [
        {
          "output_type": "display_data",
          "data": {
            "image/png": "[encoded data removed]",
            "text/plain": [
              "<Figure size 432x288 with 1 Axes>"
            ]
          },
          "metadata": {
            "tags": [],
            "needs_background": "light"
          }
        }
      ]
    },
    {
      "cell_type": "markdown",
      "metadata": {
        "id": "w0M4lB-yaXKG"
      },
      "source": [
        "As it’s shown in the chart:\n",
        "- Most of customers in ` D ` is less than 30.\n",
        "- Most of customers in  ` A` is less than 45.\n",
        "- Most of customers in  ` C` is more than 60.\n"
      ]
    },
    {
      "cell_type": "markdown",
      "metadata": {
        "id": "4aeIWdEzlzBB"
      },
      "source": [
        "Convert the `Age_Range` to dummy variables"
      ]
    },
    {
      "cell_type": "code",
      "metadata": {
        "id": "xntwExIYlkzj",
        "colab": {
          "base_uri": "https://localhost:8080/",
          "height": 146
        },
        "outputId": "f849abac-fbe1-4b9c-81c1-5629c589b4e2"
      },
      "source": [
        "df_dummies=pd.get_dummies(df[['Age_Range']])\n",
        "df=df.drop(df[['Age_Range']],axis=1)\n",
        "df=pd.concat([df, df_dummies], axis=1)\n",
        "df.sample(2)"
      ],
      "execution_count": null,
      "outputs": [
        {
          "output_type": "execute_result",
          "data": {
            "text/html": [
              "<div>\n",
              "<style scoped>\n",
              "    .dataframe tbody tr th:only-of-type {\n",
              "        vertical-align: middle;\n",
              "    }\n",
              "\n",
              "    .dataframe tbody tr th {\n",
              "        vertical-align: top;\n",
              "    }\n",
              "\n",
              "    .dataframe thead th {\n",
              "        text-align: right;\n",
              "    }\n",
              "</style>\n",
              "<table border=\"1\" class=\"dataframe\">\n",
              "  <thead>\n",
              "    <tr style=\"text-align: right;\">\n",
              "      <th></th>\n",
              "      <th>Gender</th>\n",
              "      <th>Ever_Married</th>\n",
              "      <th>Age</th>\n",
              "      <th>Graduated</th>\n",
              "      <th>Work_Experience</th>\n",
              "      <th>Spending_Score</th>\n",
              "      <th>Family_Size</th>\n",
              "      <th>Segmentation</th>\n",
              "      <th>Profession_Artist</th>\n",
              "      <th>Profession_Doctor</th>\n",
              "      <th>Profession_Engineer</th>\n",
              "      <th>Profession_Entertainment</th>\n",
              "      <th>Profession_Executive</th>\n",
              "      <th>Profession_Healthcare</th>\n",
              "      <th>Profession_Homemaker</th>\n",
              "      <th>Profession_Lawyer</th>\n",
              "      <th>Profession_Marketing</th>\n",
              "      <th>Category_Cat_1</th>\n",
              "      <th>Category_Cat_2</th>\n",
              "      <th>Category_Cat_3</th>\n",
              "      <th>Category_Cat_4</th>\n",
              "      <th>Category_Cat_5</th>\n",
              "      <th>Category_Cat_6</th>\n",
              "      <th>Category_Cat_7</th>\n",
              "      <th>Age_Range_less than 30</th>\n",
              "      <th>Age_Range_less than 45</th>\n",
              "      <th>Age_Range_less than 60</th>\n",
              "      <th>Age_Range_more than 60</th>\n",
              "    </tr>\n",
              "  </thead>\n",
              "  <tbody>\n",
              "    <tr>\n",
              "      <th>196</th>\n",
              "      <td>1</td>\n",
              "      <td>1</td>\n",
              "      <td>31</td>\n",
              "      <td>1</td>\n",
              "      <td>0.0</td>\n",
              "      <td>1</td>\n",
              "      <td>2.0</td>\n",
              "      <td>0</td>\n",
              "      <td>1</td>\n",
              "      <td>0</td>\n",
              "      <td>0</td>\n",
              "      <td>0</td>\n",
              "      <td>0</td>\n",
              "      <td>0</td>\n",
              "      <td>0</td>\n",
              "      <td>0</td>\n",
              "      <td>0</td>\n",
              "      <td>0</td>\n",
              "      <td>0</td>\n",
              "      <td>0</td>\n",
              "      <td>0</td>\n",
              "      <td>0</td>\n",
              "      <td>1</td>\n",
              "      <td>0</td>\n",
              "      <td>0</td>\n",
              "      <td>1</td>\n",
              "      <td>0</td>\n",
              "      <td>0</td>\n",
              "    </tr>\n",
              "    <tr>\n",
              "      <th>5946</th>\n",
              "      <td>1</td>\n",
              "      <td>1</td>\n",
              "      <td>48</td>\n",
              "      <td>1</td>\n",
              "      <td>10.0</td>\n",
              "      <td>0</td>\n",
              "      <td>2.0</td>\n",
              "      <td>1</td>\n",
              "      <td>1</td>\n",
              "      <td>0</td>\n",
              "      <td>0</td>\n",
              "      <td>0</td>\n",
              "      <td>0</td>\n",
              "      <td>0</td>\n",
              "      <td>0</td>\n",
              "      <td>0</td>\n",
              "      <td>0</td>\n",
              "      <td>0</td>\n",
              "      <td>0</td>\n",
              "      <td>0</td>\n",
              "      <td>0</td>\n",
              "      <td>0</td>\n",
              "      <td>1</td>\n",
              "      <td>0</td>\n",
              "      <td>0</td>\n",
              "      <td>0</td>\n",
              "      <td>1</td>\n",
              "      <td>0</td>\n",
              "    </tr>\n",
              "  </tbody>\n",
              "</table>\n",
              "</div>"
            ],
            "text/plain": [
              "      Gender  Ever_Married  ...  Age_Range_less than 60  Age_Range_more than 60\n",
              "196        1             1  ...                       0                       0\n",
              "5946       1             1  ...                       1                       0\n",
              "\n",
              "[2 rows x 28 columns]"
            ]
          },
          "metadata": {
            "tags": []
          },
          "execution_count": 53
        }
      ]
    },
    {
      "cell_type": "markdown",
      "metadata": {
        "id": "7CYVFkbvSp73"
      },
      "source": [
        "### Scaler:"
      ]
    },
    {
      "cell_type": "code",
      "metadata": {
        "id": "UP0RLU_cS-C1",
        "colab": {
          "base_uri": "https://localhost:8080/",
          "height": 177
        },
        "outputId": "905d016a-2e68-437c-91fb-793bee43fe08"
      },
      "source": [
        "df.head(3)"
      ],
      "execution_count": null,
      "outputs": [
        {
          "output_type": "execute_result",
          "data": {
            "text/html": [
              "<div>\n",
              "<style scoped>\n",
              "    .dataframe tbody tr th:only-of-type {\n",
              "        vertical-align: middle;\n",
              "    }\n",
              "\n",
              "    .dataframe tbody tr th {\n",
              "        vertical-align: top;\n",
              "    }\n",
              "\n",
              "    .dataframe thead th {\n",
              "        text-align: right;\n",
              "    }\n",
              "</style>\n",
              "<table border=\"1\" class=\"dataframe\">\n",
              "  <thead>\n",
              "    <tr style=\"text-align: right;\">\n",
              "      <th></th>\n",
              "      <th>Gender</th>\n",
              "      <th>Ever_Married</th>\n",
              "      <th>Age</th>\n",
              "      <th>Graduated</th>\n",
              "      <th>Work_Experience</th>\n",
              "      <th>Spending_Score</th>\n",
              "      <th>Family_Size</th>\n",
              "      <th>Segmentation</th>\n",
              "      <th>Profession_Artist</th>\n",
              "      <th>Profession_Doctor</th>\n",
              "      <th>Profession_Engineer</th>\n",
              "      <th>Profession_Entertainment</th>\n",
              "      <th>Profession_Executive</th>\n",
              "      <th>Profession_Healthcare</th>\n",
              "      <th>Profession_Homemaker</th>\n",
              "      <th>Profession_Lawyer</th>\n",
              "      <th>Profession_Marketing</th>\n",
              "      <th>Category_Cat_1</th>\n",
              "      <th>Category_Cat_2</th>\n",
              "      <th>Category_Cat_3</th>\n",
              "      <th>Category_Cat_4</th>\n",
              "      <th>Category_Cat_5</th>\n",
              "      <th>Category_Cat_6</th>\n",
              "      <th>Category_Cat_7</th>\n",
              "      <th>Age_Range_less than 30</th>\n",
              "      <th>Age_Range_less than 45</th>\n",
              "      <th>Age_Range_less than 60</th>\n",
              "      <th>Age_Range_more than 60</th>\n",
              "    </tr>\n",
              "  </thead>\n",
              "  <tbody>\n",
              "    <tr>\n",
              "      <th>0</th>\n",
              "      <td>0</td>\n",
              "      <td>0</td>\n",
              "      <td>22</td>\n",
              "      <td>0</td>\n",
              "      <td>1.0</td>\n",
              "      <td>0</td>\n",
              "      <td>4.0</td>\n",
              "      <td>4</td>\n",
              "      <td>0</td>\n",
              "      <td>0</td>\n",
              "      <td>0</td>\n",
              "      <td>0</td>\n",
              "      <td>0</td>\n",
              "      <td>1</td>\n",
              "      <td>0</td>\n",
              "      <td>0</td>\n",
              "      <td>0</td>\n",
              "      <td>0</td>\n",
              "      <td>0</td>\n",
              "      <td>0</td>\n",
              "      <td>1</td>\n",
              "      <td>0</td>\n",
              "      <td>0</td>\n",
              "      <td>0</td>\n",
              "      <td>1</td>\n",
              "      <td>0</td>\n",
              "      <td>0</td>\n",
              "      <td>0</td>\n",
              "    </tr>\n",
              "    <tr>\n",
              "      <th>1</th>\n",
              "      <td>1</td>\n",
              "      <td>1</td>\n",
              "      <td>38</td>\n",
              "      <td>1</td>\n",
              "      <td>1.0</td>\n",
              "      <td>1</td>\n",
              "      <td>3.0</td>\n",
              "      <td>0</td>\n",
              "      <td>0</td>\n",
              "      <td>0</td>\n",
              "      <td>1</td>\n",
              "      <td>0</td>\n",
              "      <td>0</td>\n",
              "      <td>0</td>\n",
              "      <td>0</td>\n",
              "      <td>0</td>\n",
              "      <td>0</td>\n",
              "      <td>0</td>\n",
              "      <td>0</td>\n",
              "      <td>0</td>\n",
              "      <td>1</td>\n",
              "      <td>0</td>\n",
              "      <td>0</td>\n",
              "      <td>0</td>\n",
              "      <td>0</td>\n",
              "      <td>1</td>\n",
              "      <td>0</td>\n",
              "      <td>0</td>\n",
              "    </tr>\n",
              "    <tr>\n",
              "      <th>2</th>\n",
              "      <td>1</td>\n",
              "      <td>1</td>\n",
              "      <td>67</td>\n",
              "      <td>1</td>\n",
              "      <td>1.0</td>\n",
              "      <td>0</td>\n",
              "      <td>1.0</td>\n",
              "      <td>1</td>\n",
              "      <td>0</td>\n",
              "      <td>0</td>\n",
              "      <td>1</td>\n",
              "      <td>0</td>\n",
              "      <td>0</td>\n",
              "      <td>0</td>\n",
              "      <td>0</td>\n",
              "      <td>0</td>\n",
              "      <td>0</td>\n",
              "      <td>0</td>\n",
              "      <td>0</td>\n",
              "      <td>0</td>\n",
              "      <td>0</td>\n",
              "      <td>0</td>\n",
              "      <td>1</td>\n",
              "      <td>0</td>\n",
              "      <td>0</td>\n",
              "      <td>0</td>\n",
              "      <td>0</td>\n",
              "      <td>1</td>\n",
              "    </tr>\n",
              "  </tbody>\n",
              "</table>\n",
              "</div>"
            ],
            "text/plain": [
              "   Gender  Ever_Married  ...  Age_Range_less than 60  Age_Range_more than 60\n",
              "0       0             0  ...                       0                       0\n",
              "1       1             1  ...                       0                       0\n",
              "2       1             1  ...                       0                       1\n",
              "\n",
              "[3 rows x 28 columns]"
            ]
          },
          "metadata": {
            "tags": []
          },
          "execution_count": 54
        }
      ]
    },
    {
      "cell_type": "code",
      "metadata": {
        "id": "NfgePQaDS-OY"
      },
      "source": [
        "#Standardize features by removing the mean and scaling to unit variance\n",
        "sc = StandardScaler()\n",
        "scaler = StandardScaler()\n",
        "scaled_df = pd.DataFrame(scaler.fit_transform(df[[\"Age\", \"Family_Size\",'Work_Experience']]), columns=[\"Age\", \"Family_Size\",'Work_Experience'])\n",
        "df[\"Age\"] = scaled_df[\"Age\"]\n",
        "df[\"Family_Size\"] = scaled_df[\"Family_Size\"]\n",
        "df[\"Work_Experience\"] = scaled_df[\"Work_Experience\"]"
      ],
      "execution_count": null,
      "outputs": []
    },
    {
      "cell_type": "code",
      "metadata": {
        "id": "6TwMYELxS-UW",
        "colab": {
          "base_uri": "https://localhost:8080/",
          "height": 177
        },
        "outputId": "398b922b-ec91-4009-db93-55fa5f7d3422"
      },
      "source": [
        "df.head(3)"
      ],
      "execution_count": null,
      "outputs": [
        {
          "output_type": "execute_result",
          "data": {
            "text/html": [
              "<div>\n",
              "<style scoped>\n",
              "    .dataframe tbody tr th:only-of-type {\n",
              "        vertical-align: middle;\n",
              "    }\n",
              "\n",
              "    .dataframe tbody tr th {\n",
              "        vertical-align: top;\n",
              "    }\n",
              "\n",
              "    .dataframe thead th {\n",
              "        text-align: right;\n",
              "    }\n",
              "</style>\n",
              "<table border=\"1\" class=\"dataframe\">\n",
              "  <thead>\n",
              "    <tr style=\"text-align: right;\">\n",
              "      <th></th>\n",
              "      <th>Gender</th>\n",
              "      <th>Ever_Married</th>\n",
              "      <th>Age</th>\n",
              "      <th>Graduated</th>\n",
              "      <th>Work_Experience</th>\n",
              "      <th>Spending_Score</th>\n",
              "      <th>Family_Size</th>\n",
              "      <th>Segmentation</th>\n",
              "      <th>Profession_Artist</th>\n",
              "      <th>Profession_Doctor</th>\n",
              "      <th>Profession_Engineer</th>\n",
              "      <th>Profession_Entertainment</th>\n",
              "      <th>Profession_Executive</th>\n",
              "      <th>Profession_Healthcare</th>\n",
              "      <th>Profession_Homemaker</th>\n",
              "      <th>Profession_Lawyer</th>\n",
              "      <th>Profession_Marketing</th>\n",
              "      <th>Category_Cat_1</th>\n",
              "      <th>Category_Cat_2</th>\n",
              "      <th>Category_Cat_3</th>\n",
              "      <th>Category_Cat_4</th>\n",
              "      <th>Category_Cat_5</th>\n",
              "      <th>Category_Cat_6</th>\n",
              "      <th>Category_Cat_7</th>\n",
              "      <th>Age_Range_less than 30</th>\n",
              "      <th>Age_Range_less than 45</th>\n",
              "      <th>Age_Range_less than 60</th>\n",
              "      <th>Age_Range_more than 60</th>\n",
              "    </tr>\n",
              "  </thead>\n",
              "  <tbody>\n",
              "    <tr>\n",
              "      <th>0</th>\n",
              "      <td>0</td>\n",
              "      <td>0</td>\n",
              "      <td>-1.284623</td>\n",
              "      <td>0</td>\n",
              "      <td>-0.451136</td>\n",
              "      <td>0</td>\n",
              "      <td>0.785536</td>\n",
              "      <td>4</td>\n",
              "      <td>0</td>\n",
              "      <td>0</td>\n",
              "      <td>0</td>\n",
              "      <td>0</td>\n",
              "      <td>0</td>\n",
              "      <td>1</td>\n",
              "      <td>0</td>\n",
              "      <td>0</td>\n",
              "      <td>0</td>\n",
              "      <td>0</td>\n",
              "      <td>0</td>\n",
              "      <td>0</td>\n",
              "      <td>1</td>\n",
              "      <td>0</td>\n",
              "      <td>0</td>\n",
              "      <td>0</td>\n",
              "      <td>1</td>\n",
              "      <td>0</td>\n",
              "      <td>0</td>\n",
              "      <td>0</td>\n",
              "    </tr>\n",
              "    <tr>\n",
              "      <th>1</th>\n",
              "      <td>1</td>\n",
              "      <td>1</td>\n",
              "      <td>-0.327151</td>\n",
              "      <td>1</td>\n",
              "      <td>-0.451136</td>\n",
              "      <td>1</td>\n",
              "      <td>0.122735</td>\n",
              "      <td>0</td>\n",
              "      <td>0</td>\n",
              "      <td>0</td>\n",
              "      <td>1</td>\n",
              "      <td>0</td>\n",
              "      <td>0</td>\n",
              "      <td>0</td>\n",
              "      <td>0</td>\n",
              "      <td>0</td>\n",
              "      <td>0</td>\n",
              "      <td>0</td>\n",
              "      <td>0</td>\n",
              "      <td>0</td>\n",
              "      <td>1</td>\n",
              "      <td>0</td>\n",
              "      <td>0</td>\n",
              "      <td>0</td>\n",
              "      <td>0</td>\n",
              "      <td>1</td>\n",
              "      <td>0</td>\n",
              "      <td>0</td>\n",
              "    </tr>\n",
              "    <tr>\n",
              "      <th>2</th>\n",
              "      <td>1</td>\n",
              "      <td>1</td>\n",
              "      <td>1.408268</td>\n",
              "      <td>1</td>\n",
              "      <td>-0.451136</td>\n",
              "      <td>0</td>\n",
              "      <td>-1.202868</td>\n",
              "      <td>1</td>\n",
              "      <td>0</td>\n",
              "      <td>0</td>\n",
              "      <td>1</td>\n",
              "      <td>0</td>\n",
              "      <td>0</td>\n",
              "      <td>0</td>\n",
              "      <td>0</td>\n",
              "      <td>0</td>\n",
              "      <td>0</td>\n",
              "      <td>0</td>\n",
              "      <td>0</td>\n",
              "      <td>0</td>\n",
              "      <td>0</td>\n",
              "      <td>0</td>\n",
              "      <td>1</td>\n",
              "      <td>0</td>\n",
              "      <td>0</td>\n",
              "      <td>0</td>\n",
              "      <td>0</td>\n",
              "      <td>1</td>\n",
              "    </tr>\n",
              "  </tbody>\n",
              "</table>\n",
              "</div>"
            ],
            "text/plain": [
              "   Gender  Ever_Married  ...  Age_Range_less than 60  Age_Range_more than 60\n",
              "0       0             0  ...                       0                       0\n",
              "1       1             1  ...                       0                       0\n",
              "2       1             1  ...                       0                       1\n",
              "\n",
              "[3 rows x 28 columns]"
            ]
          },
          "metadata": {
            "tags": []
          },
          "execution_count": 63
        }
      ]
    },
    {
      "cell_type": "markdown",
      "metadata": {
        "id": "vhUSuW__TIOA"
      },
      "source": [
        "### Modelling"
      ]
    },
    {
      "cell_type": "markdown",
      "metadata": {
        "id": "rEn8IOhSH5vg"
      },
      "source": [
        "Disply the relation between the target and each features"
      ]
    },
    {
      "cell_type": "code",
      "metadata": {
        "id": "9IcHdZpA31xW",
        "colab": {
          "base_uri": "https://localhost:8080/",
          "height": 667
        },
        "outputId": "83d58de3-1a0a-4997-9d96-6cfdda133117"
      },
      "source": [
        "corr = df.corr()\n",
        "plt.savefig('corr.png', bbox_inches='tight', pad_inches=0.0)\n",
        "corr.style.background_gradient()"
      ],
      "execution_count": null,
      "outputs": [
        {
          "output_type": "execute_result",
          "data": {
            "text/html": [
              "<style  type=\"text/css\" >\n",
              "#T_27c76e66_7610_11eb_93c2_0242ac1c0002row0_col0,#T_27c76e66_7610_11eb_93c2_0242ac1c0002row1_col1,#T_27c76e66_7610_11eb_93c2_0242ac1c0002row2_col2,#T_27c76e66_7610_11eb_93c2_0242ac1c0002row3_col3,#T_27c76e66_7610_11eb_93c2_0242ac1c0002row4_col4,#T_27c76e66_7610_11eb_93c2_0242ac1c0002row5_col5,#T_27c76e66_7610_11eb_93c2_0242ac1c0002row6_col6,#T_27c76e66_7610_11eb_93c2_0242ac1c0002row7_col7,#T_27c76e66_7610_11eb_93c2_0242ac1c0002row8_col8,#T_27c76e66_7610_11eb_93c2_0242ac1c0002row9_col9,#T_27c76e66_7610_11eb_93c2_0242ac1c0002row10_col10,#T_27c76e66_7610_11eb_93c2_0242ac1c0002row11_col11,#T_27c76e66_7610_11eb_93c2_0242ac1c0002row12_col12,#T_27c76e66_7610_11eb_93c2_0242ac1c0002row13_col13,#T_27c76e66_7610_11eb_93c2_0242ac1c0002row14_col14,#T_27c76e66_7610_11eb_93c2_0242ac1c0002row15_col15,#T_27c76e66_7610_11eb_93c2_0242ac1c0002row16_col16,#T_27c76e66_7610_11eb_93c2_0242ac1c0002row17_col17,#T_27c76e66_7610_11eb_93c2_0242ac1c0002row18_col18,#T_27c76e66_7610_11eb_93c2_0242ac1c0002row19_col19,#T_27c76e66_7610_11eb_93c2_0242ac1c0002row20_col20,#T_27c76e66_7610_11eb_93c2_0242ac1c0002row21_col21,#T_27c76e66_7610_11eb_93c2_0242ac1c0002row22_col22,#T_27c76e66_7610_11eb_93c2_0242ac1c0002row23_col23,#T_27c76e66_7610_11eb_93c2_0242ac1c0002row24_col24,#T_27c76e66_7610_11eb_93c2_0242ac1c0002row25_col25,#T_27c76e66_7610_11eb_93c2_0242ac1c0002row26_col26,#T_27c76e66_7610_11eb_93c2_0242ac1c0002row27_col27{\n",
              "            background-color:  #023858;\n",
              "            color:  #f1f1f1;\n",
              "        }#T_27c76e66_7610_11eb_93c2_0242ac1c0002row0_col1,#T_27c76e66_7610_11eb_93c2_0242ac1c0002row3_col18,#T_27c76e66_7610_11eb_93c2_0242ac1c0002row6_col25,#T_27c76e66_7610_11eb_93c2_0242ac1c0002row14_col13{\n",
              "            background-color:  #d0d1e6;\n",
              "            color:  #000000;\n",
              "        }#T_27c76e66_7610_11eb_93c2_0242ac1c0002row0_col2,#T_27c76e66_7610_11eb_93c2_0242ac1c0002row4_col22,#T_27c76e66_7610_11eb_93c2_0242ac1c0002row10_col2,#T_27c76e66_7610_11eb_93c2_0242ac1c0002row10_col24,#T_27c76e66_7610_11eb_93c2_0242ac1c0002row25_col20{\n",
              "            background-color:  #a7bddb;\n",
              "            color:  #000000;\n",
              "        }#T_27c76e66_7610_11eb_93c2_0242ac1c0002row0_col3,#T_27c76e66_7610_11eb_93c2_0242ac1c0002row6_col26,#T_27c76e66_7610_11eb_93c2_0242ac1c0002row15_col19,#T_27c76e66_7610_11eb_93c2_0242ac1c0002row19_col26,#T_27c76e66_7610_11eb_93c2_0242ac1c0002row23_col19,#T_27c76e66_7610_11eb_93c2_0242ac1c0002row27_col3{\n",
              "            background-color:  #c5cce3;\n",
              "            color:  #000000;\n",
              "        }#T_27c76e66_7610_11eb_93c2_0242ac1c0002row0_col4,#T_27c76e66_7610_11eb_93c2_0242ac1c0002row7_col25,#T_27c76e66_7610_11eb_93c2_0242ac1c0002row9_col23,#T_27c76e66_7610_11eb_93c2_0242ac1c0002row11_col6,#T_27c76e66_7610_11eb_93c2_0242ac1c0002row13_col23,#T_27c76e66_7610_11eb_93c2_0242ac1c0002row15_col26,#T_27c76e66_7610_11eb_93c2_0242ac1c0002row18_col7,#T_27c76e66_7610_11eb_93c2_0242ac1c0002row18_col27,#T_27c76e66_7610_11eb_93c2_0242ac1c0002row21_col11,#T_27c76e66_7610_11eb_93c2_0242ac1c0002row23_col11,#T_27c76e66_7610_11eb_93c2_0242ac1c0002row26_col24,#T_27c76e66_7610_11eb_93c2_0242ac1c0002row27_col18{\n",
              "            background-color:  #dbdaeb;\n",
              "            color:  #000000;\n",
              "        }#T_27c76e66_7610_11eb_93c2_0242ac1c0002row0_col5,#T_27c76e66_7610_11eb_93c2_0242ac1c0002row1_col10,#T_27c76e66_7610_11eb_93c2_0242ac1c0002row4_col7,#T_27c76e66_7610_11eb_93c2_0242ac1c0002row7_col27,#T_27c76e66_7610_11eb_93c2_0242ac1c0002row20_col9,#T_27c76e66_7610_11eb_93c2_0242ac1c0002row21_col7,#T_27c76e66_7610_11eb_93c2_0242ac1c0002row23_col7{\n",
              "            background-color:  #dedcec;\n",
              "            color:  #000000;\n",
              "        }#T_27c76e66_7610_11eb_93c2_0242ac1c0002row0_col6,#T_27c76e66_7610_11eb_93c2_0242ac1c0002row0_col7,#T_27c76e66_7610_11eb_93c2_0242ac1c0002row0_col17,#T_27c76e66_7610_11eb_93c2_0242ac1c0002row4_col6,#T_27c76e66_7610_11eb_93c2_0242ac1c0002row6_col21,#T_27c76e66_7610_11eb_93c2_0242ac1c0002row7_col0,#T_27c76e66_7610_11eb_93c2_0242ac1c0002row7_col5,#T_27c76e66_7610_11eb_93c2_0242ac1c0002row7_col9,#T_27c76e66_7610_11eb_93c2_0242ac1c0002row7_col12,#T_27c76e66_7610_11eb_93c2_0242ac1c0002row7_col17,#T_27c76e66_7610_11eb_93c2_0242ac1c0002row12_col7,#T_27c76e66_7610_11eb_93c2_0242ac1c0002row16_col17,#T_27c76e66_7610_11eb_93c2_0242ac1c0002row17_col10,#T_27c76e66_7610_11eb_93c2_0242ac1c0002row17_col23,#T_27c76e66_7610_11eb_93c2_0242ac1c0002row18_col4,#T_27c76e66_7610_11eb_93c2_0242ac1c0002row18_col12{\n",
              "            background-color:  #e3e0ee;\n",
              "            color:  #000000;\n",
              "        }#T_27c76e66_7610_11eb_93c2_0242ac1c0002row0_col8,#T_27c76e66_7610_11eb_93c2_0242ac1c0002row5_col8,#T_27c76e66_7610_11eb_93c2_0242ac1c0002row8_col5,#T_27c76e66_7610_11eb_93c2_0242ac1c0002row14_col26,#T_27c76e66_7610_11eb_93c2_0242ac1c0002row19_col20,#T_27c76e66_7610_11eb_93c2_0242ac1c0002row22_col25{\n",
              "            background-color:  #cacee5;\n",
              "            color:  #000000;\n",
              "        }#T_27c76e66_7610_11eb_93c2_0242ac1c0002row0_col9,#T_27c76e66_7610_11eb_93c2_0242ac1c0002row1_col23,#T_27c76e66_7610_11eb_93c2_0242ac1c0002row3_col23,#T_27c76e66_7610_11eb_93c2_0242ac1c0002row12_col23,#T_27c76e66_7610_11eb_93c2_0242ac1c0002row17_col15,#T_27c76e66_7610_11eb_93c2_0242ac1c0002row21_col12,#T_27c76e66_7610_11eb_93c2_0242ac1c0002row21_col23,#T_27c76e66_7610_11eb_93c2_0242ac1c0002row26_col0,#T_27c76e66_7610_11eb_93c2_0242ac1c0002row27_col11{\n",
              "            background-color:  #e2dfee;\n",
              "            color:  #000000;\n",
              "        }#T_27c76e66_7610_11eb_93c2_0242ac1c0002row0_col10,#T_27c76e66_7610_11eb_93c2_0242ac1c0002row7_col22,#T_27c76e66_7610_11eb_93c2_0242ac1c0002row16_col19,#T_27c76e66_7610_11eb_93c2_0242ac1c0002row24_col19{\n",
              "            background-color:  #adc1dd;\n",
              "            color:  #000000;\n",
              "        }#T_27c76e66_7610_11eb_93c2_0242ac1c0002row0_col11,#T_27c76e66_7610_11eb_93c2_0242ac1c0002row1_col0,#T_27c76e66_7610_11eb_93c2_0242ac1c0002row1_col14,#T_27c76e66_7610_11eb_93c2_0242ac1c0002row6_col3,#T_27c76e66_7610_11eb_93c2_0242ac1c0002row11_col7,#T_27c76e66_7610_11eb_93c2_0242ac1c0002row19_col21{\n",
              "            background-color:  #f1ebf4;\n",
              "            color:  #000000;\n",
              "        }#T_27c76e66_7610_11eb_93c2_0242ac1c0002row0_col12,#T_27c76e66_7610_11eb_93c2_0242ac1c0002row2_col4,#T_27c76e66_7610_11eb_93c2_0242ac1c0002row2_col6,#T_27c76e66_7610_11eb_93c2_0242ac1c0002row2_col7,#T_27c76e66_7610_11eb_93c2_0242ac1c0002row2_col13,#T_27c76e66_7610_11eb_93c2_0242ac1c0002row2_col24,#T_27c76e66_7610_11eb_93c2_0242ac1c0002row8_col9,#T_27c76e66_7610_11eb_93c2_0242ac1c0002row8_col10,#T_27c76e66_7610_11eb_93c2_0242ac1c0002row8_col11,#T_27c76e66_7610_11eb_93c2_0242ac1c0002row8_col14,#T_27c76e66_7610_11eb_93c2_0242ac1c0002row8_col16,#T_27c76e66_7610_11eb_93c2_0242ac1c0002row12_col0,#T_27c76e66_7610_11eb_93c2_0242ac1c0002row13_col8,#T_27c76e66_7610_11eb_93c2_0242ac1c0002row20_col22,#T_27c76e66_7610_11eb_93c2_0242ac1c0002row22_col17,#T_27c76e66_7610_11eb_93c2_0242ac1c0002row22_col18,#T_27c76e66_7610_11eb_93c2_0242ac1c0002row22_col19,#T_27c76e66_7610_11eb_93c2_0242ac1c0002row22_col20,#T_27c76e66_7610_11eb_93c2_0242ac1c0002row22_col21,#T_27c76e66_7610_11eb_93c2_0242ac1c0002row22_col23,#T_27c76e66_7610_11eb_93c2_0242ac1c0002row24_col1,#T_27c76e66_7610_11eb_93c2_0242ac1c0002row24_col2,#T_27c76e66_7610_11eb_93c2_0242ac1c0002row24_col3,#T_27c76e66_7610_11eb_93c2_0242ac1c0002row24_col5,#T_27c76e66_7610_11eb_93c2_0242ac1c0002row24_col25,#T_27c76e66_7610_11eb_93c2_0242ac1c0002row25_col15,#T_27c76e66_7610_11eb_93c2_0242ac1c0002row25_col26,#T_27c76e66_7610_11eb_93c2_0242ac1c0002row25_col27{\n",
              "            background-color:  #fff7fb;\n",
              "            color:  #000000;\n",
              "        }#T_27c76e66_7610_11eb_93c2_0242ac1c0002row0_col13,#T_27c76e66_7610_11eb_93c2_0242ac1c0002row2_col20,#T_27c76e66_7610_11eb_93c2_0242ac1c0002row4_col2,#T_27c76e66_7610_11eb_93c2_0242ac1c0002row4_col3,#T_27c76e66_7610_11eb_93c2_0242ac1c0002row10_col22,#T_27c76e66_7610_11eb_93c2_0242ac1c0002row12_col19,#T_27c76e66_7610_11eb_93c2_0242ac1c0002row17_col19,#T_27c76e66_7610_11eb_93c2_0242ac1c0002row17_col26,#T_27c76e66_7610_11eb_93c2_0242ac1c0002row23_col26,#T_27c76e66_7610_11eb_93c2_0242ac1c0002row24_col18{\n",
              "            background-color:  #c4cbe3;\n",
              "            color:  #000000;\n",
              "        }#T_27c76e66_7610_11eb_93c2_0242ac1c0002row0_col14,#T_27c76e66_7610_11eb_93c2_0242ac1c0002row3_col20,#T_27c76e66_7610_11eb_93c2_0242ac1c0002row6_col2,#T_27c76e66_7610_11eb_93c2_0242ac1c0002row12_col18,#T_27c76e66_7610_11eb_93c2_0242ac1c0002row13_col25,#T_27c76e66_7610_11eb_93c2_0242ac1c0002row17_col8,#T_27c76e66_7610_11eb_93c2_0242ac1c0002row20_col19,#T_27c76e66_7610_11eb_93c2_0242ac1c0002row21_col8,#T_27c76e66_7610_11eb_93c2_0242ac1c0002row21_col18,#T_27c76e66_7610_11eb_93c2_0242ac1c0002row23_col5,#T_27c76e66_7610_11eb_93c2_0242ac1c0002row25_col0,#T_27c76e66_7610_11eb_93c2_0242ac1c0002row26_col11{\n",
              "            background-color:  #d5d5e8;\n",
              "            color:  #000000;\n",
              "        }#T_27c76e66_7610_11eb_93c2_0242ac1c0002row0_col15,#T_27c76e66_7610_11eb_93c2_0242ac1c0002row0_col23,#T_27c76e66_7610_11eb_93c2_0242ac1c0002row2_col11,#T_27c76e66_7610_11eb_93c2_0242ac1c0002row6_col11,#T_27c76e66_7610_11eb_93c2_0242ac1c0002row7_col1,#T_27c76e66_7610_11eb_93c2_0242ac1c0002row7_col16,#T_27c76e66_7610_11eb_93c2_0242ac1c0002row8_col27,#T_27c76e66_7610_11eb_93c2_0242ac1c0002row11_col5,#T_27c76e66_7610_11eb_93c2_0242ac1c0002row11_col13,#T_27c76e66_7610_11eb_93c2_0242ac1c0002row16_col3,#T_27c76e66_7610_11eb_93c2_0242ac1c0002row16_col23,#T_27c76e66_7610_11eb_93c2_0242ac1c0002row17_col12,#T_27c76e66_7610_11eb_93c2_0242ac1c0002row19_col0,#T_27c76e66_7610_11eb_93c2_0242ac1c0002row19_col5,#T_27c76e66_7610_11eb_93c2_0242ac1c0002row20_col0,#T_27c76e66_7610_11eb_93c2_0242ac1c0002row20_col12,#T_27c76e66_7610_11eb_93c2_0242ac1c0002row24_col4{\n",
              "            background-color:  #dddbec;\n",
              "            color:  #000000;\n",
              "        }#T_27c76e66_7610_11eb_93c2_0242ac1c0002row0_col16,#T_27c76e66_7610_11eb_93c2_0242ac1c0002row5_col10,#T_27c76e66_7610_11eb_93c2_0242ac1c0002row5_col11,#T_27c76e66_7610_11eb_93c2_0242ac1c0002row13_col0,#T_27c76e66_7610_11eb_93c2_0242ac1c0002row13_col17,#T_27c76e66_7610_11eb_93c2_0242ac1c0002row14_col6,#T_27c76e66_7610_11eb_93c2_0242ac1c0002row19_col14,#T_27c76e66_7610_11eb_93c2_0242ac1c0002row21_col4,#T_27c76e66_7610_11eb_93c2_0242ac1c0002row21_col15,#T_27c76e66_7610_11eb_93c2_0242ac1c0002row25_col6{\n",
              "            background-color:  #e5e1ef;\n",
              "            color:  #000000;\n",
              "        }#T_27c76e66_7610_11eb_93c2_0242ac1c0002row0_col18,#T_27c76e66_7610_11eb_93c2_0242ac1c0002row7_col2,#T_27c76e66_7610_11eb_93c2_0242ac1c0002row9_col18,#T_27c76e66_7610_11eb_93c2_0242ac1c0002row9_col26,#T_27c76e66_7610_11eb_93c2_0242ac1c0002row11_col18,#T_27c76e66_7610_11eb_93c2_0242ac1c0002row16_col7,#T_27c76e66_7610_11eb_93c2_0242ac1c0002row25_col18{\n",
              "            background-color:  #ced0e6;\n",
              "            color:  #000000;\n",
              "        }#T_27c76e66_7610_11eb_93c2_0242ac1c0002row0_col19,#T_27c76e66_7610_11eb_93c2_0242ac1c0002row9_col19,#T_27c76e66_7610_11eb_93c2_0242ac1c0002row13_col19,#T_27c76e66_7610_11eb_93c2_0242ac1c0002row14_col25,#T_27c76e66_7610_11eb_93c2_0242ac1c0002row21_col13,#T_27c76e66_7610_11eb_93c2_0242ac1c0002row21_col20,#T_27c76e66_7610_11eb_93c2_0242ac1c0002row25_col22{\n",
              "            background-color:  #b7c5df;\n",
              "            color:  #000000;\n",
              "        }#T_27c76e66_7610_11eb_93c2_0242ac1c0002row0_col20,#T_27c76e66_7610_11eb_93c2_0242ac1c0002row10_col0,#T_27c76e66_7610_11eb_93c2_0242ac1c0002row11_col20,#T_27c76e66_7610_11eb_93c2_0242ac1c0002row11_col24,#T_27c76e66_7610_11eb_93c2_0242ac1c0002row12_col20,#T_27c76e66_7610_11eb_93c2_0242ac1c0002row26_col5{\n",
              "            background-color:  #abbfdc;\n",
              "            color:  #000000;\n",
              "        }#T_27c76e66_7610_11eb_93c2_0242ac1c0002row0_col21,#T_27c76e66_7610_11eb_93c2_0242ac1c0002row3_col9,#T_27c76e66_7610_11eb_93c2_0242ac1c0002row7_col4,#T_27c76e66_7610_11eb_93c2_0242ac1c0002row11_col17,#T_27c76e66_7610_11eb_93c2_0242ac1c0002row15_col25,#T_27c76e66_7610_11eb_93c2_0242ac1c0002row18_col10,#T_27c76e66_7610_11eb_93c2_0242ac1c0002row22_col0,#T_27c76e66_7610_11eb_93c2_0242ac1c0002row24_col21,#T_27c76e66_7610_11eb_93c2_0242ac1c0002row26_col13,#T_27c76e66_7610_11eb_93c2_0242ac1c0002row26_col17{\n",
              "            background-color:  #e6e2ef;\n",
              "            color:  #000000;\n",
              "        }#T_27c76e66_7610_11eb_93c2_0242ac1c0002row0_col22,#T_27c76e66_7610_11eb_93c2_0242ac1c0002row4_col20,#T_27c76e66_7610_11eb_93c2_0242ac1c0002row12_col24,#T_27c76e66_7610_11eb_93c2_0242ac1c0002row20_col2,#T_27c76e66_7610_11eb_93c2_0242ac1c0002row20_col13,#T_27c76e66_7610_11eb_93c2_0242ac1c0002row25_col19{\n",
              "            background-color:  #b5c4df;\n",
              "            color:  #000000;\n",
              "        }#T_27c76e66_7610_11eb_93c2_0242ac1c0002row0_col24,#T_27c76e66_7610_11eb_93c2_0242ac1c0002row11_col2,#T_27c76e66_7610_11eb_93c2_0242ac1c0002row22_col3{\n",
              "            background-color:  #a1bbda;\n",
              "            color:  #000000;\n",
              "        }#T_27c76e66_7610_11eb_93c2_0242ac1c0002row0_col25,#T_27c76e66_7610_11eb_93c2_0242ac1c0002row1_col15,#T_27c76e66_7610_11eb_93c2_0242ac1c0002row1_col20,#T_27c76e66_7610_11eb_93c2_0242ac1c0002row10_col1,#T_27c76e66_7610_11eb_93c2_0242ac1c0002row10_col25,#T_27c76e66_7610_11eb_93c2_0242ac1c0002row12_col26,#T_27c76e66_7610_11eb_93c2_0242ac1c0002row14_col22,#T_27c76e66_7610_11eb_93c2_0242ac1c0002row20_col6{\n",
              "            background-color:  #b3c3de;\n",
              "            color:  #000000;\n",
              "        }#T_27c76e66_7610_11eb_93c2_0242ac1c0002row0_col26,#T_27c76e66_7610_11eb_93c2_0242ac1c0002row6_col12,#T_27c76e66_7610_11eb_93c2_0242ac1c0002row9_col1,#T_27c76e66_7610_11eb_93c2_0242ac1c0002row18_col26,#T_27c76e66_7610_11eb_93c2_0242ac1c0002row22_col15,#T_27c76e66_7610_11eb_93c2_0242ac1c0002row25_col1{\n",
              "            background-color:  #c8cde4;\n",
              "            color:  #000000;\n",
              "        }#T_27c76e66_7610_11eb_93c2_0242ac1c0002row0_col27,#T_27c76e66_7610_11eb_93c2_0242ac1c0002row4_col26,#T_27c76e66_7610_11eb_93c2_0242ac1c0002row8_col0,#T_27c76e66_7610_11eb_93c2_0242ac1c0002row9_col6,#T_27c76e66_7610_11eb_93c2_0242ac1c0002row15_col13,#T_27c76e66_7610_11eb_93c2_0242ac1c0002row16_col27,#T_27c76e66_7610_11eb_93c2_0242ac1c0002row19_col6,#T_27c76e66_7610_11eb_93c2_0242ac1c0002row22_col12,#T_27c76e66_7610_11eb_93c2_0242ac1c0002row23_col18{\n",
              "            background-color:  #d8d7e9;\n",
              "            color:  #000000;\n",
              "        }#T_27c76e66_7610_11eb_93c2_0242ac1c0002row1_col2{\n",
              "            background-color:  #0c74b2;\n",
              "            color:  #f1f1f1;\n",
              "        }#T_27c76e66_7610_11eb_93c2_0242ac1c0002row1_col3{\n",
              "            background-color:  #9cb9d9;\n",
              "            color:  #000000;\n",
              "        }#T_27c76e66_7610_11eb_93c2_0242ac1c0002row1_col4,#T_27c76e66_7610_11eb_93c2_0242ac1c0002row9_col8,#T_27c76e66_7610_11eb_93c2_0242ac1c0002row10_col8,#T_27c76e66_7610_11eb_93c2_0242ac1c0002row11_col0,#T_27c76e66_7610_11eb_93c2_0242ac1c0002row12_col16,#T_27c76e66_7610_11eb_93c2_0242ac1c0002row13_col11,#T_27c76e66_7610_11eb_93c2_0242ac1c0002row25_col7,#T_27c76e66_7610_11eb_93c2_0242ac1c0002row26_col15{\n",
              "            background-color:  #f4eef6;\n",
              "            color:  #000000;\n",
              "        }#T_27c76e66_7610_11eb_93c2_0242ac1c0002row1_col5,#T_27c76e66_7610_11eb_93c2_0242ac1c0002row2_col1{\n",
              "            background-color:  #187cb6;\n",
              "            color:  #000000;\n",
              "        }#T_27c76e66_7610_11eb_93c2_0242ac1c0002row1_col6,#T_27c76e66_7610_11eb_93c2_0242ac1c0002row2_col0,#T_27c76e66_7610_11eb_93c2_0242ac1c0002row4_col12,#T_27c76e66_7610_11eb_93c2_0242ac1c0002row6_col17,#T_27c76e66_7610_11eb_93c2_0242ac1c0002row8_col4,#T_27c76e66_7610_11eb_93c2_0242ac1c0002row11_col4,#T_27c76e66_7610_11eb_93c2_0242ac1c0002row12_col17,#T_27c76e66_7610_11eb_93c2_0242ac1c0002row14_col23,#T_27c76e66_7610_11eb_93c2_0242ac1c0002row19_col16,#T_27c76e66_7610_11eb_93c2_0242ac1c0002row20_col8,#T_27c76e66_7610_11eb_93c2_0242ac1c0002row21_col9,#T_27c76e66_7610_11eb_93c2_0242ac1c0002row24_col11,#T_27c76e66_7610_11eb_93c2_0242ac1c0002row25_col12{\n",
              "            background-color:  #e4e1ef;\n",
              "            color:  #000000;\n",
              "        }#T_27c76e66_7610_11eb_93c2_0242ac1c0002row1_col7,#T_27c76e66_7610_11eb_93c2_0242ac1c0002row8_col12{\n",
              "            background-color:  #fbf4f9;\n",
              "            color:  #000000;\n",
              "        }#T_27c76e66_7610_11eb_93c2_0242ac1c0002row1_col8,#T_27c76e66_7610_11eb_93c2_0242ac1c0002row9_col20,#T_27c76e66_7610_11eb_93c2_0242ac1c0002row16_col20,#T_27c76e66_7610_11eb_93c2_0242ac1c0002row18_col13,#T_27c76e66_7610_11eb_93c2_0242ac1c0002row23_col2{\n",
              "            background-color:  #a9bfdc;\n",
              "            color:  #000000;\n",
              "        }#T_27c76e66_7610_11eb_93c2_0242ac1c0002row1_col9,#T_27c76e66_7610_11eb_93c2_0242ac1c0002row9_col21,#T_27c76e66_7610_11eb_93c2_0242ac1c0002row15_col21,#T_27c76e66_7610_11eb_93c2_0242ac1c0002row17_col14,#T_27c76e66_7610_11eb_93c2_0242ac1c0002row18_col14,#T_27c76e66_7610_11eb_93c2_0242ac1c0002row20_col3,#T_27c76e66_7610_11eb_93c2_0242ac1c0002row23_col21{\n",
              "            background-color:  #eee9f3;\n",
              "            color:  #000000;\n",
              "        }#T_27c76e66_7610_11eb_93c2_0242ac1c0002row1_col11,#T_27c76e66_7610_11eb_93c2_0242ac1c0002row5_col18,#T_27c76e66_7610_11eb_93c2_0242ac1c0002row10_col5,#T_27c76e66_7610_11eb_93c2_0242ac1c0002row12_col13,#T_27c76e66_7610_11eb_93c2_0242ac1c0002row14_col5,#T_27c76e66_7610_11eb_93c2_0242ac1c0002row16_col0,#T_27c76e66_7610_11eb_93c2_0242ac1c0002row21_col5{\n",
              "            background-color:  #d7d6e9;\n",
              "            color:  #000000;\n",
              "        }#T_27c76e66_7610_11eb_93c2_0242ac1c0002row1_col12,#T_27c76e66_7610_11eb_93c2_0242ac1c0002row7_col20,#T_27c76e66_7610_11eb_93c2_0242ac1c0002row14_col20,#T_27c76e66_7610_11eb_93c2_0242ac1c0002row16_col2{\n",
              "            background-color:  #b0c2de;\n",
              "            color:  #000000;\n",
              "        }#T_27c76e66_7610_11eb_93c2_0242ac1c0002row1_col13,#T_27c76e66_7610_11eb_93c2_0242ac1c0002row26_col25,#T_27c76e66_7610_11eb_93c2_0242ac1c0002row27_col4{\n",
              "            background-color:  #fdf5fa;\n",
              "            color:  #000000;\n",
              "        }#T_27c76e66_7610_11eb_93c2_0242ac1c0002row1_col16,#T_27c76e66_7610_11eb_93c2_0242ac1c0002row24_col15{\n",
              "            background-color:  #faf2f8;\n",
              "            color:  #000000;\n",
              "        }#T_27c76e66_7610_11eb_93c2_0242ac1c0002row1_col17,#T_27c76e66_7610_11eb_93c2_0242ac1c0002row2_col10,#T_27c76e66_7610_11eb_93c2_0242ac1c0002row5_col17,#T_27c76e66_7610_11eb_93c2_0242ac1c0002row7_col8,#T_27c76e66_7610_11eb_93c2_0242ac1c0002row9_col4,#T_27c76e66_7610_11eb_93c2_0242ac1c0002row9_col17,#T_27c76e66_7610_11eb_93c2_0242ac1c0002row10_col4,#T_27c76e66_7610_11eb_93c2_0242ac1c0002row13_col21,#T_27c76e66_7610_11eb_93c2_0242ac1c0002row14_col11,#T_27c76e66_7610_11eb_93c2_0242ac1c0002row14_col17,#T_27c76e66_7610_11eb_93c2_0242ac1c0002row14_col21,#T_27c76e66_7610_11eb_93c2_0242ac1c0002row15_col17,#T_27c76e66_7610_11eb_93c2_0242ac1c0002row15_col23,#T_27c76e66_7610_11eb_93c2_0242ac1c0002row16_col4,#T_27c76e66_7610_11eb_93c2_0242ac1c0002row16_col11,#T_27c76e66_7610_11eb_93c2_0242ac1c0002row18_col23,#T_27c76e66_7610_11eb_93c2_0242ac1c0002row19_col12,#T_27c76e66_7610_11eb_93c2_0242ac1c0002row22_col9,#T_27c76e66_7610_11eb_93c2_0242ac1c0002row23_col4,#T_27c76e66_7610_11eb_93c2_0242ac1c0002row24_col10,#T_27c76e66_7610_11eb_93c2_0242ac1c0002row27_col0,#T_27c76e66_7610_11eb_93c2_0242ac1c0002row27_col23{\n",
              "            background-color:  #e7e3f0;\n",
              "            color:  #000000;\n",
              "        }#T_27c76e66_7610_11eb_93c2_0242ac1c0002row1_col18,#T_27c76e66_7610_11eb_93c2_0242ac1c0002row4_col23,#T_27c76e66_7610_11eb_93c2_0242ac1c0002row7_col23,#T_27c76e66_7610_11eb_93c2_0242ac1c0002row8_col23,#T_27c76e66_7610_11eb_93c2_0242ac1c0002row16_col5,#T_27c76e66_7610_11eb_93c2_0242ac1c0002row18_col9,#T_27c76e66_7610_11eb_93c2_0242ac1c0002row19_col9,#T_27c76e66_7610_11eb_93c2_0242ac1c0002row19_col18,#T_27c76e66_7610_11eb_93c2_0242ac1c0002row19_col27,#T_27c76e66_7610_11eb_93c2_0242ac1c0002row20_col27{\n",
              "            background-color:  #dfddec;\n",
              "            color:  #000000;\n",
              "        }#T_27c76e66_7610_11eb_93c2_0242ac1c0002row1_col19,#T_27c76e66_7610_11eb_93c2_0242ac1c0002row4_col13,#T_27c76e66_7610_11eb_93c2_0242ac1c0002row21_col25,#T_27c76e66_7610_11eb_93c2_0242ac1c0002row22_col5,#T_27c76e66_7610_11eb_93c2_0242ac1c0002row27_col20{\n",
              "            background-color:  #bfc9e1;\n",
              "            color:  #000000;\n",
              "        }#T_27c76e66_7610_11eb_93c2_0242ac1c0002row1_col21,#T_27c76e66_7610_11eb_93c2_0242ac1c0002row1_col24,#T_27c76e66_7610_11eb_93c2_0242ac1c0002row3_col21,#T_27c76e66_7610_11eb_93c2_0242ac1c0002row6_col4,#T_27c76e66_7610_11eb_93c2_0242ac1c0002row6_col27,#T_27c76e66_7610_11eb_93c2_0242ac1c0002row7_col10,#T_27c76e66_7610_11eb_93c2_0242ac1c0002row7_col14,#T_27c76e66_7610_11eb_93c2_0242ac1c0002row8_col6,#T_27c76e66_7610_11eb_93c2_0242ac1c0002row9_col10,#T_27c76e66_7610_11eb_93c2_0242ac1c0002row9_col15,#T_27c76e66_7610_11eb_93c2_0242ac1c0002row10_col9,#T_27c76e66_7610_11eb_93c2_0242ac1c0002row10_col15,#T_27c76e66_7610_11eb_93c2_0242ac1c0002row11_col12,#T_27c76e66_7610_11eb_93c2_0242ac1c0002row12_col9,#T_27c76e66_7610_11eb_93c2_0242ac1c0002row12_col10,#T_27c76e66_7610_11eb_93c2_0242ac1c0002row12_col15,#T_27c76e66_7610_11eb_93c2_0242ac1c0002row13_col27,#T_27c76e66_7610_11eb_93c2_0242ac1c0002row15_col9,#T_27c76e66_7610_11eb_93c2_0242ac1c0002row15_col10,#T_27c76e66_7610_11eb_93c2_0242ac1c0002row18_col16,#T_27c76e66_7610_11eb_93c2_0242ac1c0002row18_col21,#T_27c76e66_7610_11eb_93c2_0242ac1c0002row20_col14,#T_27c76e66_7610_11eb_93c2_0242ac1c0002row24_col12,#T_27c76e66_7610_11eb_93c2_0242ac1c0002row27_col9{\n",
              "            background-color:  #f0eaf4;\n",
              "            color:  #000000;\n",
              "        }#T_27c76e66_7610_11eb_93c2_0242ac1c0002row1_col22,#T_27c76e66_7610_11eb_93c2_0242ac1c0002row5_col26,#T_27c76e66_7610_11eb_93c2_0242ac1c0002row23_col24,#T_27c76e66_7610_11eb_93c2_0242ac1c0002row26_col8{\n",
              "            background-color:  #9ab8d8;\n",
              "            color:  #000000;\n",
              "        }#T_27c76e66_7610_11eb_93c2_0242ac1c0002row1_col25,#T_27c76e66_7610_11eb_93c2_0242ac1c0002row4_col8,#T_27c76e66_7610_11eb_93c2_0242ac1c0002row14_col18,#T_27c76e66_7610_11eb_93c2_0242ac1c0002row16_col13,#T_27c76e66_7610_11eb_93c2_0242ac1c0002row17_col3,#T_27c76e66_7610_11eb_93c2_0242ac1c0002row21_col6,#T_27c76e66_7610_11eb_93c2_0242ac1c0002row22_col13,#T_27c76e66_7610_11eb_93c2_0242ac1c0002row23_col3,#T_27c76e66_7610_11eb_93c2_0242ac1c0002row27_col12{\n",
              "            background-color:  #d1d2e6;\n",
              "            color:  #000000;\n",
              "        }#T_27c76e66_7610_11eb_93c2_0242ac1c0002row1_col26,#T_27c76e66_7610_11eb_93c2_0242ac1c0002row12_col5{\n",
              "            background-color:  #73a9cf;\n",
              "            color:  #000000;\n",
              "        }#T_27c76e66_7610_11eb_93c2_0242ac1c0002row1_col27,#T_27c76e66_7610_11eb_93c2_0242ac1c0002row2_col26{\n",
              "            background-color:  #79abd0;\n",
              "            color:  #000000;\n",
              "        }#T_27c76e66_7610_11eb_93c2_0242ac1c0002row2_col3,#T_27c76e66_7610_11eb_93c2_0242ac1c0002row16_col24{\n",
              "            background-color:  #8fb4d6;\n",
              "            color:  #000000;\n",
              "        }#T_27c76e66_7610_11eb_93c2_0242ac1c0002row2_col5{\n",
              "            background-color:  #5a9ec9;\n",
              "            color:  #000000;\n",
              "        }#T_27c76e66_7610_11eb_93c2_0242ac1c0002row2_col8,#T_27c76e66_7610_11eb_93c2_0242ac1c0002row6_col19,#T_27c76e66_7610_11eb_93c2_0242ac1c0002row9_col2,#T_27c76e66_7610_11eb_93c2_0242ac1c0002row16_col22,#T_27c76e66_7610_11eb_93c2_0242ac1c0002row17_col1,#T_27c76e66_7610_11eb_93c2_0242ac1c0002row17_col20,#T_27c76e66_7610_11eb_93c2_0242ac1c0002row23_col13{\n",
              "            background-color:  #b8c6e0;\n",
              "            color:  #000000;\n",
              "        }#T_27c76e66_7610_11eb_93c2_0242ac1c0002row2_col9,#T_27c76e66_7610_11eb_93c2_0242ac1c0002row4_col15,#T_27c76e66_7610_11eb_93c2_0242ac1c0002row15_col6,#T_27c76e66_7610_11eb_93c2_0242ac1c0002row16_col14{\n",
              "            background-color:  #f3edf5;\n",
              "            color:  #000000;\n",
              "        }#T_27c76e66_7610_11eb_93c2_0242ac1c0002row2_col12,#T_27c76e66_7610_11eb_93c2_0242ac1c0002row5_col6,#T_27c76e66_7610_11eb_93c2_0242ac1c0002row8_col19,#T_27c76e66_7610_11eb_93c2_0242ac1c0002row8_col20,#T_27c76e66_7610_11eb_93c2_0242ac1c0002row17_col25,#T_27c76e66_7610_11eb_93c2_0242ac1c0002row25_col4{\n",
              "            background-color:  #c2cbe2;\n",
              "            color:  #000000;\n",
              "        }#T_27c76e66_7610_11eb_93c2_0242ac1c0002row2_col14,#T_27c76e66_7610_11eb_93c2_0242ac1c0002row2_col16,#T_27c76e66_7610_11eb_93c2_0242ac1c0002row3_col7,#T_27c76e66_7610_11eb_93c2_0242ac1c0002row11_col14,#T_27c76e66_7610_11eb_93c2_0242ac1c0002row11_col16,#T_27c76e66_7610_11eb_93c2_0242ac1c0002row15_col4,#T_27c76e66_7610_11eb_93c2_0242ac1c0002row19_col22,#T_27c76e66_7610_11eb_93c2_0242ac1c0002row24_col27{\n",
              "            background-color:  #f7f0f7;\n",
              "            color:  #000000;\n",
              "        }#T_27c76e66_7610_11eb_93c2_0242ac1c0002row2_col15{\n",
              "            background-color:  #358fc0;\n",
              "            color:  #000000;\n",
              "        }#T_27c76e66_7610_11eb_93c2_0242ac1c0002row2_col17,#T_27c76e66_7610_11eb_93c2_0242ac1c0002row4_col27,#T_27c76e66_7610_11eb_93c2_0242ac1c0002row6_col8,#T_27c76e66_7610_11eb_93c2_0242ac1c0002row11_col21,#T_27c76e66_7610_11eb_93c2_0242ac1c0002row12_col4,#T_27c76e66_7610_11eb_93c2_0242ac1c0002row16_col9,#T_27c76e66_7610_11eb_93c2_0242ac1c0002row16_col10,#T_27c76e66_7610_11eb_93c2_0242ac1c0002row16_col15,#T_27c76e66_7610_11eb_93c2_0242ac1c0002row18_col17,#T_27c76e66_7610_11eb_93c2_0242ac1c0002row19_col15,#T_27c76e66_7610_11eb_93c2_0242ac1c0002row25_col16{\n",
              "            background-color:  #ece7f2;\n",
              "            color:  #000000;\n",
              "        }#T_27c76e66_7610_11eb_93c2_0242ac1c0002row2_col18,#T_27c76e66_7610_11eb_93c2_0242ac1c0002row3_col4,#T_27c76e66_7610_11eb_93c2_0242ac1c0002row3_col24,#T_27c76e66_7610_11eb_93c2_0242ac1c0002row4_col5,#T_27c76e66_7610_11eb_93c2_0242ac1c0002row6_col9,#T_27c76e66_7610_11eb_93c2_0242ac1c0002row9_col0,#T_27c76e66_7610_11eb_93c2_0242ac1c0002row10_col23,#T_27c76e66_7610_11eb_93c2_0242ac1c0002row14_col7,#T_27c76e66_7610_11eb_93c2_0242ac1c0002row21_col10,#T_27c76e66_7610_11eb_93c2_0242ac1c0002row22_col7,#T_27c76e66_7610_11eb_93c2_0242ac1c0002row24_col0,#T_27c76e66_7610_11eb_93c2_0242ac1c0002row26_col23,#T_27c76e66_7610_11eb_93c2_0242ac1c0002row27_col8{\n",
              "            background-color:  #e0dded;\n",
              "            color:  #000000;\n",
              "        }#T_27c76e66_7610_11eb_93c2_0242ac1c0002row2_col19,#T_27c76e66_7610_11eb_93c2_0242ac1c0002row4_col18,#T_27c76e66_7610_11eb_93c2_0242ac1c0002row7_col18,#T_27c76e66_7610_11eb_93c2_0242ac1c0002row15_col3,#T_27c76e66_7610_11eb_93c2_0242ac1c0002row16_col26{\n",
              "            background-color:  #cdd0e5;\n",
              "            color:  #000000;\n",
              "        }#T_27c76e66_7610_11eb_93c2_0242ac1c0002row2_col21,#T_27c76e66_7610_11eb_93c2_0242ac1c0002row3_col14,#T_27c76e66_7610_11eb_93c2_0242ac1c0002row5_col14,#T_27c76e66_7610_11eb_93c2_0242ac1c0002row8_col13,#T_27c76e66_7610_11eb_93c2_0242ac1c0002row22_col10{\n",
              "            background-color:  #f1ebf5;\n",
              "            color:  #000000;\n",
              "        }#T_27c76e66_7610_11eb_93c2_0242ac1c0002row2_col22{\n",
              "            background-color:  #7bacd1;\n",
              "            color:  #000000;\n",
              "        }#T_27c76e66_7610_11eb_93c2_0242ac1c0002row2_col23,#T_27c76e66_7610_11eb_93c2_0242ac1c0002row3_col13,#T_27c76e66_7610_11eb_93c2_0242ac1c0002row6_col16,#T_27c76e66_7610_11eb_93c2_0242ac1c0002row7_col3,#T_27c76e66_7610_11eb_93c2_0242ac1c0002row8_col17,#T_27c76e66_7610_11eb_93c2_0242ac1c0002row10_col17,#T_27c76e66_7610_11eb_93c2_0242ac1c0002row13_col4,#T_27c76e66_7610_11eb_93c2_0242ac1c0002row14_col8,#T_27c76e66_7610_11eb_93c2_0242ac1c0002row14_col12,#T_27c76e66_7610_11eb_93c2_0242ac1c0002row18_col22,#T_27c76e66_7610_11eb_93c2_0242ac1c0002row21_col17,#T_27c76e66_7610_11eb_93c2_0242ac1c0002row25_col14,#T_27c76e66_7610_11eb_93c2_0242ac1c0002row25_col17{\n",
              "            background-color:  #e8e4f0;\n",
              "            color:  #000000;\n",
              "        }#T_27c76e66_7610_11eb_93c2_0242ac1c0002row2_col25,#T_27c76e66_7610_11eb_93c2_0242ac1c0002row5_col13,#T_27c76e66_7610_11eb_93c2_0242ac1c0002row12_col11,#T_27c76e66_7610_11eb_93c2_0242ac1c0002row15_col11,#T_27c76e66_7610_11eb_93c2_0242ac1c0002row15_col12,#T_27c76e66_7610_11eb_93c2_0242ac1c0002row20_col4,#T_27c76e66_7610_11eb_93c2_0242ac1c0002row20_col15{\n",
              "            background-color:  #ede8f3;\n",
              "            color:  #000000;\n",
              "        }#T_27c76e66_7610_11eb_93c2_0242ac1c0002row2_col27{\n",
              "            background-color:  #04629a;\n",
              "            color:  #f1f1f1;\n",
              "        }#T_27c76e66_7610_11eb_93c2_0242ac1c0002row3_col0,#T_27c76e66_7610_11eb_93c2_0242ac1c0002row3_col11,#T_27c76e66_7610_11eb_93c2_0242ac1c0002row4_col11,#T_27c76e66_7610_11eb_93c2_0242ac1c0002row6_col23,#T_27c76e66_7610_11eb_93c2_0242ac1c0002row9_col13,#T_27c76e66_7610_11eb_93c2_0242ac1c0002row10_col13,#T_27c76e66_7610_11eb_93c2_0242ac1c0002row11_col27,#T_27c76e66_7610_11eb_93c2_0242ac1c0002row12_col3,#T_27c76e66_7610_11eb_93c2_0242ac1c0002row14_col27,#T_27c76e66_7610_11eb_93c2_0242ac1c0002row15_col18,#T_27c76e66_7610_11eb_93c2_0242ac1c0002row18_col5,#T_27c76e66_7610_11eb_93c2_0242ac1c0002row18_col11,#T_27c76e66_7610_11eb_93c2_0242ac1c0002row20_col5,#T_27c76e66_7610_11eb_93c2_0242ac1c0002row20_col11,#T_27c76e66_7610_11eb_93c2_0242ac1c0002row21_col0,#T_27c76e66_7610_11eb_93c2_0242ac1c0002row23_col22,#T_27c76e66_7610_11eb_93c2_0242ac1c0002row23_col27,#T_27c76e66_7610_11eb_93c2_0242ac1c0002row25_col9,#T_27c76e66_7610_11eb_93c2_0242ac1c0002row26_col6{\n",
              "            background-color:  #d9d8ea;\n",
              "            color:  #000000;\n",
              "        }#T_27c76e66_7610_11eb_93c2_0242ac1c0002row3_col1,#T_27c76e66_7610_11eb_93c2_0242ac1c0002row27_col5{\n",
              "            background-color:  #88b1d4;\n",
              "            color:  #000000;\n",
              "        }#T_27c76e66_7610_11eb_93c2_0242ac1c0002row3_col2{\n",
              "            background-color:  #62a2cb;\n",
              "            color:  #000000;\n",
              "        }#T_27c76e66_7610_11eb_93c2_0242ac1c0002row3_col5,#T_27c76e66_7610_11eb_93c2_0242ac1c0002row6_col5,#T_27c76e66_7610_11eb_93c2_0242ac1c0002row7_col19,#T_27c76e66_7610_11eb_93c2_0242ac1c0002row14_col1,#T_27c76e66_7610_11eb_93c2_0242ac1c0002row19_col13,#T_27c76e66_7610_11eb_93c2_0242ac1c0002row22_col24,#T_27c76e66_7610_11eb_93c2_0242ac1c0002row22_col26,#T_27c76e66_7610_11eb_93c2_0242ac1c0002row23_col20,#T_27c76e66_7610_11eb_93c2_0242ac1c0002row23_col25,#T_27c76e66_7610_11eb_93c2_0242ac1c0002row26_col19{\n",
              "            background-color:  #bbc7e0;\n",
              "            color:  #000000;\n",
              "        }#T_27c76e66_7610_11eb_93c2_0242ac1c0002row3_col6,#T_27c76e66_7610_11eb_93c2_0242ac1c0002row3_col16,#T_27c76e66_7610_11eb_93c2_0242ac1c0002row11_col8,#T_27c76e66_7610_11eb_93c2_0242ac1c0002row13_col14,#T_27c76e66_7610_11eb_93c2_0242ac1c0002row24_col8{\n",
              "            background-color:  #f9f2f8;\n",
              "            color:  #000000;\n",
              "        }#T_27c76e66_7610_11eb_93c2_0242ac1c0002row3_col8{\n",
              "            background-color:  #75a9cf;\n",
              "            color:  #000000;\n",
              "        }#T_27c76e66_7610_11eb_93c2_0242ac1c0002row3_col10,#T_27c76e66_7610_11eb_93c2_0242ac1c0002row5_col4,#T_27c76e66_7610_11eb_93c2_0242ac1c0002row8_col7,#T_27c76e66_7610_11eb_93c2_0242ac1c0002row11_col9,#T_27c76e66_7610_11eb_93c2_0242ac1c0002row11_col10,#T_27c76e66_7610_11eb_93c2_0242ac1c0002row11_col15,#T_27c76e66_7610_11eb_93c2_0242ac1c0002row12_col8,#T_27c76e66_7610_11eb_93c2_0242ac1c0002row13_col3,#T_27c76e66_7610_11eb_93c2_0242ac1c0002row13_col12,#T_27c76e66_7610_11eb_93c2_0242ac1c0002row14_col16,#T_27c76e66_7610_11eb_93c2_0242ac1c0002row15_col8,#T_27c76e66_7610_11eb_93c2_0242ac1c0002row20_col21,#T_27c76e66_7610_11eb_93c2_0242ac1c0002row22_col14,#T_27c76e66_7610_11eb_93c2_0242ac1c0002row23_col14,#T_27c76e66_7610_11eb_93c2_0242ac1c0002row26_col14,#T_27c76e66_7610_11eb_93c2_0242ac1c0002row26_col16,#T_27c76e66_7610_11eb_93c2_0242ac1c0002row27_col16{\n",
              "            background-color:  #f2ecf5;\n",
              "            color:  #000000;\n",
              "        }#T_27c76e66_7610_11eb_93c2_0242ac1c0002row3_col12,#T_27c76e66_7610_11eb_93c2_0242ac1c0002row4_col17,#T_27c76e66_7610_11eb_93c2_0242ac1c0002row7_col21,#T_27c76e66_7610_11eb_93c2_0242ac1c0002row10_col21,#T_27c76e66_7610_11eb_93c2_0242ac1c0002row13_col26,#T_27c76e66_7610_11eb_93c2_0242ac1c0002row14_col9,#T_27c76e66_7610_11eb_93c2_0242ac1c0002row14_col10,#T_27c76e66_7610_11eb_93c2_0242ac1c0002row14_col15,#T_27c76e66_7610_11eb_93c2_0242ac1c0002row17_col4,#T_27c76e66_7610_11eb_93c2_0242ac1c0002row18_col15,#T_27c76e66_7610_11eb_93c2_0242ac1c0002row20_col23,#T_27c76e66_7610_11eb_93c2_0242ac1c0002row21_col14,#T_27c76e66_7610_11eb_93c2_0242ac1c0002row21_col16,#T_27c76e66_7610_11eb_93c2_0242ac1c0002row23_col16,#T_27c76e66_7610_11eb_93c2_0242ac1c0002row25_col21{\n",
              "            background-color:  #ebe6f2;\n",
              "            color:  #000000;\n",
              "        }#T_27c76e66_7610_11eb_93c2_0242ac1c0002row3_col15,#T_27c76e66_7610_11eb_93c2_0242ac1c0002row4_col10,#T_27c76e66_7610_11eb_93c2_0242ac1c0002row5_col23,#T_27c76e66_7610_11eb_93c2_0242ac1c0002row9_col5,#T_27c76e66_7610_11eb_93c2_0242ac1c0002row9_col7,#T_27c76e66_7610_11eb_93c2_0242ac1c0002row10_col3,#T_27c76e66_7610_11eb_93c2_0242ac1c0002row17_col9,#T_27c76e66_7610_11eb_93c2_0242ac1c0002row20_col7,#T_27c76e66_7610_11eb_93c2_0242ac1c0002row22_col11,#T_27c76e66_7610_11eb_93c2_0242ac1c0002row23_col12,#T_27c76e66_7610_11eb_93c2_0242ac1c0002row24_col16,#T_27c76e66_7610_11eb_93c2_0242ac1c0002row24_col17,#T_27c76e66_7610_11eb_93c2_0242ac1c0002row25_col5,#T_27c76e66_7610_11eb_93c2_0242ac1c0002row27_col13{\n",
              "            background-color:  #e1dfed;\n",
              "            color:  #000000;\n",
              "        }#T_27c76e66_7610_11eb_93c2_0242ac1c0002row3_col17,#T_27c76e66_7610_11eb_93c2_0242ac1c0002row6_col0,#T_27c76e66_7610_11eb_93c2_0242ac1c0002row16_col12,#T_27c76e66_7610_11eb_93c2_0242ac1c0002row19_col4,#T_27c76e66_7610_11eb_93c2_0242ac1c0002row19_col23,#T_27c76e66_7610_11eb_93c2_0242ac1c0002row24_col14,#T_27c76e66_7610_11eb_93c2_0242ac1c0002row26_col9,#T_27c76e66_7610_11eb_93c2_0242ac1c0002row27_col17{\n",
              "            background-color:  #e9e5f1;\n",
              "            color:  #000000;\n",
              "        }#T_27c76e66_7610_11eb_93c2_0242ac1c0002row3_col19,#T_27c76e66_7610_11eb_93c2_0242ac1c0002row14_col0,#T_27c76e66_7610_11eb_93c2_0242ac1c0002row15_col24,#T_27c76e66_7610_11eb_93c2_0242ac1c0002row18_col20,#T_27c76e66_7610_11eb_93c2_0242ac1c0002row20_col10,#T_27c76e66_7610_11eb_93c2_0242ac1c0002row21_col19{\n",
              "            background-color:  #c1cae2;\n",
              "            color:  #000000;\n",
              "        }#T_27c76e66_7610_11eb_93c2_0242ac1c0002row3_col22,#T_27c76e66_7610_11eb_93c2_0242ac1c0002row5_col12,#T_27c76e66_7610_11eb_93c2_0242ac1c0002row6_col13{\n",
              "            background-color:  #81aed2;\n",
              "            color:  #000000;\n",
              "        }#T_27c76e66_7610_11eb_93c2_0242ac1c0002row3_col25,#T_27c76e66_7610_11eb_93c2_0242ac1c0002row15_col5,#T_27c76e66_7610_11eb_93c2_0242ac1c0002row26_col3{\n",
              "            background-color:  #9fbad9;\n",
              "            color:  #000000;\n",
              "        }#T_27c76e66_7610_11eb_93c2_0242ac1c0002row3_col26{\n",
              "            background-color:  #96b6d7;\n",
              "            color:  #000000;\n",
              "        }#T_27c76e66_7610_11eb_93c2_0242ac1c0002row3_col27,#T_27c76e66_7610_11eb_93c2_0242ac1c0002row18_col1,#T_27c76e66_7610_11eb_93c2_0242ac1c0002row21_col26,#T_27c76e66_7610_11eb_93c2_0242ac1c0002row24_col22{\n",
              "            background-color:  #c9cee4;\n",
              "            color:  #000000;\n",
              "        }#T_27c76e66_7610_11eb_93c2_0242ac1c0002row4_col0,#T_27c76e66_7610_11eb_93c2_0242ac1c0002row7_col26,#T_27c76e66_7610_11eb_93c2_0242ac1c0002row8_col18,#T_27c76e66_7610_11eb_93c2_0242ac1c0002row10_col6,#T_27c76e66_7610_11eb_93c2_0242ac1c0002row16_col6,#T_27c76e66_7610_11eb_93c2_0242ac1c0002row16_col18,#T_27c76e66_7610_11eb_93c2_0242ac1c0002row17_col5,#T_27c76e66_7610_11eb_93c2_0242ac1c0002row19_col3,#T_27c76e66_7610_11eb_93c2_0242ac1c0002row19_col11,#T_27c76e66_7610_11eb_93c2_0242ac1c0002row21_col27,#T_27c76e66_7610_11eb_93c2_0242ac1c0002row24_col9,#T_27c76e66_7610_11eb_93c2_0242ac1c0002row26_col18{\n",
              "            background-color:  #d4d4e8;\n",
              "            color:  #000000;\n",
              "        }#T_27c76e66_7610_11eb_93c2_0242ac1c0002row4_col1,#T_27c76e66_7610_11eb_93c2_0242ac1c0002row4_col14,#T_27c76e66_7610_11eb_93c2_0242ac1c0002row11_col3,#T_27c76e66_7610_11eb_93c2_0242ac1c0002row16_col1,#T_27c76e66_7610_11eb_93c2_0242ac1c0002row18_col3,#T_27c76e66_7610_11eb_93c2_0242ac1c0002row18_col19,#T_27c76e66_7610_11eb_93c2_0242ac1c0002row20_col26,#T_27c76e66_7610_11eb_93c2_0242ac1c0002row21_col22,#T_27c76e66_7610_11eb_93c2_0242ac1c0002row27_col19{\n",
              "            background-color:  #cccfe5;\n",
              "            color:  #000000;\n",
              "        }#T_27c76e66_7610_11eb_93c2_0242ac1c0002row4_col9,#T_27c76e66_7610_11eb_93c2_0242ac1c0002row9_col27,#T_27c76e66_7610_11eb_93c2_0242ac1c0002row11_col23,#T_27c76e66_7610_11eb_93c2_0242ac1c0002row19_col7,#T_27c76e66_7610_11eb_93c2_0242ac1c0002row20_col18,#T_27c76e66_7610_11eb_93c2_0242ac1c0002row22_col4,#T_27c76e66_7610_11eb_93c2_0242ac1c0002row23_col10{\n",
              "            background-color:  #e0deed;\n",
              "            color:  #000000;\n",
              "        }#T_27c76e66_7610_11eb_93c2_0242ac1c0002row4_col16,#T_27c76e66_7610_11eb_93c2_0242ac1c0002row7_col11,#T_27c76e66_7610_11eb_93c2_0242ac1c0002row8_col21,#T_27c76e66_7610_11eb_93c2_0242ac1c0002row9_col11,#T_27c76e66_7610_11eb_93c2_0242ac1c0002row9_col12,#T_27c76e66_7610_11eb_93c2_0242ac1c0002row10_col11,#T_27c76e66_7610_11eb_93c2_0242ac1c0002row10_col12,#T_27c76e66_7610_11eb_93c2_0242ac1c0002row17_col21,#T_27c76e66_7610_11eb_93c2_0242ac1c0002row19_col17,#T_27c76e66_7610_11eb_93c2_0242ac1c0002row27_col26{\n",
              "            background-color:  #eee8f3;\n",
              "            color:  #000000;\n",
              "        }#T_27c76e66_7610_11eb_93c2_0242ac1c0002row4_col19,#T_27c76e66_7610_11eb_93c2_0242ac1c0002row11_col26,#T_27c76e66_7610_11eb_93c2_0242ac1c0002row13_col18,#T_27c76e66_7610_11eb_93c2_0242ac1c0002row15_col20,#T_27c76e66_7610_11eb_93c2_0242ac1c0002row17_col13,#T_27c76e66_7610_11eb_93c2_0242ac1c0002row19_col1,#T_27c76e66_7610_11eb_93c2_0242ac1c0002row19_col25,#T_27c76e66_7610_11eb_93c2_0242ac1c0002row20_col1,#T_27c76e66_7610_11eb_93c2_0242ac1c0002row21_col1,#T_27c76e66_7610_11eb_93c2_0242ac1c0002row25_col8{\n",
              "            background-color:  #bcc7e1;\n",
              "            color:  #000000;\n",
              "        }#T_27c76e66_7610_11eb_93c2_0242ac1c0002row4_col21,#T_27c76e66_7610_11eb_93c2_0242ac1c0002row5_col0,#T_27c76e66_7610_11eb_93c2_0242ac1c0002row15_col7,#T_27c76e66_7610_11eb_93c2_0242ac1c0002row16_col8,#T_27c76e66_7610_11eb_93c2_0242ac1c0002row16_col21,#T_27c76e66_7610_11eb_93c2_0242ac1c0002row17_col16,#T_27c76e66_7610_11eb_93c2_0242ac1c0002row20_col16,#T_27c76e66_7610_11eb_93c2_0242ac1c0002row23_col15,#T_27c76e66_7610_11eb_93c2_0242ac1c0002row23_col17,#T_27c76e66_7610_11eb_93c2_0242ac1c0002row25_col24{\n",
              "            background-color:  #eae6f1;\n",
              "            color:  #000000;\n",
              "        }#T_27c76e66_7610_11eb_93c2_0242ac1c0002row4_col24,#T_27c76e66_7610_11eb_93c2_0242ac1c0002row8_col22,#T_27c76e66_7610_11eb_93c2_0242ac1c0002row19_col24,#T_27c76e66_7610_11eb_93c2_0242ac1c0002row24_col7{\n",
              "            background-color:  #93b5d6;\n",
              "            color:  #000000;\n",
              "        }#T_27c76e66_7610_11eb_93c2_0242ac1c0002row4_col25,#T_27c76e66_7610_11eb_93c2_0242ac1c0002row5_col22,#T_27c76e66_7610_11eb_93c2_0242ac1c0002row14_col24,#T_27c76e66_7610_11eb_93c2_0242ac1c0002row21_col24{\n",
              "            background-color:  #97b7d7;\n",
              "            color:  #000000;\n",
              "        }#T_27c76e66_7610_11eb_93c2_0242ac1c0002row5_col1{\n",
              "            background-color:  #0a73b2;\n",
              "            color:  #f1f1f1;\n",
              "        }#T_27c76e66_7610_11eb_93c2_0242ac1c0002row5_col2,#T_27c76e66_7610_11eb_93c2_0242ac1c0002row24_col13{\n",
              "            background-color:  #2d8abd;\n",
              "            color:  #000000;\n",
              "        }#T_27c76e66_7610_11eb_93c2_0242ac1c0002row5_col3,#T_27c76e66_7610_11eb_93c2_0242ac1c0002row5_col20,#T_27c76e66_7610_11eb_93c2_0242ac1c0002row6_col7,#T_27c76e66_7610_11eb_93c2_0242ac1c0002row9_col22,#T_27c76e66_7610_11eb_93c2_0242ac1c0002row9_col25,#T_27c76e66_7610_11eb_93c2_0242ac1c0002row10_col19,#T_27c76e66_7610_11eb_93c2_0242ac1c0002row11_col22,#T_27c76e66_7610_11eb_93c2_0242ac1c0002row11_col25,#T_27c76e66_7610_11eb_93c2_0242ac1c0002row26_col20{\n",
              "            background-color:  #b4c4df;\n",
              "            color:  #000000;\n",
              "        }#T_27c76e66_7610_11eb_93c2_0242ac1c0002row5_col7,#T_27c76e66_7610_11eb_93c2_0242ac1c0002row5_col9,#T_27c76e66_7610_11eb_93c2_0242ac1c0002row5_col21,#T_27c76e66_7610_11eb_93c2_0242ac1c0002row10_col7,#T_27c76e66_7610_11eb_93c2_0242ac1c0002row12_col21,#T_27c76e66_7610_11eb_93c2_0242ac1c0002row20_col17,#T_27c76e66_7610_11eb_93c2_0242ac1c0002row26_col21,#T_27c76e66_7610_11eb_93c2_0242ac1c0002row27_col21{\n",
              "            background-color:  #efe9f3;\n",
              "            color:  #000000;\n",
              "        }#T_27c76e66_7610_11eb_93c2_0242ac1c0002row5_col15,#T_27c76e66_7610_11eb_93c2_0242ac1c0002row11_col1,#T_27c76e66_7610_11eb_93c2_0242ac1c0002row11_col19,#T_27c76e66_7610_11eb_93c2_0242ac1c0002row18_col2,#T_27c76e66_7610_11eb_93c2_0242ac1c0002row19_col2{\n",
              "            background-color:  #b1c2de;\n",
              "            color:  #000000;\n",
              "        }#T_27c76e66_7610_11eb_93c2_0242ac1c0002row5_col16,#T_27c76e66_7610_11eb_93c2_0242ac1c0002row9_col14,#T_27c76e66_7610_11eb_93c2_0242ac1c0002row10_col14,#T_27c76e66_7610_11eb_93c2_0242ac1c0002row24_col26,#T_27c76e66_7610_11eb_93c2_0242ac1c0002row27_col6{\n",
              "            background-color:  #f6eff7;\n",
              "            color:  #000000;\n",
              "        }#T_27c76e66_7610_11eb_93c2_0242ac1c0002row5_col19,#T_27c76e66_7610_11eb_93c2_0242ac1c0002row6_col1,#T_27c76e66_7610_11eb_93c2_0242ac1c0002row12_col25,#T_27c76e66_7610_11eb_93c2_0242ac1c0002row18_col6{\n",
              "            background-color:  #c6cce3;\n",
              "            color:  #000000;\n",
              "        }#T_27c76e66_7610_11eb_93c2_0242ac1c0002row5_col24,#T_27c76e66_7610_11eb_93c2_0242ac1c0002row15_col0,#T_27c76e66_7610_11eb_93c2_0242ac1c0002row17_col11,#T_27c76e66_7610_11eb_93c2_0242ac1c0002row19_col8{\n",
              "            background-color:  #dad9ea;\n",
              "            color:  #000000;\n",
              "        }#T_27c76e66_7610_11eb_93c2_0242ac1c0002row5_col25,#T_27c76e66_7610_11eb_93c2_0242ac1c0002row21_col3,#T_27c76e66_7610_11eb_93c2_0242ac1c0002row23_col8,#T_27c76e66_7610_11eb_93c2_0242ac1c0002row26_col12{\n",
              "            background-color:  #d2d3e7;\n",
              "            color:  #000000;\n",
              "        }#T_27c76e66_7610_11eb_93c2_0242ac1c0002row5_col27,#T_27c76e66_7610_11eb_93c2_0242ac1c0002row6_col20,#T_27c76e66_7610_11eb_93c2_0242ac1c0002row8_col2,#T_27c76e66_7610_11eb_93c2_0242ac1c0002row12_col1,#T_27c76e66_7610_11eb_93c2_0242ac1c0002row27_col22{\n",
              "            background-color:  #84b0d3;\n",
              "            color:  #000000;\n",
              "        }#T_27c76e66_7610_11eb_93c2_0242ac1c0002row6_col10,#T_27c76e66_7610_11eb_93c2_0242ac1c0002row10_col27,#T_27c76e66_7610_11eb_93c2_0242ac1c0002row17_col0,#T_27c76e66_7610_11eb_93c2_0242ac1c0002row17_col7,#T_27c76e66_7610_11eb_93c2_0242ac1c0002row18_col0,#T_27c76e66_7610_11eb_93c2_0242ac1c0002row19_col10,#T_27c76e66_7610_11eb_93c2_0242ac1c0002row23_col0,#T_27c76e66_7610_11eb_93c2_0242ac1c0002row23_col9,#T_27c76e66_7610_11eb_93c2_0242ac1c0002row24_col23,#T_27c76e66_7610_11eb_93c2_0242ac1c0002row25_col23,#T_27c76e66_7610_11eb_93c2_0242ac1c0002row26_col10{\n",
              "            background-color:  #dcdaeb;\n",
              "            color:  #000000;\n",
              "        }#T_27c76e66_7610_11eb_93c2_0242ac1c0002row6_col14,#T_27c76e66_7610_11eb_93c2_0242ac1c0002row13_col1,#T_27c76e66_7610_11eb_93c2_0242ac1c0002row13_col16{\n",
              "            background-color:  #f8f1f8;\n",
              "            color:  #000000;\n",
              "        }#T_27c76e66_7610_11eb_93c2_0242ac1c0002row6_col15,#T_27c76e66_7610_11eb_93c2_0242ac1c0002row13_col5{\n",
              "            background-color:  #faf3f9;\n",
              "            color:  #000000;\n",
              "        }#T_27c76e66_7610_11eb_93c2_0242ac1c0002row6_col18,#T_27c76e66_7610_11eb_93c2_0242ac1c0002row10_col26,#T_27c76e66_7610_11eb_93c2_0242ac1c0002row12_col27,#T_27c76e66_7610_11eb_93c2_0242ac1c0002row16_col25,#T_27c76e66_7610_11eb_93c2_0242ac1c0002row18_col25{\n",
              "            background-color:  #bdc8e1;\n",
              "            color:  #000000;\n",
              "        }#T_27c76e66_7610_11eb_93c2_0242ac1c0002row6_col22,#T_27c76e66_7610_11eb_93c2_0242ac1c0002row8_col24,#T_27c76e66_7610_11eb_93c2_0242ac1c0002row9_col3,#T_27c76e66_7610_11eb_93c2_0242ac1c0002row17_col22,#T_27c76e66_7610_11eb_93c2_0242ac1c0002row17_col27,#T_27c76e66_7610_11eb_93c2_0242ac1c0002row25_col2,#T_27c76e66_7610_11eb_93c2_0242ac1c0002row25_col13,#T_27c76e66_7610_11eb_93c2_0242ac1c0002row27_col24{\n",
              "            background-color:  #d3d4e7;\n",
              "            color:  #000000;\n",
              "        }#T_27c76e66_7610_11eb_93c2_0242ac1c0002row6_col24{\n",
              "            background-color:  #5ea0ca;\n",
              "            color:  #000000;\n",
              "        }#T_27c76e66_7610_11eb_93c2_0242ac1c0002row7_col6,#T_27c76e66_7610_11eb_93c2_0242ac1c0002row14_col2,#T_27c76e66_7610_11eb_93c2_0242ac1c0002row14_col19,#T_27c76e66_7610_11eb_93c2_0242ac1c0002row25_col3{\n",
              "            background-color:  #acc0dd;\n",
              "            color:  #000000;\n",
              "        }#T_27c76e66_7610_11eb_93c2_0242ac1c0002row7_col13{\n",
              "            background-color:  #5c9fc9;\n",
              "            color:  #000000;\n",
              "        }#T_27c76e66_7610_11eb_93c2_0242ac1c0002row7_col15,#T_27c76e66_7610_11eb_93c2_0242ac1c0002row13_col2,#T_27c76e66_7610_11eb_93c2_0242ac1c0002row26_col7,#T_27c76e66_7610_11eb_93c2_0242ac1c0002row27_col7,#T_27c76e66_7610_11eb_93c2_0242ac1c0002row27_col10{\n",
              "            background-color:  #ede7f2;\n",
              "            color:  #000000;\n",
              "        }#T_27c76e66_7610_11eb_93c2_0242ac1c0002row7_col24{\n",
              "            background-color:  #509ac6;\n",
              "            color:  #000000;\n",
              "        }#T_27c76e66_7610_11eb_93c2_0242ac1c0002row8_col1{\n",
              "            background-color:  #8cb3d5;\n",
              "            color:  #000000;\n",
              "        }#T_27c76e66_7610_11eb_93c2_0242ac1c0002row8_col3,#T_27c76e66_7610_11eb_93c2_0242ac1c0002row22_col2{\n",
              "            background-color:  #6da6cd;\n",
              "            color:  #000000;\n",
              "        }#T_27c76e66_7610_11eb_93c2_0242ac1c0002row8_col15{\n",
              "            background-color:  #fef6fb;\n",
              "            color:  #000000;\n",
              "        }#T_27c76e66_7610_11eb_93c2_0242ac1c0002row8_col25,#T_27c76e66_7610_11eb_93c2_0242ac1c0002row21_col2,#T_27c76e66_7610_11eb_93c2_0242ac1c0002row22_col27{\n",
              "            background-color:  #a8bedc;\n",
              "            color:  #000000;\n",
              "        }#T_27c76e66_7610_11eb_93c2_0242ac1c0002row8_col26{\n",
              "            background-color:  #8bb2d4;\n",
              "            color:  #000000;\n",
              "        }#T_27c76e66_7610_11eb_93c2_0242ac1c0002row9_col16,#T_27c76e66_7610_11eb_93c2_0242ac1c0002row10_col16,#T_27c76e66_7610_11eb_93c2_0242ac1c0002row15_col16,#T_27c76e66_7610_11eb_93c2_0242ac1c0002row22_col6,#T_27c76e66_7610_11eb_93c2_0242ac1c0002row26_col4,#T_27c76e66_7610_11eb_93c2_0242ac1c0002row27_col25{\n",
              "            background-color:  #f5eef6;\n",
              "            color:  #000000;\n",
              "        }#T_27c76e66_7610_11eb_93c2_0242ac1c0002row9_col24,#T_27c76e66_7610_11eb_93c2_0242ac1c0002row15_col22,#T_27c76e66_7610_11eb_93c2_0242ac1c0002row20_col24{\n",
              "            background-color:  #8eb3d5;\n",
              "            color:  #000000;\n",
              "        }#T_27c76e66_7610_11eb_93c2_0242ac1c0002row10_col18,#T_27c76e66_7610_11eb_93c2_0242ac1c0002row17_col6,#T_27c76e66_7610_11eb_93c2_0242ac1c0002row17_col18,#T_27c76e66_7610_11eb_93c2_0242ac1c0002row18_col8,#T_27c76e66_7610_11eb_93c2_0242ac1c0002row25_col10{\n",
              "            background-color:  #d6d6e9;\n",
              "            color:  #000000;\n",
              "        }#T_27c76e66_7610_11eb_93c2_0242ac1c0002row10_col20{\n",
              "            background-color:  #89b1d4;\n",
              "            color:  #000000;\n",
              "        }#T_27c76e66_7610_11eb_93c2_0242ac1c0002row12_col2,#T_27c76e66_7610_11eb_93c2_0242ac1c0002row13_col7{\n",
              "            background-color:  #80aed2;\n",
              "            color:  #000000;\n",
              "        }#T_27c76e66_7610_11eb_93c2_0242ac1c0002row12_col6,#T_27c76e66_7610_11eb_93c2_0242ac1c0002row13_col22,#T_27c76e66_7610_11eb_93c2_0242ac1c0002row14_col4{\n",
              "            background-color:  #c0c9e2;\n",
              "            color:  #000000;\n",
              "        }#T_27c76e66_7610_11eb_93c2_0242ac1c0002row12_col14,#T_27c76e66_7610_11eb_93c2_0242ac1c0002row13_col9,#T_27c76e66_7610_11eb_93c2_0242ac1c0002row13_col10,#T_27c76e66_7610_11eb_93c2_0242ac1c0002row13_col15,#T_27c76e66_7610_11eb_93c2_0242ac1c0002row15_col14,#T_27c76e66_7610_11eb_93c2_0242ac1c0002row26_col27,#T_27c76e66_7610_11eb_93c2_0242ac1c0002row27_col14{\n",
              "            background-color:  #f5eff6;\n",
              "            color:  #000000;\n",
              "        }#T_27c76e66_7610_11eb_93c2_0242ac1c0002row12_col22,#T_27c76e66_7610_11eb_93c2_0242ac1c0002row26_col22{\n",
              "            background-color:  #a4bcda;\n",
              "            color:  #000000;\n",
              "        }#T_27c76e66_7610_11eb_93c2_0242ac1c0002row13_col6,#T_27c76e66_7610_11eb_93c2_0242ac1c0002row24_col20{\n",
              "            background-color:  #9ebad9;\n",
              "            color:  #000000;\n",
              "        }#T_27c76e66_7610_11eb_93c2_0242ac1c0002row13_col20,#T_27c76e66_7610_11eb_93c2_0242ac1c0002row17_col2,#T_27c76e66_7610_11eb_93c2_0242ac1c0002row22_col1{\n",
              "            background-color:  #a5bddb;\n",
              "            color:  #000000;\n",
              "        }#T_27c76e66_7610_11eb_93c2_0242ac1c0002row13_col24{\n",
              "            background-color:  #1c7fb8;\n",
              "            color:  #000000;\n",
              "        }#T_27c76e66_7610_11eb_93c2_0242ac1c0002row14_col3,#T_27c76e66_7610_11eb_93c2_0242ac1c0002row23_col6,#T_27c76e66_7610_11eb_93c2_0242ac1c0002row25_col11{\n",
              "            background-color:  #d2d2e7;\n",
              "            color:  #000000;\n",
              "        }#T_27c76e66_7610_11eb_93c2_0242ac1c0002row15_col1{\n",
              "            background-color:  #83afd3;\n",
              "            color:  #000000;\n",
              "        }#T_27c76e66_7610_11eb_93c2_0242ac1c0002row15_col2{\n",
              "            background-color:  #0d75b3;\n",
              "            color:  #f1f1f1;\n",
              "        }#T_27c76e66_7610_11eb_93c2_0242ac1c0002row15_col27{\n",
              "            background-color:  #197db7;\n",
              "            color:  #000000;\n",
              "        }#T_27c76e66_7610_11eb_93c2_0242ac1c0002row17_col24,#T_27c76e66_7610_11eb_93c2_0242ac1c0002row24_col6{\n",
              "            background-color:  #99b8d8;\n",
              "            color:  #000000;\n",
              "        }#T_27c76e66_7610_11eb_93c2_0242ac1c0002row18_col24{\n",
              "            background-color:  #91b5d6;\n",
              "            color:  #000000;\n",
              "        }#T_27c76e66_7610_11eb_93c2_0242ac1c0002row20_col25,#T_27c76e66_7610_11eb_93c2_0242ac1c0002row22_col8,#T_27c76e66_7610_11eb_93c2_0242ac1c0002row23_col1{\n",
              "            background-color:  #b9c6e0;\n",
              "            color:  #000000;\n",
              "        }#T_27c76e66_7610_11eb_93c2_0242ac1c0002row22_col16{\n",
              "            background-color:  #f4edf6;\n",
              "            color:  #000000;\n",
              "        }#T_27c76e66_7610_11eb_93c2_0242ac1c0002row26_col1{\n",
              "            background-color:  #65a3cb;\n",
              "            color:  #000000;\n",
              "        }#T_27c76e66_7610_11eb_93c2_0242ac1c0002row26_col2{\n",
              "            background-color:  #569dc8;\n",
              "            color:  #000000;\n",
              "        }#T_27c76e66_7610_11eb_93c2_0242ac1c0002row27_col1{\n",
              "            background-color:  #60a1ca;\n",
              "            color:  #000000;\n",
              "        }#T_27c76e66_7610_11eb_93c2_0242ac1c0002row27_col2{\n",
              "            background-color:  #045c90;\n",
              "            color:  #f1f1f1;\n",
              "        }#T_27c76e66_7610_11eb_93c2_0242ac1c0002row27_col15{\n",
              "            background-color:  #2685bb;\n",
              "            color:  #000000;\n",
              "        }</style><table id=\"T_27c76e66_7610_11eb_93c2_0242ac1c0002\" ><thead>    <tr>        <th class=\"blank level0\" ></th>        <th class=\"col_heading level0 col0\" >Gender</th>        <th class=\"col_heading level0 col1\" >Ever_Married</th>        <th class=\"col_heading level0 col2\" >Age</th>        <th class=\"col_heading level0 col3\" >Graduated</th>        <th class=\"col_heading level0 col4\" >Work_Experience</th>        <th class=\"col_heading level0 col5\" >Spending_Score</th>        <th class=\"col_heading level0 col6\" >Family_Size</th>        <th class=\"col_heading level0 col7\" >Segmentation</th>        <th class=\"col_heading level0 col8\" >Profession_Artist</th>        <th class=\"col_heading level0 col9\" >Profession_Doctor</th>        <th class=\"col_heading level0 col10\" >Profession_Engineer</th>        <th class=\"col_heading level0 col11\" >Profession_Entertainment</th>        <th class=\"col_heading level0 col12\" >Profession_Executive</th>        <th class=\"col_heading level0 col13\" >Profession_Healthcare</th>        <th class=\"col_heading level0 col14\" >Profession_Homemaker</th>        <th class=\"col_heading level0 col15\" >Profession_Lawyer</th>        <th class=\"col_heading level0 col16\" >Profession_Marketing</th>        <th class=\"col_heading level0 col17\" >Category_Cat_1</th>        <th class=\"col_heading level0 col18\" >Category_Cat_2</th>        <th class=\"col_heading level0 col19\" >Category_Cat_3</th>        <th class=\"col_heading level0 col20\" >Category_Cat_4</th>        <th class=\"col_heading level0 col21\" >Category_Cat_5</th>        <th class=\"col_heading level0 col22\" >Category_Cat_6</th>        <th class=\"col_heading level0 col23\" >Category_Cat_7</th>        <th class=\"col_heading level0 col24\" >Age_Range_less than 30</th>        <th class=\"col_heading level0 col25\" >Age_Range_less than 45</th>        <th class=\"col_heading level0 col26\" >Age_Range_less than 60</th>        <th class=\"col_heading level0 col27\" >Age_Range_more than 60</th>    </tr></thead><tbody>\n",
              "                <tr>\n",
              "                        <th id=\"T_27c76e66_7610_11eb_93c2_0242ac1c0002level0_row0\" class=\"row_heading level0 row0\" >Gender</th>\n",
              "                        <td id=\"T_27c76e66_7610_11eb_93c2_0242ac1c0002row0_col0\" class=\"data row0 col0\" >1.000000</td>\n",
              "                        <td id=\"T_27c76e66_7610_11eb_93c2_0242ac1c0002row0_col1\" class=\"data row0 col1\" >-0.111732</td>\n",
              "                        <td id=\"T_27c76e66_7610_11eb_93c2_0242ac1c0002row0_col2\" class=\"data row0 col2\" >-0.030216</td>\n",
              "                        <td id=\"T_27c76e66_7610_11eb_93c2_0242ac1c0002row0_col3\" class=\"data row0 col3\" >0.033206</td>\n",
              "                        <td id=\"T_27c76e66_7610_11eb_93c2_0242ac1c0002row0_col4\" class=\"data row0 col4\" >0.057212</td>\n",
              "                        <td id=\"T_27c76e66_7610_11eb_93c2_0242ac1c0002row0_col5\" class=\"data row0 col5\" >-0.061432</td>\n",
              "                        <td id=\"T_27c76e66_7610_11eb_93c2_0242ac1c0002row0_col6\" class=\"data row0 col6\" >-0.057920</td>\n",
              "                        <td id=\"T_27c76e66_7610_11eb_93c2_0242ac1c0002row0_col7\" class=\"data row0 col7\" >-0.024482</td>\n",
              "                        <td id=\"T_27c76e66_7610_11eb_93c2_0242ac1c0002row0_col8\" class=\"data row0 col8\" >0.041039</td>\n",
              "                        <td id=\"T_27c76e66_7610_11eb_93c2_0242ac1c0002row0_col9\" class=\"data row0 col9\" >-0.006544</td>\n",
              "                        <td id=\"T_27c76e66_7610_11eb_93c2_0242ac1c0002row0_col10\" class=\"data row0 col10\" >0.214829</td>\n",
              "                        <td id=\"T_27c76e66_7610_11eb_93c2_0242ac1c0002row0_col11\" class=\"data row0 col11\" >-0.136387</td>\n",
              "                        <td id=\"T_27c76e66_7610_11eb_93c2_0242ac1c0002row0_col12\" class=\"data row0 col12\" >-0.227074</td>\n",
              "                        <td id=\"T_27c76e66_7610_11eb_93c2_0242ac1c0002row0_col13\" class=\"data row0 col13\" >-0.030698</td>\n",
              "                        <td id=\"T_27c76e66_7610_11eb_93c2_0242ac1c0002row0_col14\" class=\"data row0 col14\" >0.132781</td>\n",
              "                        <td id=\"T_27c76e66_7610_11eb_93c2_0242ac1c0002row0_col15\" class=\"data row0 col15\" >0.023391</td>\n",
              "                        <td id=\"T_27c76e66_7610_11eb_93c2_0242ac1c0002row0_col16\" class=\"data row0 col16\" >0.042481</td>\n",
              "                        <td id=\"T_27c76e66_7610_11eb_93c2_0242ac1c0002row0_col17\" class=\"data row0 col17\" >0.015281</td>\n",
              "                        <td id=\"T_27c76e66_7610_11eb_93c2_0242ac1c0002row0_col18\" class=\"data row0 col18\" >0.014577</td>\n",
              "                        <td id=\"T_27c76e66_7610_11eb_93c2_0242ac1c0002row0_col19\" class=\"data row0 col19\" >0.011543</td>\n",
              "                        <td id=\"T_27c76e66_7610_11eb_93c2_0242ac1c0002row0_col20\" class=\"data row0 col20\" >0.011075</td>\n",
              "                        <td id=\"T_27c76e66_7610_11eb_93c2_0242ac1c0002row0_col21\" class=\"data row0 col21\" >0.033011</td>\n",
              "                        <td id=\"T_27c76e66_7610_11eb_93c2_0242ac1c0002row0_col22\" class=\"data row0 col22\" >-0.037674</td>\n",
              "                        <td id=\"T_27c76e66_7610_11eb_93c2_0242ac1c0002row0_col23\" class=\"data row0 col23\" >0.012937</td>\n",
              "                        <td id=\"T_27c76e66_7610_11eb_93c2_0242ac1c0002row0_col24\" class=\"data row0 col24\" >-0.005641</td>\n",
              "                        <td id=\"T_27c76e66_7610_11eb_93c2_0242ac1c0002row0_col25\" class=\"data row0 col25\" >0.054131</td>\n",
              "                        <td id=\"T_27c76e66_7610_11eb_93c2_0242ac1c0002row0_col26\" class=\"data row0 col26\" >-0.020063</td>\n",
              "                        <td id=\"T_27c76e66_7610_11eb_93c2_0242ac1c0002row0_col27\" class=\"data row0 col27\" >-0.040203</td>\n",
              "            </tr>\n",
              "            <tr>\n",
              "                        <th id=\"T_27c76e66_7610_11eb_93c2_0242ac1c0002level0_row1\" class=\"row_heading level0 row1\" >Ever_Married</th>\n",
              "                        <td id=\"T_27c76e66_7610_11eb_93c2_0242ac1c0002row1_col0\" class=\"data row1 col0\" >-0.111732</td>\n",
              "                        <td id=\"T_27c76e66_7610_11eb_93c2_0242ac1c0002row1_col1\" class=\"data row1 col1\" >1.000000</td>\n",
              "                        <td id=\"T_27c76e66_7610_11eb_93c2_0242ac1c0002row1_col2\" class=\"data row1 col2\" >0.556892</td>\n",
              "                        <td id=\"T_27c76e66_7610_11eb_93c2_0242ac1c0002row1_col3\" class=\"data row1 col3\" >0.188450</td>\n",
              "                        <td id=\"T_27c76e66_7610_11eb_93c2_0242ac1c0002row1_col4\" class=\"data row1 col4\" >-0.090500</td>\n",
              "                        <td id=\"T_27c76e66_7610_11eb_93c2_0242ac1c0002row1_col5\" class=\"data row1 col5\" >0.610642</td>\n",
              "                        <td id=\"T_27c76e66_7610_11eb_93c2_0242ac1c0002row1_col6\" class=\"data row1 col6\" >-0.067102</td>\n",
              "                        <td id=\"T_27c76e66_7610_11eb_93c2_0242ac1c0002row1_col7\" class=\"data row1 col7\" >-0.195860</td>\n",
              "                        <td id=\"T_27c76e66_7610_11eb_93c2_0242ac1c0002row1_col8\" class=\"data row1 col8\" >0.167710</td>\n",
              "                        <td id=\"T_27c76e66_7610_11eb_93c2_0242ac1c0002row1_col9\" class=\"data row1 col9\" >-0.077566</td>\n",
              "                        <td id=\"T_27c76e66_7610_11eb_93c2_0242ac1c0002row1_col10\" class=\"data row1 col10\" >0.015791</td>\n",
              "                        <td id=\"T_27c76e66_7610_11eb_93c2_0242ac1c0002row1_col11\" class=\"data row1 col11\" >0.022238</td>\n",
              "                        <td id=\"T_27c76e66_7610_11eb_93c2_0242ac1c0002row1_col12\" class=\"data row1 col12\" >0.199088</td>\n",
              "                        <td id=\"T_27c76e66_7610_11eb_93c2_0242ac1c0002row1_col13\" class=\"data row1 col13\" >-0.414947</td>\n",
              "                        <td id=\"T_27c76e66_7610_11eb_93c2_0242ac1c0002row1_col14\" class=\"data row1 col14\" >-0.017369</td>\n",
              "                        <td id=\"T_27c76e66_7610_11eb_93c2_0242ac1c0002row1_col15\" class=\"data row1 col15\" >0.201930</td>\n",
              "                        <td id=\"T_27c76e66_7610_11eb_93c2_0242ac1c0002row1_col16\" class=\"data row1 col16\" >-0.094699</td>\n",
              "                        <td id=\"T_27c76e66_7610_11eb_93c2_0242ac1c0002row1_col17\" class=\"data row1 col17\" >-0.003660</td>\n",
              "                        <td id=\"T_27c76e66_7610_11eb_93c2_0242ac1c0002row1_col18\" class=\"data row1 col18\" >-0.078385</td>\n",
              "                        <td id=\"T_27c76e66_7610_11eb_93c2_0242ac1c0002row1_col19\" class=\"data row1 col19\" >-0.022777</td>\n",
              "                        <td id=\"T_27c76e66_7610_11eb_93c2_0242ac1c0002row1_col20\" class=\"data row1 col20\" >-0.022591</td>\n",
              "                        <td id=\"T_27c76e66_7610_11eb_93c2_0242ac1c0002row1_col21\" class=\"data row1 col21\" >-0.023204</td>\n",
              "                        <td id=\"T_27c76e66_7610_11eb_93c2_0242ac1c0002row1_col22\" class=\"data row1 col22\" >0.078036</td>\n",
              "                        <td id=\"T_27c76e66_7610_11eb_93c2_0242ac1c0002row1_col23\" class=\"data row1 col23\" >-0.013444</td>\n",
              "                        <td id=\"T_27c76e66_7610_11eb_93c2_0242ac1c0002row1_col24\" class=\"data row1 col24\" >-0.483486</td>\n",
              "                        <td id=\"T_27c76e66_7610_11eb_93c2_0242ac1c0002row1_col25\" class=\"data row1 col25\" >-0.074297</td>\n",
              "                        <td id=\"T_27c76e66_7610_11eb_93c2_0242ac1c0002row1_col26\" class=\"data row1 col26\" >0.300624</td>\n",
              "                        <td id=\"T_27c76e66_7610_11eb_93c2_0242ac1c0002row1_col27\" class=\"data row1 col27\" >0.318468</td>\n",
              "            </tr>\n",
              "            <tr>\n",
              "                        <th id=\"T_27c76e66_7610_11eb_93c2_0242ac1c0002level0_row2\" class=\"row_heading level0 row2\" >Age</th>\n",
              "                        <td id=\"T_27c76e66_7610_11eb_93c2_0242ac1c0002row2_col0\" class=\"data row2 col0\" >-0.030216</td>\n",
              "                        <td id=\"T_27c76e66_7610_11eb_93c2_0242ac1c0002row2_col1\" class=\"data row2 col1\" >0.556892</td>\n",
              "                        <td id=\"T_27c76e66_7610_11eb_93c2_0242ac1c0002row2_col2\" class=\"data row2 col2\" >1.000000</td>\n",
              "                        <td id=\"T_27c76e66_7610_11eb_93c2_0242ac1c0002row2_col3\" class=\"data row2 col3\" >0.235752</td>\n",
              "                        <td id=\"T_27c76e66_7610_11eb_93c2_0242ac1c0002row2_col4\" class=\"data row2 col4\" >-0.177344</td>\n",
              "                        <td id=\"T_27c76e66_7610_11eb_93c2_0242ac1c0002row2_col5\" class=\"data row2 col5\" >0.415485</td>\n",
              "                        <td id=\"T_27c76e66_7610_11eb_93c2_0242ac1c0002row2_col6\" class=\"data row2 col6\" >-0.270793</td>\n",
              "                        <td id=\"T_27c76e66_7610_11eb_93c2_0242ac1c0002row2_col7\" class=\"data row2 col7\" >-0.227072</td>\n",
              "                        <td id=\"T_27c76e66_7610_11eb_93c2_0242ac1c0002row2_col8\" class=\"data row2 col8\" >0.111533</td>\n",
              "                        <td id=\"T_27c76e66_7610_11eb_93c2_0242ac1c0002row2_col9\" class=\"data row2 col9\" >-0.114043</td>\n",
              "                        <td id=\"T_27c76e66_7610_11eb_93c2_0242ac1c0002row2_col10\" class=\"data row2 col10\" >-0.031729</td>\n",
              "                        <td id=\"T_27c76e66_7610_11eb_93c2_0242ac1c0002row2_col11\" class=\"data row2 col11\" >-0.010086</td>\n",
              "                        <td id=\"T_27c76e66_7610_11eb_93c2_0242ac1c0002row2_col12\" class=\"data row2 col12\" >0.129303</td>\n",
              "                        <td id=\"T_27c76e66_7610_11eb_93c2_0242ac1c0002row2_col13\" class=\"data row2 col13\" >-0.442792</td>\n",
              "                        <td id=\"T_27c76e66_7610_11eb_93c2_0242ac1c0002row2_col14\" class=\"data row2 col14\" >-0.058837</td>\n",
              "                        <td id=\"T_27c76e66_7610_11eb_93c2_0242ac1c0002row2_col15\" class=\"data row2 col15\" >0.549588</td>\n",
              "                        <td id=\"T_27c76e66_7610_11eb_93c2_0242ac1c0002row2_col16\" class=\"data row2 col16\" >-0.077097</td>\n",
              "                        <td id=\"T_27c76e66_7610_11eb_93c2_0242ac1c0002row2_col17\" class=\"data row2 col17\" >-0.028782</td>\n",
              "                        <td id=\"T_27c76e66_7610_11eb_93c2_0242ac1c0002row2_col18\" class=\"data row2 col18\" >-0.084220</td>\n",
              "                        <td id=\"T_27c76e66_7610_11eb_93c2_0242ac1c0002row2_col19\" class=\"data row2 col19\" >-0.084932</td>\n",
              "                        <td id=\"T_27c76e66_7610_11eb_93c2_0242ac1c0002row2_col20\" class=\"data row2 col20\" >-0.103030</td>\n",
              "                        <td id=\"T_27c76e66_7610_11eb_93c2_0242ac1c0002row2_col21\" class=\"data row2 col21\" >-0.038916</td>\n",
              "                        <td id=\"T_27c76e66_7610_11eb_93c2_0242ac1c0002row2_col22\" class=\"data row2 col22\" >0.199443</td>\n",
              "                        <td id=\"T_27c76e66_7610_11eb_93c2_0242ac1c0002row2_col23\" class=\"data row2 col23\" >-0.046497</td>\n",
              "                        <td id=\"T_27c76e66_7610_11eb_93c2_0242ac1c0002row2_col24\" class=\"data row2 col24\" >-0.648153</td>\n",
              "                        <td id=\"T_27c76e66_7610_11eb_93c2_0242ac1c0002row2_col25\" class=\"data row2 col25\" >-0.255691</td>\n",
              "                        <td id=\"T_27c76e66_7610_11eb_93c2_0242ac1c0002row2_col26\" class=\"data row2 col26\" >0.277867</td>\n",
              "                        <td id=\"T_27c76e66_7610_11eb_93c2_0242ac1c0002row2_col27\" class=\"data row2 col27\" >0.769312</td>\n",
              "            </tr>\n",
              "            <tr>\n",
              "                        <th id=\"T_27c76e66_7610_11eb_93c2_0242ac1c0002level0_row3\" class=\"row_heading level0 row3\" >Graduated</th>\n",
              "                        <td id=\"T_27c76e66_7610_11eb_93c2_0242ac1c0002row3_col0\" class=\"data row3 col0\" >0.033206</td>\n",
              "                        <td id=\"T_27c76e66_7610_11eb_93c2_0242ac1c0002row3_col1\" class=\"data row3 col1\" >0.188450</td>\n",
              "                        <td id=\"T_27c76e66_7610_11eb_93c2_0242ac1c0002row3_col2\" class=\"data row3 col2\" >0.235752</td>\n",
              "                        <td id=\"T_27c76e66_7610_11eb_93c2_0242ac1c0002row3_col3\" class=\"data row3 col3\" >1.000000</td>\n",
              "                        <td id=\"T_27c76e66_7610_11eb_93c2_0242ac1c0002row3_col4\" class=\"data row3 col4\" >0.037831</td>\n",
              "                        <td id=\"T_27c76e66_7610_11eb_93c2_0242ac1c0002row3_col5\" class=\"data row3 col5\" >0.102736</td>\n",
              "                        <td id=\"T_27c76e66_7610_11eb_93c2_0242ac1c0002row3_col6\" class=\"data row3 col6\" >-0.217698</td>\n",
              "                        <td id=\"T_27c76e66_7610_11eb_93c2_0242ac1c0002row3_col7\" class=\"data row3 col7\" >-0.158542</td>\n",
              "                        <td id=\"T_27c76e66_7610_11eb_93c2_0242ac1c0002row3_col8\" class=\"data row3 col8\" >0.344858</td>\n",
              "                        <td id=\"T_27c76e66_7610_11eb_93c2_0242ac1c0002row3_col9\" class=\"data row3 col9\" >-0.027781</td>\n",
              "                        <td id=\"T_27c76e66_7610_11eb_93c2_0242ac1c0002row3_col10\" class=\"data row3 col10\" >-0.112134</td>\n",
              "                        <td id=\"T_27c76e66_7610_11eb_93c2_0242ac1c0002row3_col11\" class=\"data row3 col11\" >0.008317</td>\n",
              "                        <td id=\"T_27c76e66_7610_11eb_93c2_0242ac1c0002row3_col12\" class=\"data row3 col12\" >-0.068019</td>\n",
              "                        <td id=\"T_27c76e66_7610_11eb_93c2_0242ac1c0002row3_col13\" class=\"data row3 col13\" >-0.238018</td>\n",
              "                        <td id=\"T_27c76e66_7610_11eb_93c2_0242ac1c0002row3_col14\" class=\"data row3 col14\" >-0.020639</td>\n",
              "                        <td id=\"T_27c76e66_7610_11eb_93c2_0242ac1c0002row3_col15\" class=\"data row3 col15\" >0.003218</td>\n",
              "                        <td id=\"T_27c76e66_7610_11eb_93c2_0242ac1c0002row3_col16\" class=\"data row3 col16\" >-0.087240</td>\n",
              "                        <td id=\"T_27c76e66_7610_11eb_93c2_0242ac1c0002row3_col17\" class=\"data row3 col17\" >-0.016457</td>\n",
              "                        <td id=\"T_27c76e66_7610_11eb_93c2_0242ac1c0002row3_col18\" class=\"data row3 col18\" >0.008128</td>\n",
              "                        <td id=\"T_27c76e66_7610_11eb_93c2_0242ac1c0002row3_col19\" class=\"data row3 col19\" >-0.035646</td>\n",
              "                        <td id=\"T_27c76e66_7610_11eb_93c2_0242ac1c0002row3_col20\" class=\"data row3 col20\" >-0.197175</td>\n",
              "                        <td id=\"T_27c76e66_7610_11eb_93c2_0242ac1c0002row3_col21\" class=\"data row3 col21\" >-0.022979</td>\n",
              "                        <td id=\"T_27c76e66_7610_11eb_93c2_0242ac1c0002row3_col22\" class=\"data row3 col22\" >0.175224</td>\n",
              "                        <td id=\"T_27c76e66_7610_11eb_93c2_0242ac1c0002row3_col23\" class=\"data row3 col23\" >-0.014656</td>\n",
              "                        <td id=\"T_27c76e66_7610_11eb_93c2_0242ac1c0002row3_col24\" class=\"data row3 col24\" >-0.349074</td>\n",
              "                        <td id=\"T_27c76e66_7610_11eb_93c2_0242ac1c0002row3_col25\" class=\"data row3 col25\" >0.132851</td>\n",
              "                        <td id=\"T_27c76e66_7610_11eb_93c2_0242ac1c0002row3_col26\" class=\"data row3 col26\" >0.180754</td>\n",
              "                        <td id=\"T_27c76e66_7610_11eb_93c2_0242ac1c0002row3_col27\" class=\"data row3 col27\" >0.031540</td>\n",
              "            </tr>\n",
              "            <tr>\n",
              "                        <th id=\"T_27c76e66_7610_11eb_93c2_0242ac1c0002level0_row4\" class=\"row_heading level0 row4\" >Work_Experience</th>\n",
              "                        <td id=\"T_27c76e66_7610_11eb_93c2_0242ac1c0002row4_col0\" class=\"data row4 col0\" >0.057212</td>\n",
              "                        <td id=\"T_27c76e66_7610_11eb_93c2_0242ac1c0002row4_col1\" class=\"data row4 col1\" >-0.090500</td>\n",
              "                        <td id=\"T_27c76e66_7610_11eb_93c2_0242ac1c0002row4_col2\" class=\"data row4 col2\" >-0.177344</td>\n",
              "                        <td id=\"T_27c76e66_7610_11eb_93c2_0242ac1c0002row4_col3\" class=\"data row4 col3\" >0.037831</td>\n",
              "                        <td id=\"T_27c76e66_7610_11eb_93c2_0242ac1c0002row4_col4\" class=\"data row4 col4\" >1.000000</td>\n",
              "                        <td id=\"T_27c76e66_7610_11eb_93c2_0242ac1c0002row4_col5\" class=\"data row4 col5\" >-0.074266</td>\n",
              "                        <td id=\"T_27c76e66_7610_11eb_93c2_0242ac1c0002row4_col6\" class=\"data row4 col6\" >-0.059565</td>\n",
              "                        <td id=\"T_27c76e66_7610_11eb_93c2_0242ac1c0002row4_col7\" class=\"data row4 col7\" >0.006135</td>\n",
              "                        <td id=\"T_27c76e66_7610_11eb_93c2_0242ac1c0002row4_col8\" class=\"data row4 col8\" >0.015076</td>\n",
              "                        <td id=\"T_27c76e66_7610_11eb_93c2_0242ac1c0002row4_col9\" class=\"data row4 col9\" >0.001168</td>\n",
              "                        <td id=\"T_27c76e66_7610_11eb_93c2_0242ac1c0002row4_col10\" class=\"data row4 col10\" >-0.003726</td>\n",
              "                        <td id=\"T_27c76e66_7610_11eb_93c2_0242ac1c0002row4_col11\" class=\"data row4 col11\" >0.013568</td>\n",
              "                        <td id=\"T_27c76e66_7610_11eb_93c2_0242ac1c0002row4_col12\" class=\"data row4 col12\" >-0.026254</td>\n",
              "                        <td id=\"T_27c76e66_7610_11eb_93c2_0242ac1c0002row4_col13\" class=\"data row4 col13\" >-0.007874</td>\n",
              "                        <td id=\"T_27c76e66_7610_11eb_93c2_0242ac1c0002row4_col14\" class=\"data row4 col14\" >0.174569</td>\n",
              "                        <td id=\"T_27c76e66_7610_11eb_93c2_0242ac1c0002row4_col15\" class=\"data row4 col15\" >-0.112868</td>\n",
              "                        <td id=\"T_27c76e66_7610_11eb_93c2_0242ac1c0002row4_col16\" class=\"data row4 col16\" >-0.004291</td>\n",
              "                        <td id=\"T_27c76e66_7610_11eb_93c2_0242ac1c0002row4_col17\" class=\"data row4 col17\" >-0.024419</td>\n",
              "                        <td id=\"T_27c76e66_7610_11eb_93c2_0242ac1c0002row4_col18\" class=\"data row4 col18\" >0.016437</td>\n",
              "                        <td id=\"T_27c76e66_7610_11eb_93c2_0242ac1c0002row4_col19\" class=\"data row4 col19\" >-0.013903</td>\n",
              "                        <td id=\"T_27c76e66_7610_11eb_93c2_0242ac1c0002row4_col20\" class=\"data row4 col20\" >-0.035004</td>\n",
              "                        <td id=\"T_27c76e66_7610_11eb_93c2_0242ac1c0002row4_col21\" class=\"data row4 col21\" >0.010707</td>\n",
              "                        <td id=\"T_27c76e66_7610_11eb_93c2_0242ac1c0002row4_col22\" class=\"data row4 col22\" >0.029990</td>\n",
              "                        <td id=\"T_27c76e66_7610_11eb_93c2_0242ac1c0002row4_col23\" class=\"data row4 col23\" >0.001936</td>\n",
              "                        <td id=\"T_27c76e66_7610_11eb_93c2_0242ac1c0002row4_col24\" class=\"data row4 col24\" >0.050750</td>\n",
              "                        <td id=\"T_27c76e66_7610_11eb_93c2_0242ac1c0002row4_col25\" class=\"data row4 col25\" >0.163877</td>\n",
              "                        <td id=\"T_27c76e66_7610_11eb_93c2_0242ac1c0002row4_col26\" class=\"data row4 col26\" >-0.096991</td>\n",
              "                        <td id=\"T_27c76e66_7610_11eb_93c2_0242ac1c0002row4_col27\" class=\"data row4 col27\" >-0.159715</td>\n",
              "            </tr>\n",
              "            <tr>\n",
              "                        <th id=\"T_27c76e66_7610_11eb_93c2_0242ac1c0002level0_row5\" class=\"row_heading level0 row5\" >Spending_Score</th>\n",
              "                        <td id=\"T_27c76e66_7610_11eb_93c2_0242ac1c0002row5_col0\" class=\"data row5 col0\" >-0.061432</td>\n",
              "                        <td id=\"T_27c76e66_7610_11eb_93c2_0242ac1c0002row5_col1\" class=\"data row5 col1\" >0.610642</td>\n",
              "                        <td id=\"T_27c76e66_7610_11eb_93c2_0242ac1c0002row5_col2\" class=\"data row5 col2\" >0.415485</td>\n",
              "                        <td id=\"T_27c76e66_7610_11eb_93c2_0242ac1c0002row5_col3\" class=\"data row5 col3\" >0.102736</td>\n",
              "                        <td id=\"T_27c76e66_7610_11eb_93c2_0242ac1c0002row5_col4\" class=\"data row5 col4\" >-0.074266</td>\n",
              "                        <td id=\"T_27c76e66_7610_11eb_93c2_0242ac1c0002row5_col5\" class=\"data row5 col5\" >1.000000</td>\n",
              "                        <td id=\"T_27c76e66_7610_11eb_93c2_0242ac1c0002row5_col6\" class=\"data row5 col6\" >0.100744</td>\n",
              "                        <td id=\"T_27c76e66_7610_11eb_93c2_0242ac1c0002row5_col7\" class=\"data row5 col7\" >-0.093848</td>\n",
              "                        <td id=\"T_27c76e66_7610_11eb_93c2_0242ac1c0002row5_col8\" class=\"data row5 col8\" >0.038948</td>\n",
              "                        <td id=\"T_27c76e66_7610_11eb_93c2_0242ac1c0002row5_col9\" class=\"data row5 col9\" >-0.081867</td>\n",
              "                        <td id=\"T_27c76e66_7610_11eb_93c2_0242ac1c0002row5_col10\" class=\"data row5 col10\" >-0.024213</td>\n",
              "                        <td id=\"T_27c76e66_7610_11eb_93c2_0242ac1c0002row5_col11\" class=\"data row5 col11\" >-0.055676</td>\n",
              "                        <td id=\"T_27c76e66_7610_11eb_93c2_0242ac1c0002row5_col12\" class=\"data row5 col12\" >0.346936</td>\n",
              "                        <td id=\"T_27c76e66_7610_11eb_93c2_0242ac1c0002row5_col13\" class=\"data row5 col13\" >-0.268199</td>\n",
              "                        <td id=\"T_27c76e66_7610_11eb_93c2_0242ac1c0002row5_col14\" class=\"data row5 col14\" >-0.021732</td>\n",
              "                        <td id=\"T_27c76e66_7610_11eb_93c2_0242ac1c0002row5_col15\" class=\"data row5 col15\" >0.204095</td>\n",
              "                        <td id=\"T_27c76e66_7610_11eb_93c2_0242ac1c0002row5_col16\" class=\"data row5 col16\" >-0.068466</td>\n",
              "                        <td id=\"T_27c76e66_7610_11eb_93c2_0242ac1c0002row5_col17\" class=\"data row5 col17\" >-0.008711</td>\n",
              "                        <td id=\"T_27c76e66_7610_11eb_93c2_0242ac1c0002row5_col18\" class=\"data row5 col18\" >-0.035647</td>\n",
              "                        <td id=\"T_27c76e66_7610_11eb_93c2_0242ac1c0002row5_col19\" class=\"data row5 col19\" >-0.058547</td>\n",
              "                        <td id=\"T_27c76e66_7610_11eb_93c2_0242ac1c0002row5_col20\" class=\"data row5 col20\" >-0.030203</td>\n",
              "                        <td id=\"T_27c76e66_7610_11eb_93c2_0242ac1c0002row5_col21\" class=\"data row5 col21\" >-0.020342</td>\n",
              "                        <td id=\"T_27c76e66_7610_11eb_93c2_0242ac1c0002row5_col22\" class=\"data row5 col22\" >0.086756</td>\n",
              "                        <td id=\"T_27c76e66_7610_11eb_93c2_0242ac1c0002row5_col23\" class=\"data row5 col23\" >-0.012664</td>\n",
              "                        <td id=\"T_27c76e66_7610_11eb_93c2_0242ac1c0002row5_col24\" class=\"data row5 col24\" >-0.311370</td>\n",
              "                        <td id=\"T_27c76e66_7610_11eb_93c2_0242ac1c0002row5_col25\" class=\"data row5 col25\" >-0.082969</td>\n",
              "                        <td id=\"T_27c76e66_7610_11eb_93c2_0242ac1c0002row5_col26\" class=\"data row5 col26\" >0.164828</td>\n",
              "                        <td id=\"T_27c76e66_7610_11eb_93c2_0242ac1c0002row5_col27\" class=\"data row5 col27\" >0.282836</td>\n",
              "            </tr>\n",
              "            <tr>\n",
              "                        <th id=\"T_27c76e66_7610_11eb_93c2_0242ac1c0002level0_row6\" class=\"row_heading level0 row6\" >Family_Size</th>\n",
              "                        <td id=\"T_27c76e66_7610_11eb_93c2_0242ac1c0002row6_col0\" class=\"data row6 col0\" >-0.057920</td>\n",
              "                        <td id=\"T_27c76e66_7610_11eb_93c2_0242ac1c0002row6_col1\" class=\"data row6 col1\" >-0.067102</td>\n",
              "                        <td id=\"T_27c76e66_7610_11eb_93c2_0242ac1c0002row6_col2\" class=\"data row6 col2\" >-0.270793</td>\n",
              "                        <td id=\"T_27c76e66_7610_11eb_93c2_0242ac1c0002row6_col3\" class=\"data row6 col3\" >-0.217698</td>\n",
              "                        <td id=\"T_27c76e66_7610_11eb_93c2_0242ac1c0002row6_col4\" class=\"data row6 col4\" >-0.059565</td>\n",
              "                        <td id=\"T_27c76e66_7610_11eb_93c2_0242ac1c0002row6_col5\" class=\"data row6 col5\" >0.100744</td>\n",
              "                        <td id=\"T_27c76e66_7610_11eb_93c2_0242ac1c0002row6_col6\" class=\"data row6 col6\" >1.000000</td>\n",
              "                        <td id=\"T_27c76e66_7610_11eb_93c2_0242ac1c0002row6_col7\" class=\"data row6 col7\" >0.184639</td>\n",
              "                        <td id=\"T_27c76e66_7610_11eb_93c2_0242ac1c0002row6_col8\" class=\"data row6 col8\" >-0.142722</td>\n",
              "                        <td id=\"T_27c76e66_7610_11eb_93c2_0242ac1c0002row6_col9\" class=\"data row6 col9\" >0.006883</td>\n",
              "                        <td id=\"T_27c76e66_7610_11eb_93c2_0242ac1c0002row6_col10\" class=\"data row6 col10\" >0.026703</td>\n",
              "                        <td id=\"T_27c76e66_7610_11eb_93c2_0242ac1c0002row6_col11\" class=\"data row6 col11\" >-0.014348</td>\n",
              "                        <td id=\"T_27c76e66_7610_11eb_93c2_0242ac1c0002row6_col12\" class=\"data row6 col12\" >0.109023</td>\n",
              "                        <td id=\"T_27c76e66_7610_11eb_93c2_0242ac1c0002row6_col13\" class=\"data row6 col13\" >0.231376</td>\n",
              "                        <td id=\"T_27c76e66_7610_11eb_93c2_0242ac1c0002row6_col14\" class=\"data row6 col14\" >-0.070930</td>\n",
              "                        <td id=\"T_27c76e66_7610_11eb_93c2_0242ac1c0002row6_col15\" class=\"data row6 col15\" >-0.167923</td>\n",
              "                        <td id=\"T_27c76e66_7610_11eb_93c2_0242ac1c0002row6_col16\" class=\"data row6 col16\" >0.025103</td>\n",
              "                        <td id=\"T_27c76e66_7610_11eb_93c2_0242ac1c0002row6_col17\" class=\"data row6 col17\" >0.013309</td>\n",
              "                        <td id=\"T_27c76e66_7610_11eb_93c2_0242ac1c0002row6_col18\" class=\"data row6 col18\" >0.081968</td>\n",
              "                        <td id=\"T_27c76e66_7610_11eb_93c2_0242ac1c0002row6_col19\" class=\"data row6 col19\" >0.006033</td>\n",
              "                        <td id=\"T_27c76e66_7610_11eb_93c2_0242ac1c0002row6_col20\" class=\"data row6 col20\" >0.161000</td>\n",
              "                        <td id=\"T_27c76e66_7610_11eb_93c2_0242ac1c0002row6_col21\" class=\"data row6 col21\" >0.045654</td>\n",
              "                        <td id=\"T_27c76e66_7610_11eb_93c2_0242ac1c0002row6_col22\" class=\"data row6 col22\" >-0.184514</td>\n",
              "                        <td id=\"T_27c76e66_7610_11eb_93c2_0242ac1c0002row6_col23\" class=\"data row6 col23\" >0.038602</td>\n",
              "                        <td id=\"T_27c76e66_7610_11eb_93c2_0242ac1c0002row6_col24\" class=\"data row6 col24\" >0.247252</td>\n",
              "                        <td id=\"T_27c76e66_7610_11eb_93c2_0242ac1c0002row6_col25\" class=\"data row6 col25\" >-0.069682</td>\n",
              "                        <td id=\"T_27c76e66_7610_11eb_93c2_0242ac1c0002row6_col26\" class=\"data row6 col26\" >-0.005777</td>\n",
              "                        <td id=\"T_27c76e66_7610_11eb_93c2_0242ac1c0002row6_col27\" class=\"data row6 col27\" >-0.192312</td>\n",
              "            </tr>\n",
              "            <tr>\n",
              "                        <th id=\"T_27c76e66_7610_11eb_93c2_0242ac1c0002level0_row7\" class=\"row_heading level0 row7\" >Segmentation</th>\n",
              "                        <td id=\"T_27c76e66_7610_11eb_93c2_0242ac1c0002row7_col0\" class=\"data row7 col0\" >-0.024482</td>\n",
              "                        <td id=\"T_27c76e66_7610_11eb_93c2_0242ac1c0002row7_col1\" class=\"data row7 col1\" >-0.195860</td>\n",
              "                        <td id=\"T_27c76e66_7610_11eb_93c2_0242ac1c0002row7_col2\" class=\"data row7 col2\" >-0.227072</td>\n",
              "                        <td id=\"T_27c76e66_7610_11eb_93c2_0242ac1c0002row7_col3\" class=\"data row7 col3\" >-0.158542</td>\n",
              "                        <td id=\"T_27c76e66_7610_11eb_93c2_0242ac1c0002row7_col4\" class=\"data row7 col4\" >0.006135</td>\n",
              "                        <td id=\"T_27c76e66_7610_11eb_93c2_0242ac1c0002row7_col5\" class=\"data row7 col5\" >-0.093848</td>\n",
              "                        <td id=\"T_27c76e66_7610_11eb_93c2_0242ac1c0002row7_col6\" class=\"data row7 col6\" >0.184639</td>\n",
              "                        <td id=\"T_27c76e66_7610_11eb_93c2_0242ac1c0002row7_col7\" class=\"data row7 col7\" >1.000000</td>\n",
              "                        <td id=\"T_27c76e66_7610_11eb_93c2_0242ac1c0002row7_col8\" class=\"data row7 col8\" >-0.120540</td>\n",
              "                        <td id=\"T_27c76e66_7610_11eb_93c2_0242ac1c0002row7_col9\" class=\"data row7 col9\" >-0.013577</td>\n",
              "                        <td id=\"T_27c76e66_7610_11eb_93c2_0242ac1c0002row7_col10\" class=\"data row7 col10\" >-0.093739</td>\n",
              "                        <td id=\"T_27c76e66_7610_11eb_93c2_0242ac1c0002row7_col11\" class=\"data row7 col11\" >-0.109410</td>\n",
              "                        <td id=\"T_27c76e66_7610_11eb_93c2_0242ac1c0002row7_col12\" class=\"data row7 col12\" >-0.023086</td>\n",
              "                        <td id=\"T_27c76e66_7610_11eb_93c2_0242ac1c0002row7_col13\" class=\"data row7 col13\" >0.348836</td>\n",
              "                        <td id=\"T_27c76e66_7610_11eb_93c2_0242ac1c0002row7_col14\" class=\"data row7 col14\" >-0.006506</td>\n",
              "                        <td id=\"T_27c76e66_7610_11eb_93c2_0242ac1c0002row7_col15\" class=\"data row7 col15\" >-0.060941</td>\n",
              "                        <td id=\"T_27c76e66_7610_11eb_93c2_0242ac1c0002row7_col16\" class=\"data row7 col16\" >0.085095</td>\n",
              "                        <td id=\"T_27c76e66_7610_11eb_93c2_0242ac1c0002row7_col17\" class=\"data row7 col17\" >0.016030</td>\n",
              "                        <td id=\"T_27c76e66_7610_11eb_93c2_0242ac1c0002row7_col18\" class=\"data row7 col18\" >0.020207</td>\n",
              "                        <td id=\"T_27c76e66_7610_11eb_93c2_0242ac1c0002row7_col19\" class=\"data row7 col19\" >-0.008111</td>\n",
              "                        <td id=\"T_27c76e66_7610_11eb_93c2_0242ac1c0002row7_col20\" class=\"data row7 col20\" >-0.012226</td>\n",
              "                        <td id=\"T_27c76e66_7610_11eb_93c2_0242ac1c0002row7_col21\" class=\"data row7 col21\" >0.006501</td>\n",
              "                        <td id=\"T_27c76e66_7610_11eb_93c2_0242ac1c0002row7_col22\" class=\"data row7 col22\" >-0.002559</td>\n",
              "                        <td id=\"T_27c76e66_7610_11eb_93c2_0242ac1c0002row7_col23\" class=\"data row7 col23\" >0.004092</td>\n",
              "                        <td id=\"T_27c76e66_7610_11eb_93c2_0242ac1c0002row7_col24\" class=\"data row7 col24\" >0.294094</td>\n",
              "                        <td id=\"T_27c76e66_7610_11eb_93c2_0242ac1c0002row7_col25\" class=\"data row7 col25\" >-0.140676</td>\n",
              "                        <td id=\"T_27c76e66_7610_11eb_93c2_0242ac1c0002row7_col26\" class=\"data row7 col26\" >-0.076444</td>\n",
              "                        <td id=\"T_27c76e66_7610_11eb_93c2_0242ac1c0002row7_col27\" class=\"data row7 col27\" >-0.075634</td>\n",
              "            </tr>\n",
              "            <tr>\n",
              "                        <th id=\"T_27c76e66_7610_11eb_93c2_0242ac1c0002level0_row8\" class=\"row_heading level0 row8\" >Profession_Artist</th>\n",
              "                        <td id=\"T_27c76e66_7610_11eb_93c2_0242ac1c0002row8_col0\" class=\"data row8 col0\" >0.041039</td>\n",
              "                        <td id=\"T_27c76e66_7610_11eb_93c2_0242ac1c0002row8_col1\" class=\"data row8 col1\" >0.167710</td>\n",
              "                        <td id=\"T_27c76e66_7610_11eb_93c2_0242ac1c0002row8_col2\" class=\"data row8 col2\" >0.111533</td>\n",
              "                        <td id=\"T_27c76e66_7610_11eb_93c2_0242ac1c0002row8_col3\" class=\"data row8 col3\" >0.344858</td>\n",
              "                        <td id=\"T_27c76e66_7610_11eb_93c2_0242ac1c0002row8_col4\" class=\"data row8 col4\" >0.015076</td>\n",
              "                        <td id=\"T_27c76e66_7610_11eb_93c2_0242ac1c0002row8_col5\" class=\"data row8 col5\" >0.038948</td>\n",
              "                        <td id=\"T_27c76e66_7610_11eb_93c2_0242ac1c0002row8_col6\" class=\"data row8 col6\" >-0.142722</td>\n",
              "                        <td id=\"T_27c76e66_7610_11eb_93c2_0242ac1c0002row8_col7\" class=\"data row8 col7\" >-0.120540</td>\n",
              "                        <td id=\"T_27c76e66_7610_11eb_93c2_0242ac1c0002row8_col8\" class=\"data row8 col8\" >1.000000</td>\n",
              "                        <td id=\"T_27c76e66_7610_11eb_93c2_0242ac1c0002row8_col9\" class=\"data row8 col9\" >-0.212936</td>\n",
              "                        <td id=\"T_27c76e66_7610_11eb_93c2_0242ac1c0002row8_col10\" class=\"data row8 col10\" >-0.214791</td>\n",
              "                        <td id=\"T_27c76e66_7610_11eb_93c2_0242ac1c0002row8_col11\" class=\"data row8 col11\" >-0.254628</td>\n",
              "                        <td id=\"T_27c76e66_7610_11eb_93c2_0242ac1c0002row8_col12\" class=\"data row8 col12\" >-0.197499</td>\n",
              "                        <td id=\"T_27c76e66_7610_11eb_93c2_0242ac1c0002row8_col13\" class=\"data row8 col13\" >-0.310122</td>\n",
              "                        <td id=\"T_27c76e66_7610_11eb_93c2_0242ac1c0002row8_col14\" class=\"data row8 col14\" >-0.123677</td>\n",
              "                        <td id=\"T_27c76e66_7610_11eb_93c2_0242ac1c0002row8_col15\" class=\"data row8 col15\" >-0.201741</td>\n",
              "                        <td id=\"T_27c76e66_7610_11eb_93c2_0242ac1c0002row8_col16\" class=\"data row8 col16\" >-0.135144</td>\n",
              "                        <td id=\"T_27c76e66_7610_11eb_93c2_0242ac1c0002row8_col17\" class=\"data row8 col17\" >-0.011452</td>\n",
              "                        <td id=\"T_27c76e66_7610_11eb_93c2_0242ac1c0002row8_col18\" class=\"data row8 col18\" >-0.017900</td>\n",
              "                        <td id=\"T_27c76e66_7610_11eb_93c2_0242ac1c0002row8_col19\" class=\"data row8 col19\" >-0.040148</td>\n",
              "                        <td id=\"T_27c76e66_7610_11eb_93c2_0242ac1c0002row8_col20\" class=\"data row8 col20\" >-0.096901</td>\n",
              "                        <td id=\"T_27c76e66_7610_11eb_93c2_0242ac1c0002row8_col21\" class=\"data row8 col21\" >-0.009867</td>\n",
              "                        <td id=\"T_27c76e66_7610_11eb_93c2_0242ac1c0002row8_col22\" class=\"data row8 col22\" >0.107057</td>\n",
              "                        <td id=\"T_27c76e66_7610_11eb_93c2_0242ac1c0002row8_col23\" class=\"data row8 col23\" >0.006029</td>\n",
              "                        <td id=\"T_27c76e66_7610_11eb_93c2_0242ac1c0002row8_col24\" class=\"data row8 col24\" >-0.258861</td>\n",
              "                        <td id=\"T_27c76e66_7610_11eb_93c2_0242ac1c0002row8_col25\" class=\"data row8 col25\" >0.098841</td>\n",
              "                        <td id=\"T_27c76e66_7610_11eb_93c2_0242ac1c0002row8_col26\" class=\"data row8 col26\" >0.219152</td>\n",
              "                        <td id=\"T_27c76e66_7610_11eb_93c2_0242ac1c0002row8_col27\" class=\"data row8 col27\" >-0.073526</td>\n",
              "            </tr>\n",
              "            <tr>\n",
              "                        <th id=\"T_27c76e66_7610_11eb_93c2_0242ac1c0002level0_row9\" class=\"row_heading level0 row9\" >Profession_Doctor</th>\n",
              "                        <td id=\"T_27c76e66_7610_11eb_93c2_0242ac1c0002row9_col0\" class=\"data row9 col0\" >-0.006544</td>\n",
              "                        <td id=\"T_27c76e66_7610_11eb_93c2_0242ac1c0002row9_col1\" class=\"data row9 col1\" >-0.077566</td>\n",
              "                        <td id=\"T_27c76e66_7610_11eb_93c2_0242ac1c0002row9_col2\" class=\"data row9 col2\" >-0.114043</td>\n",
              "                        <td id=\"T_27c76e66_7610_11eb_93c2_0242ac1c0002row9_col3\" class=\"data row9 col3\" >-0.027781</td>\n",
              "                        <td id=\"T_27c76e66_7610_11eb_93c2_0242ac1c0002row9_col4\" class=\"data row9 col4\" >0.001168</td>\n",
              "                        <td id=\"T_27c76e66_7610_11eb_93c2_0242ac1c0002row9_col5\" class=\"data row9 col5\" >-0.081867</td>\n",
              "                        <td id=\"T_27c76e66_7610_11eb_93c2_0242ac1c0002row9_col6\" class=\"data row9 col6\" >0.006883</td>\n",
              "                        <td id=\"T_27c76e66_7610_11eb_93c2_0242ac1c0002row9_col7\" class=\"data row9 col7\" >-0.013577</td>\n",
              "                        <td id=\"T_27c76e66_7610_11eb_93c2_0242ac1c0002row9_col8\" class=\"data row9 col8\" >-0.212936</td>\n",
              "                        <td id=\"T_27c76e66_7610_11eb_93c2_0242ac1c0002row9_col9\" class=\"data row9 col9\" >1.000000</td>\n",
              "                        <td id=\"T_27c76e66_7610_11eb_93c2_0242ac1c0002row9_col10\" class=\"data row9 col10\" >-0.094037</td>\n",
              "                        <td id=\"T_27c76e66_7610_11eb_93c2_0242ac1c0002row9_col11\" class=\"data row9 col11\" >-0.111478</td>\n",
              "                        <td id=\"T_27c76e66_7610_11eb_93c2_0242ac1c0002row9_col12\" class=\"data row9 col12\" >-0.086467</td>\n",
              "                        <td id=\"T_27c76e66_7610_11eb_93c2_0242ac1c0002row9_col13\" class=\"data row9 col13\" >-0.135774</td>\n",
              "                        <td id=\"T_27c76e66_7610_11eb_93c2_0242ac1c0002row9_col14\" class=\"data row9 col14\" >-0.054147</td>\n",
              "                        <td id=\"T_27c76e66_7610_11eb_93c2_0242ac1c0002row9_col15\" class=\"data row9 col15\" >-0.088324</td>\n",
              "                        <td id=\"T_27c76e66_7610_11eb_93c2_0242ac1c0002row9_col16\" class=\"data row9 col16\" >-0.059167</td>\n",
              "                        <td id=\"T_27c76e66_7610_11eb_93c2_0242ac1c0002row9_col17\" class=\"data row9 col17\" >-0.001191</td>\n",
              "                        <td id=\"T_27c76e66_7610_11eb_93c2_0242ac1c0002row9_col18\" class=\"data row9 col18\" >0.013981</td>\n",
              "                        <td id=\"T_27c76e66_7610_11eb_93c2_0242ac1c0002row9_col19\" class=\"data row9 col19\" >0.011596</td>\n",
              "                        <td id=\"T_27c76e66_7610_11eb_93c2_0242ac1c0002row9_col20\" class=\"data row9 col20\" >0.015761</td>\n",
              "                        <td id=\"T_27c76e66_7610_11eb_93c2_0242ac1c0002row9_col21\" class=\"data row9 col21\" >-0.014119</td>\n",
              "                        <td id=\"T_27c76e66_7610_11eb_93c2_0242ac1c0002row9_col22\" class=\"data row9 col22\" >-0.030093</td>\n",
              "                        <td id=\"T_27c76e66_7610_11eb_93c2_0242ac1c0002row9_col23\" class=\"data row9 col23\" >0.024622</td>\n",
              "                        <td id=\"T_27c76e66_7610_11eb_93c2_0242ac1c0002row9_col24\" class=\"data row9 col24\" >0.067780</td>\n",
              "                        <td id=\"T_27c76e66_7610_11eb_93c2_0242ac1c0002row9_col25\" class=\"data row9 col25\" >0.047221</td>\n",
              "                        <td id=\"T_27c76e66_7610_11eb_93c2_0242ac1c0002row9_col26\" class=\"data row9 col26\" >-0.043201</td>\n",
              "                        <td id=\"T_27c76e66_7610_11eb_93c2_0242ac1c0002row9_col27\" class=\"data row9 col27\" >-0.090725</td>\n",
              "            </tr>\n",
              "            <tr>\n",
              "                        <th id=\"T_27c76e66_7610_11eb_93c2_0242ac1c0002level0_row10\" class=\"row_heading level0 row10\" >Profession_Engineer</th>\n",
              "                        <td id=\"T_27c76e66_7610_11eb_93c2_0242ac1c0002row10_col0\" class=\"data row10 col0\" >0.214829</td>\n",
              "                        <td id=\"T_27c76e66_7610_11eb_93c2_0242ac1c0002row10_col1\" class=\"data row10 col1\" >0.015791</td>\n",
              "                        <td id=\"T_27c76e66_7610_11eb_93c2_0242ac1c0002row10_col2\" class=\"data row10 col2\" >-0.031729</td>\n",
              "                        <td id=\"T_27c76e66_7610_11eb_93c2_0242ac1c0002row10_col3\" class=\"data row10 col3\" >-0.112134</td>\n",
              "                        <td id=\"T_27c76e66_7610_11eb_93c2_0242ac1c0002row10_col4\" class=\"data row10 col4\" >-0.003726</td>\n",
              "                        <td id=\"T_27c76e66_7610_11eb_93c2_0242ac1c0002row10_col5\" class=\"data row10 col5\" >-0.024213</td>\n",
              "                        <td id=\"T_27c76e66_7610_11eb_93c2_0242ac1c0002row10_col6\" class=\"data row10 col6\" >0.026703</td>\n",
              "                        <td id=\"T_27c76e66_7610_11eb_93c2_0242ac1c0002row10_col7\" class=\"data row10 col7\" >-0.093739</td>\n",
              "                        <td id=\"T_27c76e66_7610_11eb_93c2_0242ac1c0002row10_col8\" class=\"data row10 col8\" >-0.214791</td>\n",
              "                        <td id=\"T_27c76e66_7610_11eb_93c2_0242ac1c0002row10_col9\" class=\"data row10 col9\" >-0.094037</td>\n",
              "                        <td id=\"T_27c76e66_7610_11eb_93c2_0242ac1c0002row10_col10\" class=\"data row10 col10\" >1.000000</td>\n",
              "                        <td id=\"T_27c76e66_7610_11eb_93c2_0242ac1c0002row10_col11\" class=\"data row10 col11\" >-0.112450</td>\n",
              "                        <td id=\"T_27c76e66_7610_11eb_93c2_0242ac1c0002row10_col12\" class=\"data row10 col12\" >-0.087220</td>\n",
              "                        <td id=\"T_27c76e66_7610_11eb_93c2_0242ac1c0002row10_col13\" class=\"data row10 col13\" >-0.136957</td>\n",
              "                        <td id=\"T_27c76e66_7610_11eb_93c2_0242ac1c0002row10_col14\" class=\"data row10 col14\" >-0.054619</td>\n",
              "                        <td id=\"T_27c76e66_7610_11eb_93c2_0242ac1c0002row10_col15\" class=\"data row10 col15\" >-0.089093</td>\n",
              "                        <td id=\"T_27c76e66_7610_11eb_93c2_0242ac1c0002row10_col16\" class=\"data row10 col16\" >-0.059683</td>\n",
              "                        <td id=\"T_27c76e66_7610_11eb_93c2_0242ac1c0002row10_col17\" class=\"data row10 col17\" >-0.012191</td>\n",
              "                        <td id=\"T_27c76e66_7610_11eb_93c2_0242ac1c0002row10_col18\" class=\"data row10 col18\" >-0.026838</td>\n",
              "                        <td id=\"T_27c76e66_7610_11eb_93c2_0242ac1c0002row10_col19\" class=\"data row10 col19\" >0.024446</td>\n",
              "                        <td id=\"T_27c76e66_7610_11eb_93c2_0242ac1c0002row10_col20\" class=\"data row10 col20\" >0.141392</td>\n",
              "                        <td id=\"T_27c76e66_7610_11eb_93c2_0242ac1c0002row10_col21\" class=\"data row10 col21\" >0.007059</td>\n",
              "                        <td id=\"T_27c76e66_7610_11eb_93c2_0242ac1c0002row10_col22\" class=\"data row10 col22\" >-0.103515</td>\n",
              "                        <td id=\"T_27c76e66_7610_11eb_93c2_0242ac1c0002row10_col23\" class=\"data row10 col23\" >0.001160</td>\n",
              "                        <td id=\"T_27c76e66_7610_11eb_93c2_0242ac1c0002row10_col24\" class=\"data row10 col24\" >-0.031020</td>\n",
              "                        <td id=\"T_27c76e66_7610_11eb_93c2_0242ac1c0002row10_col25\" class=\"data row10 col25\" >0.056227</td>\n",
              "                        <td id=\"T_27c76e66_7610_11eb_93c2_0242ac1c0002row10_col26\" class=\"data row10 col26\" >0.025522</td>\n",
              "                        <td id=\"T_27c76e66_7610_11eb_93c2_0242ac1c0002row10_col27\" class=\"data row10 col27\" >-0.064980</td>\n",
              "            </tr>\n",
              "            <tr>\n",
              "                        <th id=\"T_27c76e66_7610_11eb_93c2_0242ac1c0002level0_row11\" class=\"row_heading level0 row11\" >Profession_Entertainment</th>\n",
              "                        <td id=\"T_27c76e66_7610_11eb_93c2_0242ac1c0002row11_col0\" class=\"data row11 col0\" >-0.136387</td>\n",
              "                        <td id=\"T_27c76e66_7610_11eb_93c2_0242ac1c0002row11_col1\" class=\"data row11 col1\" >0.022238</td>\n",
              "                        <td id=\"T_27c76e66_7610_11eb_93c2_0242ac1c0002row11_col2\" class=\"data row11 col2\" >-0.010086</td>\n",
              "                        <td id=\"T_27c76e66_7610_11eb_93c2_0242ac1c0002row11_col3\" class=\"data row11 col3\" >0.008317</td>\n",
              "                        <td id=\"T_27c76e66_7610_11eb_93c2_0242ac1c0002row11_col4\" class=\"data row11 col4\" >0.013568</td>\n",
              "                        <td id=\"T_27c76e66_7610_11eb_93c2_0242ac1c0002row11_col5\" class=\"data row11 col5\" >-0.055676</td>\n",
              "                        <td id=\"T_27c76e66_7610_11eb_93c2_0242ac1c0002row11_col6\" class=\"data row11 col6\" >-0.014348</td>\n",
              "                        <td id=\"T_27c76e66_7610_11eb_93c2_0242ac1c0002row11_col7\" class=\"data row11 col7\" >-0.109410</td>\n",
              "                        <td id=\"T_27c76e66_7610_11eb_93c2_0242ac1c0002row11_col8\" class=\"data row11 col8\" >-0.254628</td>\n",
              "                        <td id=\"T_27c76e66_7610_11eb_93c2_0242ac1c0002row11_col9\" class=\"data row11 col9\" >-0.111478</td>\n",
              "                        <td id=\"T_27c76e66_7610_11eb_93c2_0242ac1c0002row11_col10\" class=\"data row11 col10\" >-0.112450</td>\n",
              "                        <td id=\"T_27c76e66_7610_11eb_93c2_0242ac1c0002row11_col11\" class=\"data row11 col11\" >1.000000</td>\n",
              "                        <td id=\"T_27c76e66_7610_11eb_93c2_0242ac1c0002row11_col12\" class=\"data row11 col12\" >-0.103396</td>\n",
              "                        <td id=\"T_27c76e66_7610_11eb_93c2_0242ac1c0002row11_col13\" class=\"data row11 col13\" >-0.162358</td>\n",
              "                        <td id=\"T_27c76e66_7610_11eb_93c2_0242ac1c0002row11_col14\" class=\"data row11 col14\" >-0.064749</td>\n",
              "                        <td id=\"T_27c76e66_7610_11eb_93c2_0242ac1c0002row11_col15\" class=\"data row11 col15\" >-0.105617</td>\n",
              "                        <td id=\"T_27c76e66_7610_11eb_93c2_0242ac1c0002row11_col16\" class=\"data row11 col16\" >-0.070752</td>\n",
              "                        <td id=\"T_27c76e66_7610_11eb_93c2_0242ac1c0002row11_col17\" class=\"data row11 col17\" >0.001075</td>\n",
              "                        <td id=\"T_27c76e66_7610_11eb_93c2_0242ac1c0002row11_col18\" class=\"data row11 col18\" >0.010994</td>\n",
              "                        <td id=\"T_27c76e66_7610_11eb_93c2_0242ac1c0002row11_col19\" class=\"data row11 col19\" >0.036009</td>\n",
              "                        <td id=\"T_27c76e66_7610_11eb_93c2_0242ac1c0002row11_col20\" class=\"data row11 col20\" >0.010028</td>\n",
              "                        <td id=\"T_27c76e66_7610_11eb_93c2_0242ac1c0002row11_col21\" class=\"data row11 col21\" >0.000007</td>\n",
              "                        <td id=\"T_27c76e66_7610_11eb_93c2_0242ac1c0002row11_col22\" class=\"data row11 col22\" >-0.034127</td>\n",
              "                        <td id=\"T_27c76e66_7610_11eb_93c2_0242ac1c0002row11_col23\" class=\"data row11 col23\" >-0.004613</td>\n",
              "                        <td id=\"T_27c76e66_7610_11eb_93c2_0242ac1c0002row11_col24\" class=\"data row11 col24\" >-0.050843</td>\n",
              "                        <td id=\"T_27c76e66_7610_11eb_93c2_0242ac1c0002row11_col25\" class=\"data row11 col25\" >0.052316</td>\n",
              "                        <td id=\"T_27c76e66_7610_11eb_93c2_0242ac1c0002row11_col26\" class=\"data row11 col26\" >0.031603</td>\n",
              "                        <td id=\"T_27c76e66_7610_11eb_93c2_0242ac1c0002row11_col27\" class=\"data row11 col27\" >-0.043732</td>\n",
              "            </tr>\n",
              "            <tr>\n",
              "                        <th id=\"T_27c76e66_7610_11eb_93c2_0242ac1c0002level0_row12\" class=\"row_heading level0 row12\" >Profession_Executive</th>\n",
              "                        <td id=\"T_27c76e66_7610_11eb_93c2_0242ac1c0002row12_col0\" class=\"data row12 col0\" >-0.227074</td>\n",
              "                        <td id=\"T_27c76e66_7610_11eb_93c2_0242ac1c0002row12_col1\" class=\"data row12 col1\" >0.199088</td>\n",
              "                        <td id=\"T_27c76e66_7610_11eb_93c2_0242ac1c0002row12_col2\" class=\"data row12 col2\" >0.129303</td>\n",
              "                        <td id=\"T_27c76e66_7610_11eb_93c2_0242ac1c0002row12_col3\" class=\"data row12 col3\" >-0.068019</td>\n",
              "                        <td id=\"T_27c76e66_7610_11eb_93c2_0242ac1c0002row12_col4\" class=\"data row12 col4\" >-0.026254</td>\n",
              "                        <td id=\"T_27c76e66_7610_11eb_93c2_0242ac1c0002row12_col5\" class=\"data row12 col5\" >0.346936</td>\n",
              "                        <td id=\"T_27c76e66_7610_11eb_93c2_0242ac1c0002row12_col6\" class=\"data row12 col6\" >0.109023</td>\n",
              "                        <td id=\"T_27c76e66_7610_11eb_93c2_0242ac1c0002row12_col7\" class=\"data row12 col7\" >-0.023086</td>\n",
              "                        <td id=\"T_27c76e66_7610_11eb_93c2_0242ac1c0002row12_col8\" class=\"data row12 col8\" >-0.197499</td>\n",
              "                        <td id=\"T_27c76e66_7610_11eb_93c2_0242ac1c0002row12_col9\" class=\"data row12 col9\" >-0.086467</td>\n",
              "                        <td id=\"T_27c76e66_7610_11eb_93c2_0242ac1c0002row12_col10\" class=\"data row12 col10\" >-0.087220</td>\n",
              "                        <td id=\"T_27c76e66_7610_11eb_93c2_0242ac1c0002row12_col11\" class=\"data row12 col11\" >-0.103396</td>\n",
              "                        <td id=\"T_27c76e66_7610_11eb_93c2_0242ac1c0002row12_col12\" class=\"data row12 col12\" >1.000000</td>\n",
              "                        <td id=\"T_27c76e66_7610_11eb_93c2_0242ac1c0002row12_col13\" class=\"data row12 col13\" >-0.125931</td>\n",
              "                        <td id=\"T_27c76e66_7610_11eb_93c2_0242ac1c0002row12_col14\" class=\"data row12 col14\" >-0.050222</td>\n",
              "                        <td id=\"T_27c76e66_7610_11eb_93c2_0242ac1c0002row12_col15\" class=\"data row12 col15\" >-0.081921</td>\n",
              "                        <td id=\"T_27c76e66_7610_11eb_93c2_0242ac1c0002row12_col16\" class=\"data row12 col16\" >-0.054878</td>\n",
              "                        <td id=\"T_27c76e66_7610_11eb_93c2_0242ac1c0002row12_col17\" class=\"data row12 col17\" >0.011605</td>\n",
              "                        <td id=\"T_27c76e66_7610_11eb_93c2_0242ac1c0002row12_col18\" class=\"data row12 col18\" >-0.024061</td>\n",
              "                        <td id=\"T_27c76e66_7610_11eb_93c2_0242ac1c0002row12_col19\" class=\"data row12 col19\" >-0.045369</td>\n",
              "                        <td id=\"T_27c76e66_7610_11eb_93c2_0242ac1c0002row12_col20\" class=\"data row12 col20\" >0.008507</td>\n",
              "                        <td id=\"T_27c76e66_7610_11eb_93c2_0242ac1c0002row12_col21\" class=\"data row12 col21\" >-0.019961</td>\n",
              "                        <td id=\"T_27c76e66_7610_11eb_93c2_0242ac1c0002row12_col22\" class=\"data row12 col22\" >0.040349</td>\n",
              "                        <td id=\"T_27c76e66_7610_11eb_93c2_0242ac1c0002row12_col23\" class=\"data row12 col23\" >-0.015310</td>\n",
              "                        <td id=\"T_27c76e66_7610_11eb_93c2_0242ac1c0002row12_col24\" class=\"data row12 col24\" >-0.101846</td>\n",
              "                        <td id=\"T_27c76e66_7610_11eb_93c2_0242ac1c0002row12_col25\" class=\"data row12 col25\" >-0.028562</td>\n",
              "                        <td id=\"T_27c76e66_7610_11eb_93c2_0242ac1c0002row12_col26\" class=\"data row12 col26\" >0.069009</td>\n",
              "                        <td id=\"T_27c76e66_7610_11eb_93c2_0242ac1c0002row12_col27\" class=\"data row12 col27\" >0.077226</td>\n",
              "            </tr>\n",
              "            <tr>\n",
              "                        <th id=\"T_27c76e66_7610_11eb_93c2_0242ac1c0002level0_row13\" class=\"row_heading level0 row13\" >Profession_Healthcare</th>\n",
              "                        <td id=\"T_27c76e66_7610_11eb_93c2_0242ac1c0002row13_col0\" class=\"data row13 col0\" >-0.030698</td>\n",
              "                        <td id=\"T_27c76e66_7610_11eb_93c2_0242ac1c0002row13_col1\" class=\"data row13 col1\" >-0.414947</td>\n",
              "                        <td id=\"T_27c76e66_7610_11eb_93c2_0242ac1c0002row13_col2\" class=\"data row13 col2\" >-0.442792</td>\n",
              "                        <td id=\"T_27c76e66_7610_11eb_93c2_0242ac1c0002row13_col3\" class=\"data row13 col3\" >-0.238018</td>\n",
              "                        <td id=\"T_27c76e66_7610_11eb_93c2_0242ac1c0002row13_col4\" class=\"data row13 col4\" >-0.007874</td>\n",
              "                        <td id=\"T_27c76e66_7610_11eb_93c2_0242ac1c0002row13_col5\" class=\"data row13 col5\" >-0.268199</td>\n",
              "                        <td id=\"T_27c76e66_7610_11eb_93c2_0242ac1c0002row13_col6\" class=\"data row13 col6\" >0.231376</td>\n",
              "                        <td id=\"T_27c76e66_7610_11eb_93c2_0242ac1c0002row13_col7\" class=\"data row13 col7\" >0.348836</td>\n",
              "                        <td id=\"T_27c76e66_7610_11eb_93c2_0242ac1c0002row13_col8\" class=\"data row13 col8\" >-0.310122</td>\n",
              "                        <td id=\"T_27c76e66_7610_11eb_93c2_0242ac1c0002row13_col9\" class=\"data row13 col9\" >-0.135774</td>\n",
              "                        <td id=\"T_27c76e66_7610_11eb_93c2_0242ac1c0002row13_col10\" class=\"data row13 col10\" >-0.136957</td>\n",
              "                        <td id=\"T_27c76e66_7610_11eb_93c2_0242ac1c0002row13_col11\" class=\"data row13 col11\" >-0.162358</td>\n",
              "                        <td id=\"T_27c76e66_7610_11eb_93c2_0242ac1c0002row13_col12\" class=\"data row13 col12\" >-0.125931</td>\n",
              "                        <td id=\"T_27c76e66_7610_11eb_93c2_0242ac1c0002row13_col13\" class=\"data row13 col13\" >1.000000</td>\n",
              "                        <td id=\"T_27c76e66_7610_11eb_93c2_0242ac1c0002row13_col14\" class=\"data row13 col14\" >-0.078861</td>\n",
              "                        <td id=\"T_27c76e66_7610_11eb_93c2_0242ac1c0002row13_col15\" class=\"data row13 col15\" >-0.128636</td>\n",
              "                        <td id=\"T_27c76e66_7610_11eb_93c2_0242ac1c0002row13_col16\" class=\"data row13 col16\" >-0.086172</td>\n",
              "                        <td id=\"T_27c76e66_7610_11eb_93c2_0242ac1c0002row13_col17\" class=\"data row13 col17\" >0.007976</td>\n",
              "                        <td id=\"T_27c76e66_7610_11eb_93c2_0242ac1c0002row13_col18\" class=\"data row13 col18\" >0.084464</td>\n",
              "                        <td id=\"T_27c76e66_7610_11eb_93c2_0242ac1c0002row13_col19\" class=\"data row13 col19\" >0.011357</td>\n",
              "                        <td id=\"T_27c76e66_7610_11eb_93c2_0242ac1c0002row13_col20\" class=\"data row13 col20\" >0.032446</td>\n",
              "                        <td id=\"T_27c76e66_7610_11eb_93c2_0242ac1c0002row13_col21\" class=\"data row13 col21\" >0.026050</td>\n",
              "                        <td id=\"T_27c76e66_7610_11eb_93c2_0242ac1c0002row13_col22\" class=\"data row13 col22\" >-0.085421</td>\n",
              "                        <td id=\"T_27c76e66_7610_11eb_93c2_0242ac1c0002row13_col23\" class=\"data row13 col23\" >0.022351</td>\n",
              "                        <td id=\"T_27c76e66_7610_11eb_93c2_0242ac1c0002row13_col24\" class=\"data row13 col24\" >0.488477</td>\n",
              "                        <td id=\"T_27c76e66_7610_11eb_93c2_0242ac1c0002row13_col25\" class=\"data row13 col25\" >-0.100570</td>\n",
              "                        <td id=\"T_27c76e66_7610_11eb_93c2_0242ac1c0002row13_col26\" class=\"data row13 col26\" >-0.221658</td>\n",
              "                        <td id=\"T_27c76e66_7610_11eb_93c2_0242ac1c0002row13_col27\" class=\"data row13 col27\" >-0.189209</td>\n",
              "            </tr>\n",
              "            <tr>\n",
              "                        <th id=\"T_27c76e66_7610_11eb_93c2_0242ac1c0002level0_row14\" class=\"row_heading level0 row14\" >Profession_Homemaker</th>\n",
              "                        <td id=\"T_27c76e66_7610_11eb_93c2_0242ac1c0002row14_col0\" class=\"data row14 col0\" >0.132781</td>\n",
              "                        <td id=\"T_27c76e66_7610_11eb_93c2_0242ac1c0002row14_col1\" class=\"data row14 col1\" >-0.017369</td>\n",
              "                        <td id=\"T_27c76e66_7610_11eb_93c2_0242ac1c0002row14_col2\" class=\"data row14 col2\" >-0.058837</td>\n",
              "                        <td id=\"T_27c76e66_7610_11eb_93c2_0242ac1c0002row14_col3\" class=\"data row14 col3\" >-0.020639</td>\n",
              "                        <td id=\"T_27c76e66_7610_11eb_93c2_0242ac1c0002row14_col4\" class=\"data row14 col4\" >0.174569</td>\n",
              "                        <td id=\"T_27c76e66_7610_11eb_93c2_0242ac1c0002row14_col5\" class=\"data row14 col5\" >-0.021732</td>\n",
              "                        <td id=\"T_27c76e66_7610_11eb_93c2_0242ac1c0002row14_col6\" class=\"data row14 col6\" >-0.070930</td>\n",
              "                        <td id=\"T_27c76e66_7610_11eb_93c2_0242ac1c0002row14_col7\" class=\"data row14 col7\" >-0.006506</td>\n",
              "                        <td id=\"T_27c76e66_7610_11eb_93c2_0242ac1c0002row14_col8\" class=\"data row14 col8\" >-0.123677</td>\n",
              "                        <td id=\"T_27c76e66_7610_11eb_93c2_0242ac1c0002row14_col9\" class=\"data row14 col9\" >-0.054147</td>\n",
              "                        <td id=\"T_27c76e66_7610_11eb_93c2_0242ac1c0002row14_col10\" class=\"data row14 col10\" >-0.054619</td>\n",
              "                        <td id=\"T_27c76e66_7610_11eb_93c2_0242ac1c0002row14_col11\" class=\"data row14 col11\" >-0.064749</td>\n",
              "                        <td id=\"T_27c76e66_7610_11eb_93c2_0242ac1c0002row14_col12\" class=\"data row14 col12\" >-0.050222</td>\n",
              "                        <td id=\"T_27c76e66_7610_11eb_93c2_0242ac1c0002row14_col13\" class=\"data row14 col13\" >-0.078861</td>\n",
              "                        <td id=\"T_27c76e66_7610_11eb_93c2_0242ac1c0002row14_col14\" class=\"data row14 col14\" >1.000000</td>\n",
              "                        <td id=\"T_27c76e66_7610_11eb_93c2_0242ac1c0002row14_col15\" class=\"data row14 col15\" >-0.051300</td>\n",
              "                        <td id=\"T_27c76e66_7610_11eb_93c2_0242ac1c0002row14_col16\" class=\"data row14 col16\" >-0.034365</td>\n",
              "                        <td id=\"T_27c76e66_7610_11eb_93c2_0242ac1c0002row14_col17\" class=\"data row14 col17\" >-0.000313</td>\n",
              "                        <td id=\"T_27c76e66_7610_11eb_93c2_0242ac1c0002row14_col18\" class=\"data row14 col18\" >0.000430</td>\n",
              "                        <td id=\"T_27c76e66_7610_11eb_93c2_0242ac1c0002row14_col19\" class=\"data row14 col19\" >0.054662</td>\n",
              "                        <td id=\"T_27c76e66_7610_11eb_93c2_0242ac1c0002row14_col20\" class=\"data row14 col20\" >-0.010980</td>\n",
              "                        <td id=\"T_27c76e66_7610_11eb_93c2_0242ac1c0002row14_col21\" class=\"data row14 col21\" >0.024065</td>\n",
              "                        <td id=\"T_27c76e66_7610_11eb_93c2_0242ac1c0002row14_col22\" class=\"data row14 col22\" >-0.024369</td>\n",
              "                        <td id=\"T_27c76e66_7610_11eb_93c2_0242ac1c0002row14_col23\" class=\"data row14 col23\" >-0.023888</td>\n",
              "                        <td id=\"T_27c76e66_7610_11eb_93c2_0242ac1c0002row14_col24\" class=\"data row14 col24\" >0.030298</td>\n",
              "                        <td id=\"T_27c76e66_7610_11eb_93c2_0242ac1c0002row14_col25\" class=\"data row14 col25\" >0.036839</td>\n",
              "                        <td id=\"T_27c76e66_7610_11eb_93c2_0242ac1c0002row14_col26\" class=\"data row14 col26\" >-0.027130</td>\n",
              "                        <td id=\"T_27c76e66_7610_11eb_93c2_0242ac1c0002row14_col27\" class=\"data row14 col27\" >-0.051894</td>\n",
              "            </tr>\n",
              "            <tr>\n",
              "                        <th id=\"T_27c76e66_7610_11eb_93c2_0242ac1c0002level0_row15\" class=\"row_heading level0 row15\" >Profession_Lawyer</th>\n",
              "                        <td id=\"T_27c76e66_7610_11eb_93c2_0242ac1c0002row15_col0\" class=\"data row15 col0\" >0.023391</td>\n",
              "                        <td id=\"T_27c76e66_7610_11eb_93c2_0242ac1c0002row15_col1\" class=\"data row15 col1\" >0.201930</td>\n",
              "                        <td id=\"T_27c76e66_7610_11eb_93c2_0242ac1c0002row15_col2\" class=\"data row15 col2\" >0.549588</td>\n",
              "                        <td id=\"T_27c76e66_7610_11eb_93c2_0242ac1c0002row15_col3\" class=\"data row15 col3\" >0.003218</td>\n",
              "                        <td id=\"T_27c76e66_7610_11eb_93c2_0242ac1c0002row15_col4\" class=\"data row15 col4\" >-0.112868</td>\n",
              "                        <td id=\"T_27c76e66_7610_11eb_93c2_0242ac1c0002row15_col5\" class=\"data row15 col5\" >0.204095</td>\n",
              "                        <td id=\"T_27c76e66_7610_11eb_93c2_0242ac1c0002row15_col6\" class=\"data row15 col6\" >-0.167923</td>\n",
              "                        <td id=\"T_27c76e66_7610_11eb_93c2_0242ac1c0002row15_col7\" class=\"data row15 col7\" >-0.060941</td>\n",
              "                        <td id=\"T_27c76e66_7610_11eb_93c2_0242ac1c0002row15_col8\" class=\"data row15 col8\" >-0.201741</td>\n",
              "                        <td id=\"T_27c76e66_7610_11eb_93c2_0242ac1c0002row15_col9\" class=\"data row15 col9\" >-0.088324</td>\n",
              "                        <td id=\"T_27c76e66_7610_11eb_93c2_0242ac1c0002row15_col10\" class=\"data row15 col10\" >-0.089093</td>\n",
              "                        <td id=\"T_27c76e66_7610_11eb_93c2_0242ac1c0002row15_col11\" class=\"data row15 col11\" >-0.105617</td>\n",
              "                        <td id=\"T_27c76e66_7610_11eb_93c2_0242ac1c0002row15_col12\" class=\"data row15 col12\" >-0.081921</td>\n",
              "                        <td id=\"T_27c76e66_7610_11eb_93c2_0242ac1c0002row15_col13\" class=\"data row15 col13\" >-0.128636</td>\n",
              "                        <td id=\"T_27c76e66_7610_11eb_93c2_0242ac1c0002row15_col14\" class=\"data row15 col14\" >-0.051300</td>\n",
              "                        <td id=\"T_27c76e66_7610_11eb_93c2_0242ac1c0002row15_col15\" class=\"data row15 col15\" >1.000000</td>\n",
              "                        <td id=\"T_27c76e66_7610_11eb_93c2_0242ac1c0002row15_col16\" class=\"data row15 col16\" >-0.056056</td>\n",
              "                        <td id=\"T_27c76e66_7610_11eb_93c2_0242ac1c0002row15_col17\" class=\"data row15 col17\" >-0.000985</td>\n",
              "                        <td id=\"T_27c76e66_7610_11eb_93c2_0242ac1c0002row15_col18\" class=\"data row15 col18\" >-0.051275</td>\n",
              "                        <td id=\"T_27c76e66_7610_11eb_93c2_0242ac1c0002row15_col19\" class=\"data row15 col19\" >-0.052917</td>\n",
              "                        <td id=\"T_27c76e66_7610_11eb_93c2_0242ac1c0002row15_col20\" class=\"data row15 col20\" >-0.065350</td>\n",
              "                        <td id=\"T_27c76e66_7610_11eb_93c2_0242ac1c0002row15_col21\" class=\"data row15 col21\" >-0.016206</td>\n",
              "                        <td id=\"T_27c76e66_7610_11eb_93c2_0242ac1c0002row15_col22\" class=\"data row15 col22\" >0.123054</td>\n",
              "                        <td id=\"T_27c76e66_7610_11eb_93c2_0242ac1c0002row15_col23\" class=\"data row15 col23\" >-0.043509</td>\n",
              "                        <td id=\"T_27c76e66_7610_11eb_93c2_0242ac1c0002row15_col24\" class=\"data row15 col24\" >-0.163227</td>\n",
              "                        <td id=\"T_27c76e66_7610_11eb_93c2_0242ac1c0002row15_col25\" class=\"data row15 col25\" >-0.208347</td>\n",
              "                        <td id=\"T_27c76e66_7610_11eb_93c2_0242ac1c0002row15_col26\" class=\"data row15 col26\" >-0.121169</td>\n",
              "                        <td id=\"T_27c76e66_7610_11eb_93c2_0242ac1c0002row15_col27\" class=\"data row15 col27\" >0.595364</td>\n",
              "            </tr>\n",
              "            <tr>\n",
              "                        <th id=\"T_27c76e66_7610_11eb_93c2_0242ac1c0002level0_row16\" class=\"row_heading level0 row16\" >Profession_Marketing</th>\n",
              "                        <td id=\"T_27c76e66_7610_11eb_93c2_0242ac1c0002row16_col0\" class=\"data row16 col0\" >0.042481</td>\n",
              "                        <td id=\"T_27c76e66_7610_11eb_93c2_0242ac1c0002row16_col1\" class=\"data row16 col1\" >-0.094699</td>\n",
              "                        <td id=\"T_27c76e66_7610_11eb_93c2_0242ac1c0002row16_col2\" class=\"data row16 col2\" >-0.077097</td>\n",
              "                        <td id=\"T_27c76e66_7610_11eb_93c2_0242ac1c0002row16_col3\" class=\"data row16 col3\" >-0.087240</td>\n",
              "                        <td id=\"T_27c76e66_7610_11eb_93c2_0242ac1c0002row16_col4\" class=\"data row16 col4\" >-0.004291</td>\n",
              "                        <td id=\"T_27c76e66_7610_11eb_93c2_0242ac1c0002row16_col5\" class=\"data row16 col5\" >-0.068466</td>\n",
              "                        <td id=\"T_27c76e66_7610_11eb_93c2_0242ac1c0002row16_col6\" class=\"data row16 col6\" >0.025103</td>\n",
              "                        <td id=\"T_27c76e66_7610_11eb_93c2_0242ac1c0002row16_col7\" class=\"data row16 col7\" >0.085095</td>\n",
              "                        <td id=\"T_27c76e66_7610_11eb_93c2_0242ac1c0002row16_col8\" class=\"data row16 col8\" >-0.135144</td>\n",
              "                        <td id=\"T_27c76e66_7610_11eb_93c2_0242ac1c0002row16_col9\" class=\"data row16 col9\" >-0.059167</td>\n",
              "                        <td id=\"T_27c76e66_7610_11eb_93c2_0242ac1c0002row16_col10\" class=\"data row16 col10\" >-0.059683</td>\n",
              "                        <td id=\"T_27c76e66_7610_11eb_93c2_0242ac1c0002row16_col11\" class=\"data row16 col11\" >-0.070752</td>\n",
              "                        <td id=\"T_27c76e66_7610_11eb_93c2_0242ac1c0002row16_col12\" class=\"data row16 col12\" >-0.054878</td>\n",
              "                        <td id=\"T_27c76e66_7610_11eb_93c2_0242ac1c0002row16_col13\" class=\"data row16 col13\" >-0.086172</td>\n",
              "                        <td id=\"T_27c76e66_7610_11eb_93c2_0242ac1c0002row16_col14\" class=\"data row16 col14\" >-0.034365</td>\n",
              "                        <td id=\"T_27c76e66_7610_11eb_93c2_0242ac1c0002row16_col15\" class=\"data row16 col15\" >-0.056056</td>\n",
              "                        <td id=\"T_27c76e66_7610_11eb_93c2_0242ac1c0002row16_col16\" class=\"data row16 col16\" >1.000000</td>\n",
              "                        <td id=\"T_27c76e66_7610_11eb_93c2_0242ac1c0002row16_col17\" class=\"data row16 col17\" >0.016607</td>\n",
              "                        <td id=\"T_27c76e66_7610_11eb_93c2_0242ac1c0002row16_col18\" class=\"data row16 col18\" >-0.015718</td>\n",
              "                        <td id=\"T_27c76e66_7610_11eb_93c2_0242ac1c0002row16_col19\" class=\"data row16 col19\" >0.051007</td>\n",
              "                        <td id=\"T_27c76e66_7610_11eb_93c2_0242ac1c0002row16_col20\" class=\"data row16 col20\" >0.016676</td>\n",
              "                        <td id=\"T_27c76e66_7610_11eb_93c2_0242ac1c0002row16_col21\" class=\"data row16 col21\" >0.012503</td>\n",
              "                        <td id=\"T_27c76e66_7610_11eb_93c2_0242ac1c0002row16_col22\" class=\"data row16 col22\" >-0.049443</td>\n",
              "                        <td id=\"T_27c76e66_7610_11eb_93c2_0242ac1c0002row16_col23\" class=\"data row16 col23\" >0.015479</td>\n",
              "                        <td id=\"T_27c76e66_7610_11eb_93c2_0242ac1c0002row16_col24\" class=\"data row16 col24\" >0.060715</td>\n",
              "                        <td id=\"T_27c76e66_7610_11eb_93c2_0242ac1c0002row16_col25\" class=\"data row16 col25\" >0.010024</td>\n",
              "                        <td id=\"T_27c76e66_7610_11eb_93c2_0242ac1c0002row16_col26\" class=\"data row16 col26\" >-0.036991</td>\n",
              "                        <td id=\"T_27c76e66_7610_11eb_93c2_0242ac1c0002row16_col27\" class=\"data row16 col27\" >-0.041745</td>\n",
              "            </tr>\n",
              "            <tr>\n",
              "                        <th id=\"T_27c76e66_7610_11eb_93c2_0242ac1c0002level0_row17\" class=\"row_heading level0 row17\" >Category_Cat_1</th>\n",
              "                        <td id=\"T_27c76e66_7610_11eb_93c2_0242ac1c0002row17_col0\" class=\"data row17 col0\" >0.015281</td>\n",
              "                        <td id=\"T_27c76e66_7610_11eb_93c2_0242ac1c0002row17_col1\" class=\"data row17 col1\" >-0.003660</td>\n",
              "                        <td id=\"T_27c76e66_7610_11eb_93c2_0242ac1c0002row17_col2\" class=\"data row17 col2\" >-0.028782</td>\n",
              "                        <td id=\"T_27c76e66_7610_11eb_93c2_0242ac1c0002row17_col3\" class=\"data row17 col3\" >-0.016457</td>\n",
              "                        <td id=\"T_27c76e66_7610_11eb_93c2_0242ac1c0002row17_col4\" class=\"data row17 col4\" >-0.024419</td>\n",
              "                        <td id=\"T_27c76e66_7610_11eb_93c2_0242ac1c0002row17_col5\" class=\"data row17 col5\" >-0.008711</td>\n",
              "                        <td id=\"T_27c76e66_7610_11eb_93c2_0242ac1c0002row17_col6\" class=\"data row17 col6\" >0.013309</td>\n",
              "                        <td id=\"T_27c76e66_7610_11eb_93c2_0242ac1c0002row17_col7\" class=\"data row17 col7\" >0.016030</td>\n",
              "                        <td id=\"T_27c76e66_7610_11eb_93c2_0242ac1c0002row17_col8\" class=\"data row17 col8\" >-0.011452</td>\n",
              "                        <td id=\"T_27c76e66_7610_11eb_93c2_0242ac1c0002row17_col9\" class=\"data row17 col9\" >-0.001191</td>\n",
              "                        <td id=\"T_27c76e66_7610_11eb_93c2_0242ac1c0002row17_col10\" class=\"data row17 col10\" >-0.012191</td>\n",
              "                        <td id=\"T_27c76e66_7610_11eb_93c2_0242ac1c0002row17_col11\" class=\"data row17 col11\" >0.001075</td>\n",
              "                        <td id=\"T_27c76e66_7610_11eb_93c2_0242ac1c0002row17_col12\" class=\"data row17 col12\" >0.011605</td>\n",
              "                        <td id=\"T_27c76e66_7610_11eb_93c2_0242ac1c0002row17_col13\" class=\"data row17 col13\" >0.007976</td>\n",
              "                        <td id=\"T_27c76e66_7610_11eb_93c2_0242ac1c0002row17_col14\" class=\"data row17 col14\" >-0.000313</td>\n",
              "                        <td id=\"T_27c76e66_7610_11eb_93c2_0242ac1c0002row17_col15\" class=\"data row17 col15\" >-0.000985</td>\n",
              "                        <td id=\"T_27c76e66_7610_11eb_93c2_0242ac1c0002row17_col16\" class=\"data row17 col16\" >0.016607</td>\n",
              "                        <td id=\"T_27c76e66_7610_11eb_93c2_0242ac1c0002row17_col17\" class=\"data row17 col17\" >1.000000</td>\n",
              "                        <td id=\"T_27c76e66_7610_11eb_93c2_0242ac1c0002row17_col18\" class=\"data row17 col18\" >-0.030415</td>\n",
              "                        <td id=\"T_27c76e66_7610_11eb_93c2_0242ac1c0002row17_col19\" class=\"data row17 col19\" >-0.043605</td>\n",
              "                        <td id=\"T_27c76e66_7610_11eb_93c2_0242ac1c0002row17_col20\" class=\"data row17 col20\" >-0.051141</td>\n",
              "                        <td id=\"T_27c76e66_7610_11eb_93c2_0242ac1c0002row17_col21\" class=\"data row17 col21\" >-0.013359</td>\n",
              "                        <td id=\"T_27c76e66_7610_11eb_93c2_0242ac1c0002row17_col22\" class=\"data row17 col22\" >-0.179838</td>\n",
              "                        <td id=\"T_27c76e66_7610_11eb_93c2_0242ac1c0002row17_col23\" class=\"data row17 col23\" >-0.020799</td>\n",
              "                        <td id=\"T_27c76e66_7610_11eb_93c2_0242ac1c0002row17_col24\" class=\"data row17 col24\" >0.023797</td>\n",
              "                        <td id=\"T_27c76e66_7610_11eb_93c2_0242ac1c0002row17_col25\" class=\"data row17 col25\" >-0.009818</td>\n",
              "                        <td id=\"T_27c76e66_7610_11eb_93c2_0242ac1c0002row17_col26\" class=\"data row17 col26\" >0.000590</td>\n",
              "                        <td id=\"T_27c76e66_7610_11eb_93c2_0242ac1c0002row17_col27\" class=\"data row17 col27\" >-0.015813</td>\n",
              "            </tr>\n",
              "            <tr>\n",
              "                        <th id=\"T_27c76e66_7610_11eb_93c2_0242ac1c0002level0_row18\" class=\"row_heading level0 row18\" >Category_Cat_2</th>\n",
              "                        <td id=\"T_27c76e66_7610_11eb_93c2_0242ac1c0002row18_col0\" class=\"data row18 col0\" >0.014577</td>\n",
              "                        <td id=\"T_27c76e66_7610_11eb_93c2_0242ac1c0002row18_col1\" class=\"data row18 col1\" >-0.078385</td>\n",
              "                        <td id=\"T_27c76e66_7610_11eb_93c2_0242ac1c0002row18_col2\" class=\"data row18 col2\" >-0.084220</td>\n",
              "                        <td id=\"T_27c76e66_7610_11eb_93c2_0242ac1c0002row18_col3\" class=\"data row18 col3\" >0.008128</td>\n",
              "                        <td id=\"T_27c76e66_7610_11eb_93c2_0242ac1c0002row18_col4\" class=\"data row18 col4\" >0.016437</td>\n",
              "                        <td id=\"T_27c76e66_7610_11eb_93c2_0242ac1c0002row18_col5\" class=\"data row18 col5\" >-0.035647</td>\n",
              "                        <td id=\"T_27c76e66_7610_11eb_93c2_0242ac1c0002row18_col6\" class=\"data row18 col6\" >0.081968</td>\n",
              "                        <td id=\"T_27c76e66_7610_11eb_93c2_0242ac1c0002row18_col7\" class=\"data row18 col7\" >0.020207</td>\n",
              "                        <td id=\"T_27c76e66_7610_11eb_93c2_0242ac1c0002row18_col8\" class=\"data row18 col8\" >-0.017900</td>\n",
              "                        <td id=\"T_27c76e66_7610_11eb_93c2_0242ac1c0002row18_col9\" class=\"data row18 col9\" >0.013981</td>\n",
              "                        <td id=\"T_27c76e66_7610_11eb_93c2_0242ac1c0002row18_col10\" class=\"data row18 col10\" >-0.026838</td>\n",
              "                        <td id=\"T_27c76e66_7610_11eb_93c2_0242ac1c0002row18_col11\" class=\"data row18 col11\" >0.010994</td>\n",
              "                        <td id=\"T_27c76e66_7610_11eb_93c2_0242ac1c0002row18_col12\" class=\"data row18 col12\" >-0.024061</td>\n",
              "                        <td id=\"T_27c76e66_7610_11eb_93c2_0242ac1c0002row18_col13\" class=\"data row18 col13\" >0.084464</td>\n",
              "                        <td id=\"T_27c76e66_7610_11eb_93c2_0242ac1c0002row18_col14\" class=\"data row18 col14\" >0.000430</td>\n",
              "                        <td id=\"T_27c76e66_7610_11eb_93c2_0242ac1c0002row18_col15\" class=\"data row18 col15\" >-0.051275</td>\n",
              "                        <td id=\"T_27c76e66_7610_11eb_93c2_0242ac1c0002row18_col16\" class=\"data row18 col16\" >-0.015718</td>\n",
              "                        <td id=\"T_27c76e66_7610_11eb_93c2_0242ac1c0002row18_col17\" class=\"data row18 col17\" >-0.030415</td>\n",
              "                        <td id=\"T_27c76e66_7610_11eb_93c2_0242ac1c0002row18_col18\" class=\"data row18 col18\" >1.000000</td>\n",
              "                        <td id=\"T_27c76e66_7610_11eb_93c2_0242ac1c0002row18_col19\" class=\"data row18 col19\" >-0.079127</td>\n",
              "                        <td id=\"T_27c76e66_7610_11eb_93c2_0242ac1c0002row18_col20\" class=\"data row18 col20\" >-0.092802</td>\n",
              "                        <td id=\"T_27c76e66_7610_11eb_93c2_0242ac1c0002row18_col21\" class=\"data row18 col21\" >-0.024242</td>\n",
              "                        <td id=\"T_27c76e66_7610_11eb_93c2_0242ac1c0002row18_col22\" class=\"data row18 col22\" >-0.326338</td>\n",
              "                        <td id=\"T_27c76e66_7610_11eb_93c2_0242ac1c0002row18_col23\" class=\"data row18 col23\" >-0.037743</td>\n",
              "                        <td id=\"T_27c76e66_7610_11eb_93c2_0242ac1c0002row18_col24\" class=\"data row18 col24\" >0.053955</td>\n",
              "                        <td id=\"T_27c76e66_7610_11eb_93c2_0242ac1c0002row18_col25\" class=\"data row18 col25\" >0.013350</td>\n",
              "                        <td id=\"T_27c76e66_7610_11eb_93c2_0242ac1c0002row18_col26\" class=\"data row18 col26\" >-0.016572</td>\n",
              "                        <td id=\"T_27c76e66_7610_11eb_93c2_0242ac1c0002row18_col27\" class=\"data row18 col27\" >-0.061285</td>\n",
              "            </tr>\n",
              "            <tr>\n",
              "                        <th id=\"T_27c76e66_7610_11eb_93c2_0242ac1c0002level0_row19\" class=\"row_heading level0 row19\" >Category_Cat_3</th>\n",
              "                        <td id=\"T_27c76e66_7610_11eb_93c2_0242ac1c0002row19_col0\" class=\"data row19 col0\" >0.011543</td>\n",
              "                        <td id=\"T_27c76e66_7610_11eb_93c2_0242ac1c0002row19_col1\" class=\"data row19 col1\" >-0.022777</td>\n",
              "                        <td id=\"T_27c76e66_7610_11eb_93c2_0242ac1c0002row19_col2\" class=\"data row19 col2\" >-0.084932</td>\n",
              "                        <td id=\"T_27c76e66_7610_11eb_93c2_0242ac1c0002row19_col3\" class=\"data row19 col3\" >-0.035646</td>\n",
              "                        <td id=\"T_27c76e66_7610_11eb_93c2_0242ac1c0002row19_col4\" class=\"data row19 col4\" >-0.013903</td>\n",
              "                        <td id=\"T_27c76e66_7610_11eb_93c2_0242ac1c0002row19_col5\" class=\"data row19 col5\" >-0.058547</td>\n",
              "                        <td id=\"T_27c76e66_7610_11eb_93c2_0242ac1c0002row19_col6\" class=\"data row19 col6\" >0.006033</td>\n",
              "                        <td id=\"T_27c76e66_7610_11eb_93c2_0242ac1c0002row19_col7\" class=\"data row19 col7\" >-0.008111</td>\n",
              "                        <td id=\"T_27c76e66_7610_11eb_93c2_0242ac1c0002row19_col8\" class=\"data row19 col8\" >-0.040148</td>\n",
              "                        <td id=\"T_27c76e66_7610_11eb_93c2_0242ac1c0002row19_col9\" class=\"data row19 col9\" >0.011596</td>\n",
              "                        <td id=\"T_27c76e66_7610_11eb_93c2_0242ac1c0002row19_col10\" class=\"data row19 col10\" >0.024446</td>\n",
              "                        <td id=\"T_27c76e66_7610_11eb_93c2_0242ac1c0002row19_col11\" class=\"data row19 col11\" >0.036009</td>\n",
              "                        <td id=\"T_27c76e66_7610_11eb_93c2_0242ac1c0002row19_col12\" class=\"data row19 col12\" >-0.045369</td>\n",
              "                        <td id=\"T_27c76e66_7610_11eb_93c2_0242ac1c0002row19_col13\" class=\"data row19 col13\" >0.011357</td>\n",
              "                        <td id=\"T_27c76e66_7610_11eb_93c2_0242ac1c0002row19_col14\" class=\"data row19 col14\" >0.054662</td>\n",
              "                        <td id=\"T_27c76e66_7610_11eb_93c2_0242ac1c0002row19_col15\" class=\"data row19 col15\" >-0.052917</td>\n",
              "                        <td id=\"T_27c76e66_7610_11eb_93c2_0242ac1c0002row19_col16\" class=\"data row19 col16\" >0.051007</td>\n",
              "                        <td id=\"T_27c76e66_7610_11eb_93c2_0242ac1c0002row19_col17\" class=\"data row19 col17\" >-0.043605</td>\n",
              "                        <td id=\"T_27c76e66_7610_11eb_93c2_0242ac1c0002row19_col18\" class=\"data row19 col18\" >-0.079127</td>\n",
              "                        <td id=\"T_27c76e66_7610_11eb_93c2_0242ac1c0002row19_col19\" class=\"data row19 col19\" >1.000000</td>\n",
              "                        <td id=\"T_27c76e66_7610_11eb_93c2_0242ac1c0002row19_col20\" class=\"data row19 col20\" >-0.133047</td>\n",
              "                        <td id=\"T_27c76e66_7610_11eb_93c2_0242ac1c0002row19_col21\" class=\"data row19 col21\" >-0.034755</td>\n",
              "                        <td id=\"T_27c76e66_7610_11eb_93c2_0242ac1c0002row19_col22\" class=\"data row19 col22\" >-0.467860</td>\n",
              "                        <td id=\"T_27c76e66_7610_11eb_93c2_0242ac1c0002row19_col23\" class=\"data row19 col23\" >-0.054111</td>\n",
              "                        <td id=\"T_27c76e66_7610_11eb_93c2_0242ac1c0002row19_col24\" class=\"data row19 col24\" >0.053463</td>\n",
              "                        <td id=\"T_27c76e66_7610_11eb_93c2_0242ac1c0002row19_col25\" class=\"data row19 col25\" >0.018574</td>\n",
              "                        <td id=\"T_27c76e66_7610_11eb_93c2_0242ac1c0002row19_col26\" class=\"data row19 col26\" >-0.005845</td>\n",
              "                        <td id=\"T_27c76e66_7610_11eb_93c2_0242ac1c0002row19_col27\" class=\"data row19 col27\" >-0.079584</td>\n",
              "            </tr>\n",
              "            <tr>\n",
              "                        <th id=\"T_27c76e66_7610_11eb_93c2_0242ac1c0002level0_row20\" class=\"row_heading level0 row20\" >Category_Cat_4</th>\n",
              "                        <td id=\"T_27c76e66_7610_11eb_93c2_0242ac1c0002row20_col0\" class=\"data row20 col0\" >0.011075</td>\n",
              "                        <td id=\"T_27c76e66_7610_11eb_93c2_0242ac1c0002row20_col1\" class=\"data row20 col1\" >-0.022591</td>\n",
              "                        <td id=\"T_27c76e66_7610_11eb_93c2_0242ac1c0002row20_col2\" class=\"data row20 col2\" >-0.103030</td>\n",
              "                        <td id=\"T_27c76e66_7610_11eb_93c2_0242ac1c0002row20_col3\" class=\"data row20 col3\" >-0.197175</td>\n",
              "                        <td id=\"T_27c76e66_7610_11eb_93c2_0242ac1c0002row20_col4\" class=\"data row20 col4\" >-0.035004</td>\n",
              "                        <td id=\"T_27c76e66_7610_11eb_93c2_0242ac1c0002row20_col5\" class=\"data row20 col5\" >-0.030203</td>\n",
              "                        <td id=\"T_27c76e66_7610_11eb_93c2_0242ac1c0002row20_col6\" class=\"data row20 col6\" >0.161000</td>\n",
              "                        <td id=\"T_27c76e66_7610_11eb_93c2_0242ac1c0002row20_col7\" class=\"data row20 col7\" >-0.012226</td>\n",
              "                        <td id=\"T_27c76e66_7610_11eb_93c2_0242ac1c0002row20_col8\" class=\"data row20 col8\" >-0.096901</td>\n",
              "                        <td id=\"T_27c76e66_7610_11eb_93c2_0242ac1c0002row20_col9\" class=\"data row20 col9\" >0.015761</td>\n",
              "                        <td id=\"T_27c76e66_7610_11eb_93c2_0242ac1c0002row20_col10\" class=\"data row20 col10\" >0.141392</td>\n",
              "                        <td id=\"T_27c76e66_7610_11eb_93c2_0242ac1c0002row20_col11\" class=\"data row20 col11\" >0.010028</td>\n",
              "                        <td id=\"T_27c76e66_7610_11eb_93c2_0242ac1c0002row20_col12\" class=\"data row20 col12\" >0.008507</td>\n",
              "                        <td id=\"T_27c76e66_7610_11eb_93c2_0242ac1c0002row20_col13\" class=\"data row20 col13\" >0.032446</td>\n",
              "                        <td id=\"T_27c76e66_7610_11eb_93c2_0242ac1c0002row20_col14\" class=\"data row20 col14\" >-0.010980</td>\n",
              "                        <td id=\"T_27c76e66_7610_11eb_93c2_0242ac1c0002row20_col15\" class=\"data row20 col15\" >-0.065350</td>\n",
              "                        <td id=\"T_27c76e66_7610_11eb_93c2_0242ac1c0002row20_col16\" class=\"data row20 col16\" >0.016676</td>\n",
              "                        <td id=\"T_27c76e66_7610_11eb_93c2_0242ac1c0002row20_col17\" class=\"data row20 col17\" >-0.051141</td>\n",
              "                        <td id=\"T_27c76e66_7610_11eb_93c2_0242ac1c0002row20_col18\" class=\"data row20 col18\" >-0.092802</td>\n",
              "                        <td id=\"T_27c76e66_7610_11eb_93c2_0242ac1c0002row20_col19\" class=\"data row20 col19\" >-0.133047</td>\n",
              "                        <td id=\"T_27c76e66_7610_11eb_93c2_0242ac1c0002row20_col20\" class=\"data row20 col20\" >1.000000</td>\n",
              "                        <td id=\"T_27c76e66_7610_11eb_93c2_0242ac1c0002row20_col21\" class=\"data row20 col21\" >-0.040761</td>\n",
              "                        <td id=\"T_27c76e66_7610_11eb_93c2_0242ac1c0002row20_col22\" class=\"data row20 col22\" >-0.548714</td>\n",
              "                        <td id=\"T_27c76e66_7610_11eb_93c2_0242ac1c0002row20_col23\" class=\"data row20 col23\" >-0.063462</td>\n",
              "                        <td id=\"T_27c76e66_7610_11eb_93c2_0242ac1c0002row20_col24\" class=\"data row20 col24\" >0.067364</td>\n",
              "                        <td id=\"T_27c76e66_7610_11eb_93c2_0242ac1c0002row20_col25\" class=\"data row20 col25\" >0.028605</td>\n",
              "                        <td id=\"T_27c76e66_7610_11eb_93c2_0242ac1c0002row20_col26\" class=\"data row20 col26\" >-0.031606</td>\n",
              "                        <td id=\"T_27c76e66_7610_11eb_93c2_0242ac1c0002row20_col27\" class=\"data row20 col27\" >-0.079473</td>\n",
              "            </tr>\n",
              "            <tr>\n",
              "                        <th id=\"T_27c76e66_7610_11eb_93c2_0242ac1c0002level0_row21\" class=\"row_heading level0 row21\" >Category_Cat_5</th>\n",
              "                        <td id=\"T_27c76e66_7610_11eb_93c2_0242ac1c0002row21_col0\" class=\"data row21 col0\" >0.033011</td>\n",
              "                        <td id=\"T_27c76e66_7610_11eb_93c2_0242ac1c0002row21_col1\" class=\"data row21 col1\" >-0.023204</td>\n",
              "                        <td id=\"T_27c76e66_7610_11eb_93c2_0242ac1c0002row21_col2\" class=\"data row21 col2\" >-0.038916</td>\n",
              "                        <td id=\"T_27c76e66_7610_11eb_93c2_0242ac1c0002row21_col3\" class=\"data row21 col3\" >-0.022979</td>\n",
              "                        <td id=\"T_27c76e66_7610_11eb_93c2_0242ac1c0002row21_col4\" class=\"data row21 col4\" >0.010707</td>\n",
              "                        <td id=\"T_27c76e66_7610_11eb_93c2_0242ac1c0002row21_col5\" class=\"data row21 col5\" >-0.020342</td>\n",
              "                        <td id=\"T_27c76e66_7610_11eb_93c2_0242ac1c0002row21_col6\" class=\"data row21 col6\" >0.045654</td>\n",
              "                        <td id=\"T_27c76e66_7610_11eb_93c2_0242ac1c0002row21_col7\" class=\"data row21 col7\" >0.006501</td>\n",
              "                        <td id=\"T_27c76e66_7610_11eb_93c2_0242ac1c0002row21_col8\" class=\"data row21 col8\" >-0.009867</td>\n",
              "                        <td id=\"T_27c76e66_7610_11eb_93c2_0242ac1c0002row21_col9\" class=\"data row21 col9\" >-0.014119</td>\n",
              "                        <td id=\"T_27c76e66_7610_11eb_93c2_0242ac1c0002row21_col10\" class=\"data row21 col10\" >0.007059</td>\n",
              "                        <td id=\"T_27c76e66_7610_11eb_93c2_0242ac1c0002row21_col11\" class=\"data row21 col11\" >0.000007</td>\n",
              "                        <td id=\"T_27c76e66_7610_11eb_93c2_0242ac1c0002row21_col12\" class=\"data row21 col12\" >-0.019961</td>\n",
              "                        <td id=\"T_27c76e66_7610_11eb_93c2_0242ac1c0002row21_col13\" class=\"data row21 col13\" >0.026050</td>\n",
              "                        <td id=\"T_27c76e66_7610_11eb_93c2_0242ac1c0002row21_col14\" class=\"data row21 col14\" >0.024065</td>\n",
              "                        <td id=\"T_27c76e66_7610_11eb_93c2_0242ac1c0002row21_col15\" class=\"data row21 col15\" >-0.016206</td>\n",
              "                        <td id=\"T_27c76e66_7610_11eb_93c2_0242ac1c0002row21_col16\" class=\"data row21 col16\" >0.012503</td>\n",
              "                        <td id=\"T_27c76e66_7610_11eb_93c2_0242ac1c0002row21_col17\" class=\"data row21 col17\" >-0.013359</td>\n",
              "                        <td id=\"T_27c76e66_7610_11eb_93c2_0242ac1c0002row21_col18\" class=\"data row21 col18\" >-0.024242</td>\n",
              "                        <td id=\"T_27c76e66_7610_11eb_93c2_0242ac1c0002row21_col19\" class=\"data row21 col19\" >-0.034755</td>\n",
              "                        <td id=\"T_27c76e66_7610_11eb_93c2_0242ac1c0002row21_col20\" class=\"data row21 col20\" >-0.040761</td>\n",
              "                        <td id=\"T_27c76e66_7610_11eb_93c2_0242ac1c0002row21_col21\" class=\"data row21 col21\" >1.000000</td>\n",
              "                        <td id=\"T_27c76e66_7610_11eb_93c2_0242ac1c0002row21_col22\" class=\"data row21 col22\" >-0.143336</td>\n",
              "                        <td id=\"T_27c76e66_7610_11eb_93c2_0242ac1c0002row21_col23\" class=\"data row21 col23\" >-0.016578</td>\n",
              "                        <td id=\"T_27c76e66_7610_11eb_93c2_0242ac1c0002row21_col24\" class=\"data row21 col24\" >0.032627</td>\n",
              "                        <td id=\"T_27c76e66_7610_11eb_93c2_0242ac1c0002row21_col25\" class=\"data row21 col25\" >0.005285</td>\n",
              "                        <td id=\"T_27c76e66_7610_11eb_93c2_0242ac1c0002row21_col26\" class=\"data row21 col26\" >-0.022025</td>\n",
              "                        <td id=\"T_27c76e66_7610_11eb_93c2_0242ac1c0002row21_col27\" class=\"data row21 col27\" >-0.019870</td>\n",
              "            </tr>\n",
              "            <tr>\n",
              "                        <th id=\"T_27c76e66_7610_11eb_93c2_0242ac1c0002level0_row22\" class=\"row_heading level0 row22\" >Category_Cat_6</th>\n",
              "                        <td id=\"T_27c76e66_7610_11eb_93c2_0242ac1c0002row22_col0\" class=\"data row22 col0\" >-0.037674</td>\n",
              "                        <td id=\"T_27c76e66_7610_11eb_93c2_0242ac1c0002row22_col1\" class=\"data row22 col1\" >0.078036</td>\n",
              "                        <td id=\"T_27c76e66_7610_11eb_93c2_0242ac1c0002row22_col2\" class=\"data row22 col2\" >0.199443</td>\n",
              "                        <td id=\"T_27c76e66_7610_11eb_93c2_0242ac1c0002row22_col3\" class=\"data row22 col3\" >0.175224</td>\n",
              "                        <td id=\"T_27c76e66_7610_11eb_93c2_0242ac1c0002row22_col4\" class=\"data row22 col4\" >0.029990</td>\n",
              "                        <td id=\"T_27c76e66_7610_11eb_93c2_0242ac1c0002row22_col5\" class=\"data row22 col5\" >0.086756</td>\n",
              "                        <td id=\"T_27c76e66_7610_11eb_93c2_0242ac1c0002row22_col6\" class=\"data row22 col6\" >-0.184514</td>\n",
              "                        <td id=\"T_27c76e66_7610_11eb_93c2_0242ac1c0002row22_col7\" class=\"data row22 col7\" >-0.002559</td>\n",
              "                        <td id=\"T_27c76e66_7610_11eb_93c2_0242ac1c0002row22_col8\" class=\"data row22 col8\" >0.107057</td>\n",
              "                        <td id=\"T_27c76e66_7610_11eb_93c2_0242ac1c0002row22_col9\" class=\"data row22 col9\" >-0.030093</td>\n",
              "                        <td id=\"T_27c76e66_7610_11eb_93c2_0242ac1c0002row22_col10\" class=\"data row22 col10\" >-0.103515</td>\n",
              "                        <td id=\"T_27c76e66_7610_11eb_93c2_0242ac1c0002row22_col11\" class=\"data row22 col11\" >-0.034127</td>\n",
              "                        <td id=\"T_27c76e66_7610_11eb_93c2_0242ac1c0002row22_col12\" class=\"data row22 col12\" >0.040349</td>\n",
              "                        <td id=\"T_27c76e66_7610_11eb_93c2_0242ac1c0002row22_col13\" class=\"data row22 col13\" >-0.085421</td>\n",
              "                        <td id=\"T_27c76e66_7610_11eb_93c2_0242ac1c0002row22_col14\" class=\"data row22 col14\" >-0.024369</td>\n",
              "                        <td id=\"T_27c76e66_7610_11eb_93c2_0242ac1c0002row22_col15\" class=\"data row22 col15\" >0.123054</td>\n",
              "                        <td id=\"T_27c76e66_7610_11eb_93c2_0242ac1c0002row22_col16\" class=\"data row22 col16\" >-0.049443</td>\n",
              "                        <td id=\"T_27c76e66_7610_11eb_93c2_0242ac1c0002row22_col17\" class=\"data row22 col17\" >-0.179838</td>\n",
              "                        <td id=\"T_27c76e66_7610_11eb_93c2_0242ac1c0002row22_col18\" class=\"data row22 col18\" >-0.326338</td>\n",
              "                        <td id=\"T_27c76e66_7610_11eb_93c2_0242ac1c0002row22_col19\" class=\"data row22 col19\" >-0.467860</td>\n",
              "                        <td id=\"T_27c76e66_7610_11eb_93c2_0242ac1c0002row22_col20\" class=\"data row22 col20\" >-0.548714</td>\n",
              "                        <td id=\"T_27c76e66_7610_11eb_93c2_0242ac1c0002row22_col21\" class=\"data row22 col21\" >-0.143336</td>\n",
              "                        <td id=\"T_27c76e66_7610_11eb_93c2_0242ac1c0002row22_col22\" class=\"data row22 col22\" >1.000000</td>\n",
              "                        <td id=\"T_27c76e66_7610_11eb_93c2_0242ac1c0002row22_col23\" class=\"data row22 col23\" >-0.223166</td>\n",
              "                        <td id=\"T_27c76e66_7610_11eb_93c2_0242ac1c0002row22_col24\" class=\"data row22 col24\" >-0.126843</td>\n",
              "                        <td id=\"T_27c76e66_7610_11eb_93c2_0242ac1c0002row22_col25\" class=\"data row22 col25\" >-0.043551</td>\n",
              "                        <td id=\"T_27c76e66_7610_11eb_93c2_0242ac1c0002row22_col26\" class=\"data row22 col26\" >0.038825</td>\n",
              "                        <td id=\"T_27c76e66_7610_11eb_93c2_0242ac1c0002row22_col27\" class=\"data row22 col27\" >0.159855</td>\n",
              "            </tr>\n",
              "            <tr>\n",
              "                        <th id=\"T_27c76e66_7610_11eb_93c2_0242ac1c0002level0_row23\" class=\"row_heading level0 row23\" >Category_Cat_7</th>\n",
              "                        <td id=\"T_27c76e66_7610_11eb_93c2_0242ac1c0002row23_col0\" class=\"data row23 col0\" >0.012937</td>\n",
              "                        <td id=\"T_27c76e66_7610_11eb_93c2_0242ac1c0002row23_col1\" class=\"data row23 col1\" >-0.013444</td>\n",
              "                        <td id=\"T_27c76e66_7610_11eb_93c2_0242ac1c0002row23_col2\" class=\"data row23 col2\" >-0.046497</td>\n",
              "                        <td id=\"T_27c76e66_7610_11eb_93c2_0242ac1c0002row23_col3\" class=\"data row23 col3\" >-0.014656</td>\n",
              "                        <td id=\"T_27c76e66_7610_11eb_93c2_0242ac1c0002row23_col4\" class=\"data row23 col4\" >0.001936</td>\n",
              "                        <td id=\"T_27c76e66_7610_11eb_93c2_0242ac1c0002row23_col5\" class=\"data row23 col5\" >-0.012664</td>\n",
              "                        <td id=\"T_27c76e66_7610_11eb_93c2_0242ac1c0002row23_col6\" class=\"data row23 col6\" >0.038602</td>\n",
              "                        <td id=\"T_27c76e66_7610_11eb_93c2_0242ac1c0002row23_col7\" class=\"data row23 col7\" >0.004092</td>\n",
              "                        <td id=\"T_27c76e66_7610_11eb_93c2_0242ac1c0002row23_col8\" class=\"data row23 col8\" >0.006029</td>\n",
              "                        <td id=\"T_27c76e66_7610_11eb_93c2_0242ac1c0002row23_col9\" class=\"data row23 col9\" >0.024622</td>\n",
              "                        <td id=\"T_27c76e66_7610_11eb_93c2_0242ac1c0002row23_col10\" class=\"data row23 col10\" >0.001160</td>\n",
              "                        <td id=\"T_27c76e66_7610_11eb_93c2_0242ac1c0002row23_col11\" class=\"data row23 col11\" >-0.004613</td>\n",
              "                        <td id=\"T_27c76e66_7610_11eb_93c2_0242ac1c0002row23_col12\" class=\"data row23 col12\" >-0.015310</td>\n",
              "                        <td id=\"T_27c76e66_7610_11eb_93c2_0242ac1c0002row23_col13\" class=\"data row23 col13\" >0.022351</td>\n",
              "                        <td id=\"T_27c76e66_7610_11eb_93c2_0242ac1c0002row23_col14\" class=\"data row23 col14\" >-0.023888</td>\n",
              "                        <td id=\"T_27c76e66_7610_11eb_93c2_0242ac1c0002row23_col15\" class=\"data row23 col15\" >-0.043509</td>\n",
              "                        <td id=\"T_27c76e66_7610_11eb_93c2_0242ac1c0002row23_col16\" class=\"data row23 col16\" >0.015479</td>\n",
              "                        <td id=\"T_27c76e66_7610_11eb_93c2_0242ac1c0002row23_col17\" class=\"data row23 col17\" >-0.020799</td>\n",
              "                        <td id=\"T_27c76e66_7610_11eb_93c2_0242ac1c0002row23_col18\" class=\"data row23 col18\" >-0.037743</td>\n",
              "                        <td id=\"T_27c76e66_7610_11eb_93c2_0242ac1c0002row23_col19\" class=\"data row23 col19\" >-0.054111</td>\n",
              "                        <td id=\"T_27c76e66_7610_11eb_93c2_0242ac1c0002row23_col20\" class=\"data row23 col20\" >-0.063462</td>\n",
              "                        <td id=\"T_27c76e66_7610_11eb_93c2_0242ac1c0002row23_col21\" class=\"data row23 col21\" >-0.016578</td>\n",
              "                        <td id=\"T_27c76e66_7610_11eb_93c2_0242ac1c0002row23_col22\" class=\"data row23 col22\" >-0.223166</td>\n",
              "                        <td id=\"T_27c76e66_7610_11eb_93c2_0242ac1c0002row23_col23\" class=\"data row23 col23\" >1.000000</td>\n",
              "                        <td id=\"T_27c76e66_7610_11eb_93c2_0242ac1c0002row23_col24\" class=\"data row23 col24\" >0.016468</td>\n",
              "                        <td id=\"T_27c76e66_7610_11eb_93c2_0242ac1c0002row23_col25\" class=\"data row23 col25\" >0.019127</td>\n",
              "                        <td id=\"T_27c76e66_7610_11eb_93c2_0242ac1c0002row23_col26\" class=\"data row23 col26\" >0.000140</td>\n",
              "                        <td id=\"T_27c76e66_7610_11eb_93c2_0242ac1c0002row23_col27\" class=\"data row23 col27\" >-0.043932</td>\n",
              "            </tr>\n",
              "            <tr>\n",
              "                        <th id=\"T_27c76e66_7610_11eb_93c2_0242ac1c0002level0_row24\" class=\"row_heading level0 row24\" >Age_Range_less than 30</th>\n",
              "                        <td id=\"T_27c76e66_7610_11eb_93c2_0242ac1c0002row24_col0\" class=\"data row24 col0\" >-0.005641</td>\n",
              "                        <td id=\"T_27c76e66_7610_11eb_93c2_0242ac1c0002row24_col1\" class=\"data row24 col1\" >-0.483486</td>\n",
              "                        <td id=\"T_27c76e66_7610_11eb_93c2_0242ac1c0002row24_col2\" class=\"data row24 col2\" >-0.648153</td>\n",
              "                        <td id=\"T_27c76e66_7610_11eb_93c2_0242ac1c0002row24_col3\" class=\"data row24 col3\" >-0.349074</td>\n",
              "                        <td id=\"T_27c76e66_7610_11eb_93c2_0242ac1c0002row24_col4\" class=\"data row24 col4\" >0.050750</td>\n",
              "                        <td id=\"T_27c76e66_7610_11eb_93c2_0242ac1c0002row24_col5\" class=\"data row24 col5\" >-0.311370</td>\n",
              "                        <td id=\"T_27c76e66_7610_11eb_93c2_0242ac1c0002row24_col6\" class=\"data row24 col6\" >0.247252</td>\n",
              "                        <td id=\"T_27c76e66_7610_11eb_93c2_0242ac1c0002row24_col7\" class=\"data row24 col7\" >0.294094</td>\n",
              "                        <td id=\"T_27c76e66_7610_11eb_93c2_0242ac1c0002row24_col8\" class=\"data row24 col8\" >-0.258861</td>\n",
              "                        <td id=\"T_27c76e66_7610_11eb_93c2_0242ac1c0002row24_col9\" class=\"data row24 col9\" >0.067780</td>\n",
              "                        <td id=\"T_27c76e66_7610_11eb_93c2_0242ac1c0002row24_col10\" class=\"data row24 col10\" >-0.031020</td>\n",
              "                        <td id=\"T_27c76e66_7610_11eb_93c2_0242ac1c0002row24_col11\" class=\"data row24 col11\" >-0.050843</td>\n",
              "                        <td id=\"T_27c76e66_7610_11eb_93c2_0242ac1c0002row24_col12\" class=\"data row24 col12\" >-0.101846</td>\n",
              "                        <td id=\"T_27c76e66_7610_11eb_93c2_0242ac1c0002row24_col13\" class=\"data row24 col13\" >0.488477</td>\n",
              "                        <td id=\"T_27c76e66_7610_11eb_93c2_0242ac1c0002row24_col14\" class=\"data row24 col14\" >0.030298</td>\n",
              "                        <td id=\"T_27c76e66_7610_11eb_93c2_0242ac1c0002row24_col15\" class=\"data row24 col15\" >-0.163227</td>\n",
              "                        <td id=\"T_27c76e66_7610_11eb_93c2_0242ac1c0002row24_col16\" class=\"data row24 col16\" >0.060715</td>\n",
              "                        <td id=\"T_27c76e66_7610_11eb_93c2_0242ac1c0002row24_col17\" class=\"data row24 col17\" >0.023797</td>\n",
              "                        <td id=\"T_27c76e66_7610_11eb_93c2_0242ac1c0002row24_col18\" class=\"data row24 col18\" >0.053955</td>\n",
              "                        <td id=\"T_27c76e66_7610_11eb_93c2_0242ac1c0002row24_col19\" class=\"data row24 col19\" >0.053463</td>\n",
              "                        <td id=\"T_27c76e66_7610_11eb_93c2_0242ac1c0002row24_col20\" class=\"data row24 col20\" >0.067364</td>\n",
              "                        <td id=\"T_27c76e66_7610_11eb_93c2_0242ac1c0002row24_col21\" class=\"data row24 col21\" >0.032627</td>\n",
              "                        <td id=\"T_27c76e66_7610_11eb_93c2_0242ac1c0002row24_col22\" class=\"data row24 col22\" >-0.126843</td>\n",
              "                        <td id=\"T_27c76e66_7610_11eb_93c2_0242ac1c0002row24_col23\" class=\"data row24 col23\" >0.016468</td>\n",
              "                        <td id=\"T_27c76e66_7610_11eb_93c2_0242ac1c0002row24_col24\" class=\"data row24 col24\" >1.000000</td>\n",
              "                        <td id=\"T_27c76e66_7610_11eb_93c2_0242ac1c0002row24_col25\" class=\"data row24 col25\" >-0.426796</td>\n",
              "                        <td id=\"T_27c76e66_7610_11eb_93c2_0242ac1c0002row24_col26\" class=\"data row24 col26\" >-0.317518</td>\n",
              "                        <td id=\"T_27c76e66_7610_11eb_93c2_0242ac1c0002row24_col27\" class=\"data row24 col27\" >-0.258081</td>\n",
              "            </tr>\n",
              "            <tr>\n",
              "                        <th id=\"T_27c76e66_7610_11eb_93c2_0242ac1c0002level0_row25\" class=\"row_heading level0 row25\" >Age_Range_less than 45</th>\n",
              "                        <td id=\"T_27c76e66_7610_11eb_93c2_0242ac1c0002row25_col0\" class=\"data row25 col0\" >0.054131</td>\n",
              "                        <td id=\"T_27c76e66_7610_11eb_93c2_0242ac1c0002row25_col1\" class=\"data row25 col1\" >-0.074297</td>\n",
              "                        <td id=\"T_27c76e66_7610_11eb_93c2_0242ac1c0002row25_col2\" class=\"data row25 col2\" >-0.255691</td>\n",
              "                        <td id=\"T_27c76e66_7610_11eb_93c2_0242ac1c0002row25_col3\" class=\"data row25 col3\" >0.132851</td>\n",
              "                        <td id=\"T_27c76e66_7610_11eb_93c2_0242ac1c0002row25_col4\" class=\"data row25 col4\" >0.163877</td>\n",
              "                        <td id=\"T_27c76e66_7610_11eb_93c2_0242ac1c0002row25_col5\" class=\"data row25 col5\" >-0.082969</td>\n",
              "                        <td id=\"T_27c76e66_7610_11eb_93c2_0242ac1c0002row25_col6\" class=\"data row25 col6\" >-0.069682</td>\n",
              "                        <td id=\"T_27c76e66_7610_11eb_93c2_0242ac1c0002row25_col7\" class=\"data row25 col7\" >-0.140676</td>\n",
              "                        <td id=\"T_27c76e66_7610_11eb_93c2_0242ac1c0002row25_col8\" class=\"data row25 col8\" >0.098841</td>\n",
              "                        <td id=\"T_27c76e66_7610_11eb_93c2_0242ac1c0002row25_col9\" class=\"data row25 col9\" >0.047221</td>\n",
              "                        <td id=\"T_27c76e66_7610_11eb_93c2_0242ac1c0002row25_col10\" class=\"data row25 col10\" >0.056227</td>\n",
              "                        <td id=\"T_27c76e66_7610_11eb_93c2_0242ac1c0002row25_col11\" class=\"data row25 col11\" >0.052316</td>\n",
              "                        <td id=\"T_27c76e66_7610_11eb_93c2_0242ac1c0002row25_col12\" class=\"data row25 col12\" >-0.028562</td>\n",
              "                        <td id=\"T_27c76e66_7610_11eb_93c2_0242ac1c0002row25_col13\" class=\"data row25 col13\" >-0.100570</td>\n",
              "                        <td id=\"T_27c76e66_7610_11eb_93c2_0242ac1c0002row25_col14\" class=\"data row25 col14\" >0.036839</td>\n",
              "                        <td id=\"T_27c76e66_7610_11eb_93c2_0242ac1c0002row25_col15\" class=\"data row25 col15\" >-0.208347</td>\n",
              "                        <td id=\"T_27c76e66_7610_11eb_93c2_0242ac1c0002row25_col16\" class=\"data row25 col16\" >0.010024</td>\n",
              "                        <td id=\"T_27c76e66_7610_11eb_93c2_0242ac1c0002row25_col17\" class=\"data row25 col17\" >-0.009818</td>\n",
              "                        <td id=\"T_27c76e66_7610_11eb_93c2_0242ac1c0002row25_col18\" class=\"data row25 col18\" >0.013350</td>\n",
              "                        <td id=\"T_27c76e66_7610_11eb_93c2_0242ac1c0002row25_col19\" class=\"data row25 col19\" >0.018574</td>\n",
              "                        <td id=\"T_27c76e66_7610_11eb_93c2_0242ac1c0002row25_col20\" class=\"data row25 col20\" >0.028605</td>\n",
              "                        <td id=\"T_27c76e66_7610_11eb_93c2_0242ac1c0002row25_col21\" class=\"data row25 col21\" >0.005285</td>\n",
              "                        <td id=\"T_27c76e66_7610_11eb_93c2_0242ac1c0002row25_col22\" class=\"data row25 col22\" >-0.043551</td>\n",
              "                        <td id=\"T_27c76e66_7610_11eb_93c2_0242ac1c0002row25_col23\" class=\"data row25 col23\" >0.019127</td>\n",
              "                        <td id=\"T_27c76e66_7610_11eb_93c2_0242ac1c0002row25_col24\" class=\"data row25 col24\" >-0.426796</td>\n",
              "                        <td id=\"T_27c76e66_7610_11eb_93c2_0242ac1c0002row25_col25\" class=\"data row25 col25\" >1.000000</td>\n",
              "                        <td id=\"T_27c76e66_7610_11eb_93c2_0242ac1c0002row25_col26\" class=\"data row25 col26\" >-0.404138</td>\n",
              "                        <td id=\"T_27c76e66_7610_11eb_93c2_0242ac1c0002row25_col27\" class=\"data row25 col27\" >-0.328486</td>\n",
              "            </tr>\n",
              "            <tr>\n",
              "                        <th id=\"T_27c76e66_7610_11eb_93c2_0242ac1c0002level0_row26\" class=\"row_heading level0 row26\" >Age_Range_less than 60</th>\n",
              "                        <td id=\"T_27c76e66_7610_11eb_93c2_0242ac1c0002row26_col0\" class=\"data row26 col0\" >-0.020063</td>\n",
              "                        <td id=\"T_27c76e66_7610_11eb_93c2_0242ac1c0002row26_col1\" class=\"data row26 col1\" >0.300624</td>\n",
              "                        <td id=\"T_27c76e66_7610_11eb_93c2_0242ac1c0002row26_col2\" class=\"data row26 col2\" >0.277867</td>\n",
              "                        <td id=\"T_27c76e66_7610_11eb_93c2_0242ac1c0002row26_col3\" class=\"data row26 col3\" >0.180754</td>\n",
              "                        <td id=\"T_27c76e66_7610_11eb_93c2_0242ac1c0002row26_col4\" class=\"data row26 col4\" >-0.096991</td>\n",
              "                        <td id=\"T_27c76e66_7610_11eb_93c2_0242ac1c0002row26_col5\" class=\"data row26 col5\" >0.164828</td>\n",
              "                        <td id=\"T_27c76e66_7610_11eb_93c2_0242ac1c0002row26_col6\" class=\"data row26 col6\" >-0.005777</td>\n",
              "                        <td id=\"T_27c76e66_7610_11eb_93c2_0242ac1c0002row26_col7\" class=\"data row26 col7\" >-0.076444</td>\n",
              "                        <td id=\"T_27c76e66_7610_11eb_93c2_0242ac1c0002row26_col8\" class=\"data row26 col8\" >0.219152</td>\n",
              "                        <td id=\"T_27c76e66_7610_11eb_93c2_0242ac1c0002row26_col9\" class=\"data row26 col9\" >-0.043201</td>\n",
              "                        <td id=\"T_27c76e66_7610_11eb_93c2_0242ac1c0002row26_col10\" class=\"data row26 col10\" >0.025522</td>\n",
              "                        <td id=\"T_27c76e66_7610_11eb_93c2_0242ac1c0002row26_col11\" class=\"data row26 col11\" >0.031603</td>\n",
              "                        <td id=\"T_27c76e66_7610_11eb_93c2_0242ac1c0002row26_col12\" class=\"data row26 col12\" >0.069009</td>\n",
              "                        <td id=\"T_27c76e66_7610_11eb_93c2_0242ac1c0002row26_col13\" class=\"data row26 col13\" >-0.221658</td>\n",
              "                        <td id=\"T_27c76e66_7610_11eb_93c2_0242ac1c0002row26_col14\" class=\"data row26 col14\" >-0.027130</td>\n",
              "                        <td id=\"T_27c76e66_7610_11eb_93c2_0242ac1c0002row26_col15\" class=\"data row26 col15\" >-0.121169</td>\n",
              "                        <td id=\"T_27c76e66_7610_11eb_93c2_0242ac1c0002row26_col16\" class=\"data row26 col16\" >-0.036991</td>\n",
              "                        <td id=\"T_27c76e66_7610_11eb_93c2_0242ac1c0002row26_col17\" class=\"data row26 col17\" >0.000590</td>\n",
              "                        <td id=\"T_27c76e66_7610_11eb_93c2_0242ac1c0002row26_col18\" class=\"data row26 col18\" >-0.016572</td>\n",
              "                        <td id=\"T_27c76e66_7610_11eb_93c2_0242ac1c0002row26_col19\" class=\"data row26 col19\" >-0.005845</td>\n",
              "                        <td id=\"T_27c76e66_7610_11eb_93c2_0242ac1c0002row26_col20\" class=\"data row26 col20\" >-0.031606</td>\n",
              "                        <td id=\"T_27c76e66_7610_11eb_93c2_0242ac1c0002row26_col21\" class=\"data row26 col21\" >-0.022025</td>\n",
              "                        <td id=\"T_27c76e66_7610_11eb_93c2_0242ac1c0002row26_col22\" class=\"data row26 col22\" >0.038825</td>\n",
              "                        <td id=\"T_27c76e66_7610_11eb_93c2_0242ac1c0002row26_col23\" class=\"data row26 col23\" >0.000140</td>\n",
              "                        <td id=\"T_27c76e66_7610_11eb_93c2_0242ac1c0002row26_col24\" class=\"data row26 col24\" >-0.317518</td>\n",
              "                        <td id=\"T_27c76e66_7610_11eb_93c2_0242ac1c0002row26_col25\" class=\"data row26 col25\" >-0.404138</td>\n",
              "                        <td id=\"T_27c76e66_7610_11eb_93c2_0242ac1c0002row26_col26\" class=\"data row26 col26\" >1.000000</td>\n",
              "                        <td id=\"T_27c76e66_7610_11eb_93c2_0242ac1c0002row26_col27\" class=\"data row26 col27\" >-0.244379</td>\n",
              "            </tr>\n",
              "            <tr>\n",
              "                        <th id=\"T_27c76e66_7610_11eb_93c2_0242ac1c0002level0_row27\" class=\"row_heading level0 row27\" >Age_Range_more than 60</th>\n",
              "                        <td id=\"T_27c76e66_7610_11eb_93c2_0242ac1c0002row27_col0\" class=\"data row27 col0\" >-0.040203</td>\n",
              "                        <td id=\"T_27c76e66_7610_11eb_93c2_0242ac1c0002row27_col1\" class=\"data row27 col1\" >0.318468</td>\n",
              "                        <td id=\"T_27c76e66_7610_11eb_93c2_0242ac1c0002row27_col2\" class=\"data row27 col2\" >0.769312</td>\n",
              "                        <td id=\"T_27c76e66_7610_11eb_93c2_0242ac1c0002row27_col3\" class=\"data row27 col3\" >0.031540</td>\n",
              "                        <td id=\"T_27c76e66_7610_11eb_93c2_0242ac1c0002row27_col4\" class=\"data row27 col4\" >-0.159715</td>\n",
              "                        <td id=\"T_27c76e66_7610_11eb_93c2_0242ac1c0002row27_col5\" class=\"data row27 col5\" >0.282836</td>\n",
              "                        <td id=\"T_27c76e66_7610_11eb_93c2_0242ac1c0002row27_col6\" class=\"data row27 col6\" >-0.192312</td>\n",
              "                        <td id=\"T_27c76e66_7610_11eb_93c2_0242ac1c0002row27_col7\" class=\"data row27 col7\" >-0.075634</td>\n",
              "                        <td id=\"T_27c76e66_7610_11eb_93c2_0242ac1c0002row27_col8\" class=\"data row27 col8\" >-0.073526</td>\n",
              "                        <td id=\"T_27c76e66_7610_11eb_93c2_0242ac1c0002row27_col9\" class=\"data row27 col9\" >-0.090725</td>\n",
              "                        <td id=\"T_27c76e66_7610_11eb_93c2_0242ac1c0002row27_col10\" class=\"data row27 col10\" >-0.064980</td>\n",
              "                        <td id=\"T_27c76e66_7610_11eb_93c2_0242ac1c0002row27_col11\" class=\"data row27 col11\" >-0.043732</td>\n",
              "                        <td id=\"T_27c76e66_7610_11eb_93c2_0242ac1c0002row27_col12\" class=\"data row27 col12\" >0.077226</td>\n",
              "                        <td id=\"T_27c76e66_7610_11eb_93c2_0242ac1c0002row27_col13\" class=\"data row27 col13\" >-0.189209</td>\n",
              "                        <td id=\"T_27c76e66_7610_11eb_93c2_0242ac1c0002row27_col14\" class=\"data row27 col14\" >-0.051894</td>\n",
              "                        <td id=\"T_27c76e66_7610_11eb_93c2_0242ac1c0002row27_col15\" class=\"data row27 col15\" >0.595364</td>\n",
              "                        <td id=\"T_27c76e66_7610_11eb_93c2_0242ac1c0002row27_col16\" class=\"data row27 col16\" >-0.041745</td>\n",
              "                        <td id=\"T_27c76e66_7610_11eb_93c2_0242ac1c0002row27_col17\" class=\"data row27 col17\" >-0.015813</td>\n",
              "                        <td id=\"T_27c76e66_7610_11eb_93c2_0242ac1c0002row27_col18\" class=\"data row27 col18\" >-0.061285</td>\n",
              "                        <td id=\"T_27c76e66_7610_11eb_93c2_0242ac1c0002row27_col19\" class=\"data row27 col19\" >-0.079584</td>\n",
              "                        <td id=\"T_27c76e66_7610_11eb_93c2_0242ac1c0002row27_col20\" class=\"data row27 col20\" >-0.079473</td>\n",
              "                        <td id=\"T_27c76e66_7610_11eb_93c2_0242ac1c0002row27_col21\" class=\"data row27 col21\" >-0.019870</td>\n",
              "                        <td id=\"T_27c76e66_7610_11eb_93c2_0242ac1c0002row27_col22\" class=\"data row27 col22\" >0.159855</td>\n",
              "                        <td id=\"T_27c76e66_7610_11eb_93c2_0242ac1c0002row27_col23\" class=\"data row27 col23\" >-0.043932</td>\n",
              "                        <td id=\"T_27c76e66_7610_11eb_93c2_0242ac1c0002row27_col24\" class=\"data row27 col24\" >-0.258081</td>\n",
              "                        <td id=\"T_27c76e66_7610_11eb_93c2_0242ac1c0002row27_col25\" class=\"data row27 col25\" >-0.328486</td>\n",
              "                        <td id=\"T_27c76e66_7610_11eb_93c2_0242ac1c0002row27_col26\" class=\"data row27 col26\" >-0.244379</td>\n",
              "                        <td id=\"T_27c76e66_7610_11eb_93c2_0242ac1c0002row27_col27\" class=\"data row27 col27\" >1.000000</td>\n",
              "            </tr>\n",
              "    </tbody></table>"
            ],
            "text/plain": [
              "<pandas.io.formats.style.Styler at 0x7f25b2f63e10>"
            ]
          },
          "metadata": {
            "tags": []
          },
          "execution_count": 71
        },
        {
          "output_type": "display_data",
          "data": {
            "text/plain": [
              "<Figure size 432x288 with 0 Axes>"
            ]
          },
          "metadata": {
            "tags": []
          }
        }
      ]
    },
    {
      "cell_type": "markdown",
      "metadata": {
        "id": "yKRuvlhMYoYj"
      },
      "source": [
        "#### Split Data:"
      ]
    },
    {
      "cell_type": "code",
      "metadata": {
        "id": "N_xAGJW9YrtU"
      },
      "source": [
        "X = df.drop('Segmentation',axis=1)\n",
        "y = df['Segmentation'] # target"
      ],
      "execution_count": null,
      "outputs": []
    },
    {
      "cell_type": "code",
      "metadata": {
        "id": "Qua--2-2Y9jr"
      },
      "source": [
        "X_train, X_test, y_train, y_test = train_test_split(X, y, train_size=0.75 ,random_state=1) # Split data into train and test set "
      ],
      "execution_count": null,
      "outputs": []
    },
    {
      "cell_type": "markdown",
      "metadata": {
        "id": "vapu57N3Ydwn"
      },
      "source": [
        "#### Baseline:"
      ]
    },
    {
      "cell_type": "markdown",
      "metadata": {
        "id": "zzK2OpMfIGs1"
      },
      "source": [
        " Predict the most common class"
      ]
    },
    {
      "cell_type": "code",
      "metadata": {
        "id": "98rQxFRXYPHu",
        "colab": {
          "base_uri": "https://localhost:8080/"
        },
        "outputId": "53c6406d-5e4c-419d-c499-66ce769bd342"
      },
      "source": [
        "def baseline_model(n_predictions, value_to_predict):\n",
        "    baseline_preds = []\n",
        "    for i in range(n_predictions):\n",
        "        baseline_preds.append(value_to_predict)\n",
        "    return pd.Series(baseline_preds)\n",
        "\n",
        "n_predictions = len(y_test)\n",
        "baseline_value = y_train.value_counts().index[0]\n",
        "\n",
        "baseline_preds = baseline_model(n_predictions, baseline_value)\n",
        "baseline_preds[:5]"
      ],
      "execution_count": null,
      "outputs": [
        {
          "output_type": "execute_result",
          "data": {
            "text/plain": [
              "0    4\n",
              "1    4\n",
              "2    4\n",
              "3    4\n",
              "4    4\n",
              "dtype: int64"
            ]
          },
          "metadata": {
            "tags": []
          },
          "execution_count": 76
        }
      ]
    },
    {
      "cell_type": "code",
      "metadata": {
        "id": "sJbaQeNOzq72",
        "colab": {
          "base_uri": "https://localhost:8080/"
        },
        "outputId": "e51fb922-5a27-4c75-c734-9f6ea5e5925b"
      },
      "source": [
        "print(\"Accuracy Score for Baseline model : \", accuracy_score(y_test, baseline_preds))"
      ],
      "execution_count": null,
      "outputs": [
        {
          "output_type": "stream",
          "text": [
            "Accuracy Score for Baseline model :  0.2860684184432325\n"
          ],
          "name": "stdout"
        }
      ]
    },
    {
      "cell_type": "markdown",
      "metadata": {
        "id": "ZdEficvnZAy-"
      },
      "source": [
        "#### Logistic Regression:"
      ]
    },
    {
      "cell_type": "code",
      "metadata": {
        "id": "E9syPPMMYPbn"
      },
      "source": [
        "lr = LogisticRegression()"
      ],
      "execution_count": null,
      "outputs": []
    },
    {
      "cell_type": "code",
      "metadata": {
        "id": "aNGutAvn0Jrr",
        "colab": {
          "base_uri": "https://localhost:8080/"
        },
        "outputId": "5e8b8748-9b87-4a5b-a6c9-96eae0a6413f"
      },
      "source": [
        "lr.fit(X_train, y_train)"
      ],
      "execution_count": null,
      "outputs": [
        {
          "output_type": "execute_result",
          "data": {
            "text/plain": [
              "LogisticRegression(C=1.0, class_weight=None, dual=False, fit_intercept=True,\n",
              "                   intercept_scaling=1, l1_ratio=None, max_iter=100,\n",
              "                   multi_class='auto', n_jobs=None, penalty='l2',\n",
              "                   random_state=None, solver='lbfgs', tol=0.0001, verbose=0,\n",
              "                   warm_start=False)"
            ]
          },
          "metadata": {
            "tags": []
          },
          "execution_count": 79
        }
      ]
    },
    {
      "cell_type": "code",
      "metadata": {
        "id": "tglaMcSR0MS_",
        "colab": {
          "base_uri": "https://localhost:8080/"
        },
        "outputId": "fefa4b07-a176-47d5-c966-e66613af5bc3"
      },
      "source": [
        "lr_preds = lr.predict(X_test)\n",
        "lr_preds"
      ],
      "execution_count": null,
      "outputs": [
        {
          "output_type": "execute_result",
          "data": {
            "text/plain": [
              "array([3, 0, 1, ..., 4, 1, 4])"
            ]
          },
          "metadata": {
            "tags": []
          },
          "execution_count": 80
        }
      ]
    },
    {
      "cell_type": "code",
      "metadata": {
        "id": "-iWLc8AeYPij",
        "colab": {
          "base_uri": "https://localhost:8080/",
          "height": 54
        },
        "outputId": "3ea67892-392e-43a4-9956-3f23517902d9"
      },
      "source": [
        "ax= plt.subplot()\n",
        "sns.heatmap(confusion_matrix(y_test, lr_preds, normalize='true'), annot=True, ax = ax);\n",
        "\n",
        "\n",
        "ax.set_xlabel('Predicted labels');ax.set_ylabel('True labels'); \n",
        "ax.set_title('Confusion Matrix'); \n",
        "ax.xaxis.set_ticklabels(['A', 'B','C','D']); ax.yaxis.set_ticklabels(['A', 'B','C','D']);"
      ],
      "execution_count": null,
      "outputs": [
        {
          "output_type": "display_data",
          "data": {
            "image/png": "[encoded data removed]",
            "text/plain": [
              "<Figure size 432x288 with 2 Axes>"
            ]
          },
          "metadata": {
            "tags": [],
            "needs_background": "light"
          }
        }
      ]
    },
    {
      "cell_type": "code",
      "metadata": {
        "id": "i0eOY2gK00NK",
        "colab": {
          "base_uri": "https://localhost:8080/"
        },
        "outputId": "8d34323a-3f3f-484d-f2d7-039a5de4be3c"
      },
      "source": [
        "print(\"Accuracy Score for Logistic Regression: \", accuracy_score(y_test, lr_preds))"
      ],
      "execution_count": null,
      "outputs": [
        {
          "output_type": "stream",
          "text": [
            "Accuracy Score for Logistic Regression:  0.5052057511155181\n"
          ],
          "name": "stdout"
        }
      ]
    },
    {
      "cell_type": "markdown",
      "metadata": {
        "id": "aVZBZOogZSoB"
      },
      "source": [
        "#### Decision Tree Classifier"
      ]
    },
    {
      "cell_type": "code",
      "metadata": {
        "id": "MdJO4kFDZV0s"
      },
      "source": [
        "dt = DecisionTreeClassifier()"
      ],
      "execution_count": null,
      "outputs": []
    },
    {
      "cell_type": "code",
      "metadata": {
        "id": "tni3KSSL1QK6",
        "colab": {
          "base_uri": "https://localhost:8080/"
        },
        "outputId": "ba115a49-fcc6-40b9-de74-116d441c65c0"
      },
      "source": [
        "dt.fit(X_train, y_train)"
      ],
      "execution_count": null,
      "outputs": [
        {
          "output_type": "execute_result",
          "data": {
            "text/plain": [
              "DecisionTreeClassifier(ccp_alpha=0.0, class_weight=None, criterion='gini',\n",
              "                       max_depth=None, max_features=None, max_leaf_nodes=None,\n",
              "                       min_impurity_decrease=0.0, min_impurity_split=None,\n",
              "                       min_samples_leaf=1, min_samples_split=2,\n",
              "                       min_weight_fraction_leaf=0.0, presort='deprecated',\n",
              "                       random_state=None, splitter='best')"
            ]
          },
          "metadata": {
            "tags": []
          },
          "execution_count": 84
        }
      ]
    },
    {
      "cell_type": "code",
      "metadata": {
        "id": "3zXTcqBf1CK7"
      },
      "source": [
        "dt_preds = dt.predict(X_test)"
      ],
      "execution_count": null,
      "outputs": []
    },
    {
      "cell_type": "code",
      "metadata": {
        "id": "UOv02v951bXB",
        "colab": {
          "base_uri": "https://localhost:8080/",
          "height": 54
        },
        "outputId": "9a06eeeb-16fc-4103-8e2d-2ab5050f4e8d"
      },
      "source": [
        "ax= plt.subplot()\n",
        "sns.heatmap(confusion_matrix(y_test, dt_preds, normalize='true'), annot=True, ax = ax);\n",
        "\n",
        "\n",
        "ax.set_xlabel('Predicted labels');ax.set_ylabel('True labels'); \n",
        "ax.set_title('Confusion Matrix'); \n",
        "ax.xaxis.set_ticklabels(['A', 'B','C','D']); ax.yaxis.set_ticklabels(['A', 'B','C','D']);"
      ],
      "execution_count": null,
      "outputs": [
        {
          "output_type": "display_data",
          "data": {
            "image/png": "[encoded data removed]",
            "text/plain": [
              "<Figure size 432x288 with 2 Axes>"
            ]
          },
          "metadata": {
            "tags": [],
            "needs_background": "light"
          }
        }
      ]
    },
    {
      "cell_type": "code",
      "metadata": {
        "id": "4NtAl-fq1tXl",
        "colab": {
          "base_uri": "https://localhost:8080/"
        },
        "outputId": "c7c19bbd-5d55-4cc8-d563-ef222f4ba631"
      },
      "source": [
        "print(\"Accuracy Score for DecisionTree: \", accuracy_score(y_test, dt_preds))"
      ],
      "execution_count": null,
      "outputs": [
        {
          "output_type": "stream",
          "text": [
            "Accuracy Score for DecisionTree:  0.43232523549826474\n"
          ],
          "name": "stdout"
        }
      ]
    },
    {
      "cell_type": "markdown",
      "metadata": {
        "id": "B8bhuUFeZZdN"
      },
      "source": [
        "#### Random Forest Classifier"
      ]
    },
    {
      "cell_type": "code",
      "metadata": {
        "id": "oxfBTMvR17Rf"
      },
      "source": [
        "rfc = RandomForestClassifier()"
      ],
      "execution_count": null,
      "outputs": []
    },
    {
      "cell_type": "code",
      "metadata": {
        "id": "DtzkhzdB100D",
        "colab": {
          "base_uri": "https://localhost:8080/"
        },
        "outputId": "39ccbb2c-565a-4d19-e377-c1b589c950be"
      },
      "source": [
        "rfc.fit(X_train, y_train)"
      ],
      "execution_count": null,
      "outputs": [
        {
          "output_type": "execute_result",
          "data": {
            "text/plain": [
              "RandomForestClassifier(bootstrap=True, ccp_alpha=0.0, class_weight=None,\n",
              "                       criterion='gini', max_depth=None, max_features='auto',\n",
              "                       max_leaf_nodes=None, max_samples=None,\n",
              "                       min_impurity_decrease=0.0, min_impurity_split=None,\n",
              "                       min_samples_leaf=1, min_samples_split=2,\n",
              "                       min_weight_fraction_leaf=0.0, n_estimators=100,\n",
              "                       n_jobs=None, oob_score=False, random_state=None,\n",
              "                       verbose=0, warm_start=False)"
            ]
          },
          "metadata": {
            "tags": []
          },
          "execution_count": 89
        }
      ]
    },
    {
      "cell_type": "code",
      "metadata": {
        "id": "ZVx64p8g2DZQ",
        "colab": {
          "base_uri": "https://localhost:8080/"
        },
        "outputId": "f15d735c-728c-4392-e0d8-4a7b480ffa31"
      },
      "source": [
        "rfc_preds = rfc.predict(X_test)\n",
        "rfc_preds"
      ],
      "execution_count": null,
      "outputs": [
        {
          "output_type": "execute_result",
          "data": {
            "text/plain": [
              "array([1, 0, 1, ..., 4, 3, 4])"
            ]
          },
          "metadata": {
            "tags": []
          },
          "execution_count": 90
        }
      ]
    },
    {
      "cell_type": "code",
      "metadata": {
        "id": "EvQe7bgTZgqQ",
        "colab": {
          "base_uri": "https://localhost:8080/",
          "height": 54
        },
        "outputId": "23effca1-72d8-40fb-db3a-c0628cbd0021"
      },
      "source": [
        "ax= plt.subplot()\n",
        "sns.heatmap(confusion_matrix(y_test, rfc_preds, normalize='true'), annot=True, ax = ax);\n",
        "\n",
        "ax.set_xlabel('Predicted labels');ax.set_ylabel('True labels'); \n",
        "ax.set_title('Confusion Matrix'); \n",
        "ax.xaxis.set_ticklabels(['A', 'B','C','D']); ax.yaxis.set_ticklabels(['A', 'B','C','D']);"
      ],
      "execution_count": null,
      "outputs": [
        {
          "output_type": "display_data",
          "data": {
            "image/png": "[encoded data removed]",
            "text/plain": [
              "<Figure size 432x288 with 2 Axes>"
            ]
          },
          "metadata": {
            "tags": [],
            "needs_background": "light"
          }
        }
      ]
    },
    {
      "cell_type": "code",
      "metadata": {
        "id": "JStUSzfe2YEy",
        "colab": {
          "base_uri": "https://localhost:8080/"
        },
        "outputId": "165e7a85-ad18-4576-f986-676d642fdf1e"
      },
      "source": [
        "print(\"Accuracy Score for Random Forest: \", accuracy_score(y_test, rfc_preds))"
      ],
      "execution_count": null,
      "outputs": [
        {
          "output_type": "stream",
          "text": [
            "Accuracy Score for Random Forest:  0.48834903321765\n"
          ],
          "name": "stdout"
        }
      ]
    },
    {
      "cell_type": "markdown",
      "metadata": {
        "id": "UD1NIUmIV04j"
      },
      "source": [
        "#### KNN Classifier"
      ]
    },
    {
      "cell_type": "code",
      "metadata": {
        "id": "FO-zqcsfV3K-"
      },
      "source": [
        "knn = KNeighborsClassifier(n_neighbors=5)"
      ],
      "execution_count": null,
      "outputs": []
    },
    {
      "cell_type": "code",
      "metadata": {
        "id": "dkbIXqROV3Z7",
        "colab": {
          "base_uri": "https://localhost:8080/"
        },
        "outputId": "7e8a236d-a1c2-497b-fe5b-fa74c1cf504c"
      },
      "source": [
        "knn.fit(X_train, y_train)"
      ],
      "execution_count": null,
      "outputs": [
        {
          "output_type": "execute_result",
          "data": {
            "text/plain": [
              "KNeighborsClassifier(algorithm='auto', leaf_size=30, metric='minkowski',\n",
              "                     metric_params=None, n_jobs=None, n_neighbors=5, p=2,\n",
              "                     weights='uniform')"
            ]
          },
          "metadata": {
            "tags": []
          },
          "execution_count": 94
        }
      ]
    },
    {
      "cell_type": "code",
      "metadata": {
        "id": "N9vi08jbV3eT",
        "colab": {
          "base_uri": "https://localhost:8080/"
        },
        "outputId": "54edfb1e-79d5-4b3e-dbb9-b0b84079ce66"
      },
      "source": [
        "knn_preds = knn.predict(X_test)\n",
        "knn_preds"
      ],
      "execution_count": null,
      "outputs": [
        {
          "output_type": "execute_result",
          "data": {
            "text/plain": [
              "array([1, 1, 3, ..., 0, 3, 4])"
            ]
          },
          "metadata": {
            "tags": []
          },
          "execution_count": 95
        }
      ]
    },
    {
      "cell_type": "code",
      "metadata": {
        "id": "a0HzeViaYeoH",
        "colab": {
          "base_uri": "https://localhost:8080/",
          "height": 54
        },
        "outputId": "00286776-af27-4d0e-f526-d7ca7e8cd80d"
      },
      "source": [
        "ax= plt.subplot()\n",
        "sns.heatmap(confusion_matrix(y_test, knn_preds, normalize='true'), annot=True, ax = ax);\n",
        "\n",
        "\n",
        "ax.set_xlabel('Predicted labels');ax.set_ylabel('True labels'); \n",
        "ax.set_title('Confusion Matrix'); \n",
        "ax.xaxis.set_ticklabels(['A', 'B','C','D']); ax.yaxis.set_ticklabels(['A', 'B','C','D']);"
      ],
      "execution_count": null,
      "outputs": [
        {
          "output_type": "display_data",
          "data": {
            "image/png": "[encoded data removed]",
            "text/plain": [
              "<Figure size 432x288 with 2 Axes>"
            ]
          },
          "metadata": {
            "tags": [],
            "needs_background": "light"
          }
        }
      ]
    },
    {
      "cell_type": "code",
      "metadata": {
        "id": "PSm0QTFid587",
        "colab": {
          "base_uri": "https://localhost:8080/"
        },
        "outputId": "e03a2fc4-7f3d-46b0-c918-bf6ef811b1f4"
      },
      "source": [
        "print(\"Accuracy Score for KNeighborsClassifier: \", accuracy_score(y_test, knn_preds))"
      ],
      "execution_count": null,
      "outputs": [
        {
          "output_type": "stream",
          "text": [
            "Accuracy Score for KNeighborsClassifier:  0.4744670302429351\n"
          ],
          "name": "stdout"
        }
      ]
    },
    {
      "cell_type": "markdown",
      "metadata": {
        "id": "tMfQ9Uy7Z40P"
      },
      "source": [
        "#### SGD Classifier"
      ]
    },
    {
      "cell_type": "code",
      "metadata": {
        "id": "kW7Cc-uY2qY0"
      },
      "source": [
        "sgd=SGDClassifier()"
      ],
      "execution_count": null,
      "outputs": []
    },
    {
      "cell_type": "code",
      "metadata": {
        "id": "mX0aFjzyZ-Jk",
        "colab": {
          "base_uri": "https://localhost:8080/"
        },
        "outputId": "b95a20bb-c0b5-4843-ab9c-87bfb422847a"
      },
      "source": [
        "sgd.fit(X_train, y_train)"
      ],
      "execution_count": null,
      "outputs": [
        {
          "output_type": "execute_result",
          "data": {
            "text/plain": [
              "SGDClassifier(alpha=0.0001, average=False, class_weight=None,\n",
              "              early_stopping=False, epsilon=0.1, eta0=0.0, fit_intercept=True,\n",
              "              l1_ratio=0.15, learning_rate='optimal', loss='hinge',\n",
              "              max_iter=1000, n_iter_no_change=5, n_jobs=None, penalty='l2',\n",
              "              power_t=0.5, random_state=None, shuffle=True, tol=0.001,\n",
              "              validation_fraction=0.1, verbose=0, warm_start=False)"
            ]
          },
          "metadata": {
            "tags": []
          },
          "execution_count": 99
        }
      ]
    },
    {
      "cell_type": "code",
      "metadata": {
        "id": "t4JLAZ7DaA2n",
        "colab": {
          "base_uri": "https://localhost:8080/"
        },
        "outputId": "c373d4d7-9ca8-4a41-a43f-9014a347ac81"
      },
      "source": [
        "sgd_preds = sgd.predict(X_test)\n",
        "sgd_preds"
      ],
      "execution_count": null,
      "outputs": [
        {
          "output_type": "execute_result",
          "data": {
            "text/plain": [
              "array([3, 3, 3, ..., 4, 3, 4])"
            ]
          },
          "metadata": {
            "tags": []
          },
          "execution_count": 100
        }
      ]
    },
    {
      "cell_type": "code",
      "metadata": {
        "id": "5kkjWptS227Q",
        "colab": {
          "base_uri": "https://localhost:8080/",
          "height": 54
        },
        "outputId": "2eab889e-f07c-4da1-eb43-42e1535b22bb"
      },
      "source": [
        "ax= plt.subplot()\n",
        "sns.heatmap(confusion_matrix(y_test, knn_preds, normalize='true'), annot=True, ax = ax);\n",
        "\n",
        "\n",
        "ax.set_xlabel('Predicted labels');ax.set_ylabel('True labels'); \n",
        "ax.set_title('Confusion Matrix'); \n",
        "ax.xaxis.set_ticklabels(['A', 'B','C','D']); ax.yaxis.set_ticklabels(['A', 'B','C','D']);"
      ],
      "execution_count": null,
      "outputs": [
        {
          "output_type": "display_data",
          "data": {
            "image/png": "[encoded data removed]",
            "text/plain": [
              "<Figure size 432x288 with 2 Axes>"
            ]
          },
          "metadata": {
            "tags": [],
            "needs_background": "light"
          }
        }
      ]
    },
    {
      "cell_type": "code",
      "metadata": {
        "id": "__T7KNpW3ECx",
        "colab": {
          "base_uri": "https://localhost:8080/"
        },
        "outputId": "6ee50e53-873b-460f-9e89-582c65807afc"
      },
      "source": [
        "print(\"Accuracy Score for SGDClassifier: \", accuracy_score(y_test, sgd_preds))"
      ],
      "execution_count": null,
      "outputs": [
        {
          "output_type": "stream",
          "text": [
            "Accuracy Score for SGDClassifier:  0.47248388696083293\n"
          ],
          "name": "stdout"
        }
      ]
    },
    {
      "cell_type": "markdown",
      "metadata": {
        "id": "fxeFRdEGPnp_"
      },
      "source": [
        "### Stacking Classifier"
      ]
    },
    {
      "cell_type": "code",
      "metadata": {
        "id": "NacZ34FxsSt-"
      },
      "source": [
        "def evaluate_model(model, X, y):\n",
        "    cv = RepeatedStratifiedKFold(n_splits=5, n_repeats=2, random_state=9000)\n",
        "    scores = cross_val_score(model, X, y, scoring='accuracy', cv=cv, n_jobs=-1)\n",
        "    return scores"
      ],
      "execution_count": null,
      "outputs": []
    },
    {
      "cell_type": "code",
      "metadata": {
        "id": "V6Mc0W9rsa9h"
      },
      "source": [
        "# Define the stack_ls ( Contain all the Classification models )\n",
        "stack_ls = [\n",
        "            (\"lr\",  LogisticRegression()),\n",
        "            (\"knn\", KNeighborsClassifier()),\n",
        "            (\"dt\", DecisionTreeClassifier()),\n",
        "            ('rfr', RandomForestClassifier()),\n",
        "            ('sgd', SGDClassifier())]\n",
        "\n",
        "stack_model = StackingClassifier(stack_ls, cv=5)\n",
        "\n",
        "models = {\n",
        "    \"lr\": LogisticRegression(),\n",
        "    \"knn\": KNeighborsClassifier(),\n",
        "    \"dt\": DecisionTreeClassifier(),\n",
        "    \"rfr\" : RandomForestClassifier(),\n",
        "    'sgd': SGDClassifier(),\n",
        "    \"stacked\": stack_model\n",
        "}"
      ],
      "execution_count": null,
      "outputs": []
    },
    {
      "cell_type": "markdown",
      "metadata": {
        "id": "5x3-c3D25gbq"
      },
      "source": [
        "\n",
        "\n",
        "Compare between Classfication Models"
      ]
    },
    {
      "cell_type": "code",
      "metadata": {
        "id": "sNHMsCrzQ2Fc",
        "colab": {
          "base_uri": "https://localhost:8080/"
        },
        "outputId": "49ef9217-3e3b-43ce-c30e-6f4798c633ba"
      },
      "source": [
        "# Evaluate All Models\n",
        "result_ls = []\n",
        "model_ls = []\n",
        "\n",
        "# Iterate over models dict and evaluate each seprately\n",
        "for key, value in models.items():\n",
        "\n",
        "    # gather scores KFold cross validation scores\n",
        "    score = evaluate_model(value, X, y)\n",
        "    result_ls.append(score) # save results\n",
        "    model_ls.append(key) # save model name\n",
        "    print(f\"Model: {key}, Score: {np.mean(score)}\")"
      ],
      "execution_count": null,
      "outputs": [
        {
          "output_type": "stream",
          "text": [
            "Model: lr, Score: 0.5065689168934869\n",
            "Model: knn, Score: 0.47552061126642187\n",
            "Model: dt, Score: 0.4350509068588474\n",
            "Model: rfr, Score: 0.4889682728082165\n",
            "Model: sgd, Score: 0.47663569925581417\n",
            "Model: stacked, Score: 0.5217518981079227\n"
          ],
          "name": "stdout"
        }
      ]
    },
    {
      "cell_type": "code",
      "metadata": {
        "id": "OqKakr7mQ4up",
        "colab": {
          "base_uri": "https://localhost:8080/",
          "height": 533
        },
        "outputId": "0e39058c-7bb3-4b5a-fbc2-0a63829af351"
      },
      "source": [
        "plt.style.use(\"seaborn-pastel\")\n",
        "plt.figure(figsize=(10,8))\n",
        "plt.boxplot(result_ls, labels=model_ls, showmeans=True)\n",
        "plt.title(\"Cross Val Scores of Each Base Model and Stacked Model\")\n",
        "plt.xlabel(\"Model\")\n",
        "plt.axhline(accuracy_score(y_test,baseline_preds), linestyle=\"--\", c=\"r\", label=\"Baseline\")\n",
        "plt.legend()\n",
        "plt.ylabel(\"Accuracy\");\n",
        "plt.savefig(\"Compar models.png\")"
      ],
      "execution_count": null,
      "outputs": [
        {
          "output_type": "display_data",
          "data": {
            "image/png": "[encoded data removed]",
            "text/plain": [
              "<Figure size 720x576 with 1 Axes>"
            ]
          },
          "metadata": {
            "tags": [],
            "needs_background": "light"
          }
        }
      ]
    },
    {
      "cell_type": "markdown",
      "metadata": {
        "id": "FqJ9rAQRu285"
      },
      "source": [
        "As it’s shown in the chart:\n",
        "- The best score Stack model is **0.5212563888050236**\n",
        "- The worst score is Decision Tree is **0.4367858040041761** \n"
      ]
    },
    {
      "cell_type": "markdown",
      "metadata": {
        "id": "V4Ezw9XeuhzH"
      },
      "source": [
        "### Optmize the model:"
      ]
    },
    {
      "cell_type": "markdown",
      "metadata": {
        "id": "Ct5bBW9AwnzR"
      },
      "source": [
        "The best model is stack model , try to improve it."
      ]
    },
    {
      "cell_type": "code",
      "metadata": {
        "id": "GJhtS6TDTH6S",
        "colab": {
          "base_uri": "https://localhost:8080/"
        },
        "outputId": "0c94a9bd-2ced-4656-d99a-8b9d6a277137"
      },
      "source": [
        "# check the list of available parameters for Grid Search CV \n",
        "for key in stack_model.get_params():\n",
        "    print(key)"
      ],
      "execution_count": null,
      "outputs": [
        {
          "output_type": "stream",
          "text": [
            "cv\n",
            "estimators\n",
            "final_estimator\n",
            "n_jobs\n",
            "passthrough\n",
            "stack_method\n",
            "verbose\n",
            "lr\n",
            "knn\n",
            "dt\n",
            "rfr\n",
            "sgd\n",
            "lr__C\n",
            "lr__class_weight\n",
            "lr__dual\n",
            "lr__fit_intercept\n",
            "lr__intercept_scaling\n",
            "lr__l1_ratio\n",
            "lr__max_iter\n",
            "lr__multi_class\n",
            "lr__n_jobs\n",
            "lr__penalty\n",
            "lr__random_state\n",
            "lr__solver\n",
            "lr__tol\n",
            "lr__verbose\n",
            "lr__warm_start\n",
            "knn__algorithm\n",
            "knn__leaf_size\n",
            "knn__metric\n",
            "knn__metric_params\n",
            "knn__n_jobs\n",
            "knn__n_neighbors\n",
            "knn__p\n",
            "knn__weights\n",
            "dt__ccp_alpha\n",
            "dt__class_weight\n",
            "dt__criterion\n",
            "dt__max_depth\n",
            "dt__max_features\n",
            "dt__max_leaf_nodes\n",
            "dt__min_impurity_decrease\n",
            "dt__min_impurity_split\n",
            "dt__min_samples_leaf\n",
            "dt__min_samples_split\n",
            "dt__min_weight_fraction_leaf\n",
            "dt__presort\n",
            "dt__random_state\n",
            "dt__splitter\n",
            "rfr__bootstrap\n",
            "rfr__ccp_alpha\n",
            "rfr__class_weight\n",
            "rfr__criterion\n",
            "rfr__max_depth\n",
            "rfr__max_features\n",
            "rfr__max_leaf_nodes\n",
            "rfr__max_samples\n",
            "rfr__min_impurity_decrease\n",
            "rfr__min_impurity_split\n",
            "rfr__min_samples_leaf\n",
            "rfr__min_samples_split\n",
            "rfr__min_weight_fraction_leaf\n",
            "rfr__n_estimators\n",
            "rfr__n_jobs\n",
            "rfr__oob_score\n",
            "rfr__random_state\n",
            "rfr__verbose\n",
            "rfr__warm_start\n",
            "sgd__alpha\n",
            "sgd__average\n",
            "sgd__class_weight\n",
            "sgd__early_stopping\n",
            "sgd__epsilon\n",
            "sgd__eta0\n",
            "sgd__fit_intercept\n",
            "sgd__l1_ratio\n",
            "sgd__learning_rate\n",
            "sgd__loss\n",
            "sgd__max_iter\n",
            "sgd__n_iter_no_change\n",
            "sgd__n_jobs\n",
            "sgd__penalty\n",
            "sgd__power_t\n",
            "sgd__random_state\n",
            "sgd__shuffle\n",
            "sgd__tol\n",
            "sgd__validation_fraction\n",
            "sgd__verbose\n",
            "sgd__warm_start\n"
          ],
          "name": "stdout"
        }
      ]
    },
    {
      "cell_type": "markdown",
      "metadata": {
        "id": "ehV3rPfC2IKQ"
      },
      "source": [
        "Add avalibile parameters to Grid Search CV"
      ]
    },
    {
      "cell_type": "code",
      "metadata": {
        "id": "C6I8jRgLSgnj"
      },
      "source": [
        "param_grid = {\n",
        "   \n",
        "    \"dt__criterion\": [\"gini\", \"entropy\"], \n",
        "    \"lr__solver\": [\"lbfgs\", \"liblinear\"],                        \n",
        "    'rfr__criterion':[\"gini\", \"entropy\"],  \n",
        "     \"knn__n_neighbors\": [5,10], \n",
        "     \"sgd__max_iter\":[1000,1500]  \n",
        "}\n",
        "\n",
        "grid_model = GridSearchCV(estimator=stack_model, param_grid=param_grid, cv=5, scoring=\"accuracy\", n_jobs=-1, verbose=2)\n"
      ],
      "execution_count": null,
      "outputs": []
    },
    {
      "cell_type": "code",
      "metadata": {
        "id": "8r64eHEtTGUt",
        "colab": {
          "base_uri": "https://localhost:8080/"
        },
        "outputId": "d2909dbb-65da-4cce-b6a0-c4b8ec6e4275"
      },
      "source": [
        "grid_model.fit(X,y) # fit the grid"
      ],
      "execution_count": null,
      "outputs": [
        {
          "output_type": "stream",
          "text": [
            "Fitting 5 folds for each of 32 candidates, totalling 160 fits\n"
          ],
          "name": "stdout"
        },
        {
          "output_type": "stream",
          "text": [
            "[Parallel(n_jobs=-1)]: Using backend LokyBackend with 2 concurrent workers.\n",
            "[Parallel(n_jobs=-1)]: Done  37 tasks      | elapsed:  4.0min\n",
            "[Parallel(n_jobs=-1)]: Done 160 out of 160 | elapsed: 16.7min finished\n"
          ],
          "name": "stderr"
        },
        {
          "output_type": "execute_result",
          "data": {
            "text/plain": [
              "GridSearchCV(cv=5, error_score=nan,\n",
              "             estimator=StackingClassifier(cv=5,\n",
              "                                          estimators=[('lr',\n",
              "                                                       LogisticRegression(C=1.0,\n",
              "                                                                          class_weight=None,\n",
              "                                                                          dual=False,\n",
              "                                                                          fit_intercept=True,\n",
              "                                                                          intercept_scaling=1,\n",
              "                                                                          l1_ratio=None,\n",
              "                                                                          max_iter=100,\n",
              "                                                                          multi_class='auto',\n",
              "                                                                          n_jobs=None,\n",
              "                                                                          penalty='l2',\n",
              "                                                                          random_state=None,\n",
              "                                                                          solver='lbfgs',\n",
              "                                                                          tol=0.0001,\n",
              "                                                                          verbose=0,\n",
              "                                                                          warm_start=False)),\n",
              "                                                      ('knn',\n",
              "                                                       KNeighborsClassifier...\n",
              "                                          final_estimator=None, n_jobs=None,\n",
              "                                          passthrough=False,\n",
              "                                          stack_method='auto', verbose=0),\n",
              "             iid='deprecated', n_jobs=-1,\n",
              "             param_grid={'dt__criterion': ['gini', 'entropy'],\n",
              "                         'knn__n_neighbors': [5, 10],\n",
              "                         'lr__solver': ['lbfgs', 'liblinear'],\n",
              "                         'rfr__criterion': ['gini', 'entropy'],\n",
              "                         'sgd__max_iter': [1000, 1500]},\n",
              "             pre_dispatch='2*n_jobs', refit=True, return_train_score=False,\n",
              "             scoring='accuracy', verbose=2)"
            ]
          },
          "metadata": {
            "tags": []
          },
          "execution_count": 117
        }
      ]
    },
    {
      "cell_type": "code",
      "metadata": {
        "id": "8iX315n3bYIX",
        "colab": {
          "base_uri": "https://localhost:8080/"
        },
        "outputId": "2d99aece-e14a-478a-e3f2-989a052fb0d2"
      },
      "source": [
        "print(\"Grid model score: \", grid_model.best_score_) "
      ],
      "execution_count": null,
      "outputs": [
        {
          "output_type": "stream",
          "text": [
            "Grid model score:  0.5288825842692313\n"
          ],
          "name": "stdout"
        }
      ]
    },
    {
      "cell_type": "code",
      "metadata": {
        "id": "XD_Nf8kbb0yO",
        "colab": {
          "base_uri": "https://localhost:8080/"
        },
        "outputId": "9946a823-abe7-46ea-e913-b1b3311f6214"
      },
      "source": [
        "print(\"Best params: \", grid_model.best_params_)"
      ],
      "execution_count": null,
      "outputs": [
        {
          "output_type": "stream",
          "text": [
            "Best params:  {'dt__criterion': 'gini', 'knn__n_neighbors': 10, 'lr__solver': 'lbfgs', 'rfr__criterion': 'gini', 'sgd__max_iter': 1500}\n"
          ],
          "name": "stdout"
        }
      ]
    },
    {
      "cell_type": "code",
      "metadata": {
        "id": "HwTCfIoqcDX1"
      },
      "source": [
        "# Pull out best model CV results to plot alongside all models tested\n",
        "grid_df = pd.DataFrame(grid_model.cv_results_)"
      ],
      "execution_count": null,
      "outputs": []
    },
    {
      "cell_type": "code",
      "metadata": {
        "id": "Df6fCXYCfV22",
        "colab": {
          "base_uri": "https://localhost:8080/",
          "height": 389
        },
        "outputId": "019a699b-d489-4748-f247-2e2dab9124f8"
      },
      "source": [
        "grid_df.head(4)"
      ],
      "execution_count": null,
      "outputs": [
        {
          "output_type": "execute_result",
          "data": {
            "text/html": [
              "<div>\n",
              "<style scoped>\n",
              "    .dataframe tbody tr th:only-of-type {\n",
              "        vertical-align: middle;\n",
              "    }\n",
              "\n",
              "    .dataframe tbody tr th {\n",
              "        vertical-align: top;\n",
              "    }\n",
              "\n",
              "    .dataframe thead th {\n",
              "        text-align: right;\n",
              "    }\n",
              "</style>\n",
              "<table border=\"1\" class=\"dataframe\">\n",
              "  <thead>\n",
              "    <tr style=\"text-align: right;\">\n",
              "      <th></th>\n",
              "      <th>mean_fit_time</th>\n",
              "      <th>std_fit_time</th>\n",
              "      <th>mean_score_time</th>\n",
              "      <th>std_score_time</th>\n",
              "      <th>param_dt__criterion</th>\n",
              "      <th>param_knn__n_neighbors</th>\n",
              "      <th>param_lr__solver</th>\n",
              "      <th>param_rfr__criterion</th>\n",
              "      <th>param_sgd__max_iter</th>\n",
              "      <th>params</th>\n",
              "      <th>split0_test_score</th>\n",
              "      <th>split1_test_score</th>\n",
              "      <th>split2_test_score</th>\n",
              "      <th>split3_test_score</th>\n",
              "      <th>split4_test_score</th>\n",
              "      <th>mean_test_score</th>\n",
              "      <th>std_test_score</th>\n",
              "      <th>rank_test_score</th>\n",
              "    </tr>\n",
              "  </thead>\n",
              "  <tbody>\n",
              "    <tr>\n",
              "      <th>0</th>\n",
              "      <td>12.274022</td>\n",
              "      <td>0.064713</td>\n",
              "      <td>0.295417</td>\n",
              "      <td>0.004773</td>\n",
              "      <td>gini</td>\n",
              "      <td>5</td>\n",
              "      <td>lbfgs</td>\n",
              "      <td>gini</td>\n",
              "      <td>1000</td>\n",
              "      <td>{'dt__criterion': 'gini', 'knn__n_neighbors': ...</td>\n",
              "      <td>0.534696</td>\n",
              "      <td>0.509913</td>\n",
              "      <td>0.491326</td>\n",
              "      <td>0.525108</td>\n",
              "      <td>0.518909</td>\n",
              "      <td>0.515991</td>\n",
              "      <td>0.014743</td>\n",
              "      <td>32</td>\n",
              "    </tr>\n",
              "    <tr>\n",
              "      <th>1</th>\n",
              "      <td>12.303123</td>\n",
              "      <td>0.060227</td>\n",
              "      <td>0.297902</td>\n",
              "      <td>0.007780</td>\n",
              "      <td>gini</td>\n",
              "      <td>5</td>\n",
              "      <td>lbfgs</td>\n",
              "      <td>gini</td>\n",
              "      <td>1500</td>\n",
              "      <td>{'dt__criterion': 'gini', 'knn__n_neighbors': ...</td>\n",
              "      <td>0.534077</td>\n",
              "      <td>0.527261</td>\n",
              "      <td>0.499380</td>\n",
              "      <td>0.532548</td>\n",
              "      <td>0.515809</td>\n",
              "      <td>0.521815</td>\n",
              "      <td>0.012920</td>\n",
              "      <td>10</td>\n",
              "    </tr>\n",
              "    <tr>\n",
              "      <th>2</th>\n",
              "      <td>13.829660</td>\n",
              "      <td>0.062788</td>\n",
              "      <td>0.291779</td>\n",
              "      <td>0.003564</td>\n",
              "      <td>gini</td>\n",
              "      <td>5</td>\n",
              "      <td>lbfgs</td>\n",
              "      <td>entropy</td>\n",
              "      <td>1000</td>\n",
              "      <td>{'dt__criterion': 'gini', 'knn__n_neighbors': ...</td>\n",
              "      <td>0.536555</td>\n",
              "      <td>0.516109</td>\n",
              "      <td>0.499380</td>\n",
              "      <td>0.528828</td>\n",
              "      <td>0.514569</td>\n",
              "      <td>0.519088</td>\n",
              "      <td>0.012788</td>\n",
              "      <td>25</td>\n",
              "    </tr>\n",
              "    <tr>\n",
              "      <th>3</th>\n",
              "      <td>14.045423</td>\n",
              "      <td>0.033372</td>\n",
              "      <td>0.295685</td>\n",
              "      <td>0.004976</td>\n",
              "      <td>gini</td>\n",
              "      <td>5</td>\n",
              "      <td>lbfgs</td>\n",
              "      <td>entropy</td>\n",
              "      <td>1500</td>\n",
              "      <td>{'dt__criterion': 'gini', 'knn__n_neighbors': ...</td>\n",
              "      <td>0.532218</td>\n",
              "      <td>0.521685</td>\n",
              "      <td>0.490706</td>\n",
              "      <td>0.531928</td>\n",
              "      <td>0.518909</td>\n",
              "      <td>0.519089</td>\n",
              "      <td>0.015163</td>\n",
              "      <td>24</td>\n",
              "    </tr>\n",
              "  </tbody>\n",
              "</table>\n",
              "</div>"
            ],
            "text/plain": [
              "   mean_fit_time  std_fit_time  ...  std_test_score  rank_test_score\n",
              "0      12.274022      0.064713  ...        0.014743               32\n",
              "1      12.303123      0.060227  ...        0.012920               10\n",
              "2      13.829660      0.062788  ...        0.012788               25\n",
              "3      14.045423      0.033372  ...        0.015163               24\n",
              "\n",
              "[4 rows x 18 columns]"
            ]
          },
          "metadata": {
            "tags": []
          },
          "execution_count": 122
        }
      ]
    },
    {
      "cell_type": "code",
      "metadata": {
        "id": "Fm5s7sMVfSFO"
      },
      "source": [
        "grid_cv_score_best = grid_df[grid_df[\"rank_test_score\"]==1].loc[:,\"split0_test_score\":\"split4_test_score\"].T[9].values"
      ],
      "execution_count": null,
      "outputs": []
    },
    {
      "cell_type": "code",
      "metadata": {
        "id": "_EMA4bUTfMHT",
        "colab": {
          "base_uri": "https://localhost:8080/"
        },
        "outputId": "6e5ff7ad-1b32-4ea2-b256-d6903ca59652"
      },
      "source": [
        "print(\"The score of grid cv stack model: \", grid_cv_score_best)"
      ],
      "execution_count": null,
      "outputs": [
        {
          "output_type": "stream",
          "text": [
            "The score of grid cv stack model:  [0.54399009 0.52664188 0.4913259  0.54246745 0.5399876 ]\n"
          ],
          "name": "stdout"
        }
      ]
    },
    {
      "cell_type": "code",
      "metadata": {
        "id": "t-80gfoccNdZ"
      },
      "source": [
        "# Add results to running list of other model scores\n",
        "result_ls.append(grid_cv_score_best)\n",
        "model_ls.append(\"grid\")"
      ],
      "execution_count": null,
      "outputs": []
    },
    {
      "cell_type": "code",
      "metadata": {
        "id": "enAUIx_6cQVD",
        "colab": {
          "base_uri": "https://localhost:8080/",
          "height": 554
        },
        "outputId": "7bf7b910-5a6a-4774-84ef-8f430b5c8f7a"
      },
      "source": [
        "# plot results\n",
        "plt.style.use(\"seaborn-whitegrid\")\n",
        "plt.tight_layout()\n",
        "plt.figure(figsize=(10,8))\n",
        "plt.boxplot(result_ls, labels=model_ls, showmeans=True)\n",
        "plt.title(\"Cross Val Scores of Each Base Model, Stacked Model, and Best Tuned Stacked Model\", fontsize=\"xx-large\")\n",
        "plt.xlabel(\"Model\", fontsize=\"x-large\")\n",
        "plt.xticks(fontsize=\"large\")\n",
        "plt.yticks(fontsize=\"large\")\n",
        "plt.axhline(accuracy_score(y_test,baseline_preds), linestyle=\"--\", c=\"r\", label=\"Baseline Model\")\n",
        "plt.legend()\n",
        "plt.ylabel(\"Accuracy\", fontsize=\"x-large\")\n",
        "plt.grid(b=None, axis=\"x\")\n",
        "plt.savefig(\"compare models with grid.png\", dpi=150);"
      ],
      "execution_count": null,
      "outputs": [
        {
          "output_type": "display_data",
          "data": {
            "text/plain": [
              "<Figure size 432x288 with 0 Axes>"
            ]
          },
          "metadata": {
            "tags": []
          }
        },
        {
          "output_type": "display_data",
          "data": {
            "image/png": "[encoded data removed]",
            "text/plain": [
              "<Figure size 720x576 with 1 Axes>"
            ]
          },
          "metadata": {
            "tags": []
          }
        }
      ]
    },
    {
      "cell_type": "markdown",
      "metadata": {
        "id": "gT0Jz3jG4ovq"
      },
      "source": [
        "As it’s shown in the chart:\n",
        "- The Accuracy after apply the Grid Search CV is increased, So the best score is Stack model with Grid Search CV is **0.5288825842692313**\n",
        " "
      ]
    }
  ]
}